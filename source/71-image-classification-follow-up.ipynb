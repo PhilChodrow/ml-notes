{
  "cells": [
    {
      "cell_type": "markdown",
      "metadata": {
        "id": "z7s_hnQ2l325"
      },
      "source": [
        "# Deep Image Classification\n",
        "\n",
        "In this set of lecture notes, we'll work through an applied case study of deep learning for image classification. Like [our last adventure with an image classification task](51-vectorization.ipynb), we'll focus on sign-language classification using convolutional kernels. This time, however, we won't take the kernels as given. Instead, we'll attempt to optimize the kernels as part of the learning process.\n",
        "\n",
        "Along the way, we'll also study some of the practicalities of working with larger models in torch, including model inspection, GPU acceleration, and data set management."
      ]
    },
    {
      "cell_type": "code",
      "execution_count": null,
      "metadata": {
        "id": "wBq0PcrEl326"
      },
      "outputs": [],
      "source": [
        "!pip install torchviz\n",
        "import torch\n",
        "import pandas as pd\n",
        "from matplotlib import pyplot as plt\n",
        "import matplotlib.ticker as mtick\n",
        "from torch.nn import Conv2d, MaxPool2d, Parameter\n",
        "from torch.nn.functional import relu\n",
        "from torchviz import make_dot, make_dot_from_trace\n",
        "from torchvision import models\n",
        "from sklearn.metrics import confusion_matrix"
      ]
    },
    {
      "cell_type": "markdown",
      "metadata": {
        "id": "Zv9my41sVgr5"
      },
      "source": [
        "## A Note On Chips\n",
        "\n",
        "As we've seen from the last several lectures, deep learning models involve a **lot** of linear algebra in order to compute predictions and gradients. This means that deep models, even more than many other machine learning models, strongly benefit from hardware that is good at doing linear algebra *fast*. As it happens, graphics processing units (GPUs) are very, very good at fast linear algebra. [The reason that GPUs are so good at this is that they were originally optimized for rendering complex graphics in e.g. animation and video games, and this involves lots of linear algebra.]{.aside} So, it's very helpful when running our models to have access to GPUs; using a GPU can often result in up to 10x speedups. While some folks can use GPUs on their personal laptops, another common option for learning purposes is to use a cloud-hosted GPU. My personal recommendation is Google Colab, and I'll supply links that allow you to open lecture notes in Colab and use their GPU runtimes.\n",
        "\n",
        "The following torch code checks whether there is a GPU available to Python, and if so, sets a variable called `device` to log this fact. We'll make sure that both our data and our models fully live on the same device when doing model training."
      ]
    },
    {
      "cell_type": "code",
      "execution_count": 2,
      "metadata": {
        "colab": {
          "base_uri": "https://localhost:8080/"
        },
        "id": "chk-n7PeVgr5",
        "outputId": "3bed028b-b231-4983-ef62-c1cc793a8c39"
      },
      "outputs": [
        {
          "name": "stdout",
          "output_type": "stream",
          "text": [
            "Running on cuda.\n"
          ]
        }
      ],
      "source": [
        "\n",
        "device = \"cuda\" if torch.cuda.is_available() else \"cpu\"\n",
        "print(f\"Running on {device}.\")\n"
      ]
    },
    {
      "cell_type": "markdown",
      "metadata": {
        "id": "0eCvJiMmVgr5"
      },
      "source": [
        "Now let's acquire our data and convert it into a tensor format. We'll continue to work on the [Sign Language MNIST](https://www.kaggle.com/datasets/datamunge/sign-language-mnist) data set, which I retrieved from Kaggle. Our aim is still to train a model that can predict the letter represented by an image of a hand gesture."
      ]
    },
    {
      "cell_type": "code",
      "execution_count": 3,
      "metadata": {
        "id": "k4VUxE3RmWK-"
      },
      "outputs": [],
      "source": [
        "train_url = \"https://raw.githubusercontent.com/PhilChodrow/ml-notes/main/data/sign-language-mnist/sign_mnist_train.csv\"\n",
        "test_url = \"https://raw.githubusercontent.com/PhilChodrow/ml-notes/main/data/sign-language-mnist/sign_mnist_test.csv\"\n",
        "\n",
        "df_train = pd.read_csv(train_url)\n",
        "df_val   = pd.read_csv(test_url)\n",
        "\n",
        "def prep_data(df):\n",
        "    n, p = df.shape[0], df.shape[1] - 1\n",
        "    y = torch.tensor(df[\"label\"].values)\n",
        "    X = df.drop([\"label\"], axis = 1)\n",
        "    X = torch.tensor(X.values)\n",
        "    X = torch.reshape(X, (n, 1, 28, 28))\n",
        "    X = X / 255\n",
        "\n",
        "    # important: move the data to GPU if available\n",
        "    X, y = X.to(device), y.to(device)\n",
        "\n",
        "    return X, y\n",
        "\n",
        "X_train, y_train = prep_data(df_train)\n",
        "X_val, y_val     = prep_data(df_val)"
      ]
    },
    {
      "cell_type": "markdown",
      "metadata": {
        "id": "sqZiTg7GVgr5"
      },
      "source": [
        "Like last time, our data is essentially a big stack of images:"
      ]
    },
    {
      "cell_type": "code",
      "execution_count": 4,
      "metadata": {
        "colab": {
          "base_uri": "https://localhost:8080/"
        },
        "id": "yNSzFLzmVgr5",
        "outputId": "6c3978d6-74ae-4c56-fb8e-60fcf38fb0cc"
      },
      "outputs": [
        {
          "data": {
            "text/plain": [
              "torch.Size([27455, 1, 28, 28])"
            ]
          },
          "execution_count": 4,
          "metadata": {},
          "output_type": "execute_result"
        }
      ],
      "source": [
        "X_train.size() # (num_images, num_color_channels, num_vertical_pixels, num_horizontal_pixels)"
      ]
    },
    {
      "cell_type": "markdown",
      "metadata": {
        "id": "IofFHQsxVgr5"
      },
      "source": [
        "Here are a few excerpts from the data."
      ]
    },
    {
      "cell_type": "code",
      "execution_count": 5,
      "metadata": {
        "colab": {
          "base_uri": "https://localhost:8080/",
          "height": 1000
        },
        "id": "XYMpmt6Ql327",
        "outputId": "4f1952c8-85b7-4e71-c81c-4483d82f759b"
      },
      "outputs": [
        {
          "data": {
            "image/png": "[encoded data removed]",
            "text/plain": [
              "<Figure size 1000x1000 with 25 Axes>"
            ]
          },
          "metadata": {},
          "output_type": "display_data"
        }
      ],
      "source": [
        "ALPHABET = \"ABCDEFGHIJKLMNOPQRSTUVWXYZ\"\n",
        "\n",
        "def show_images(X, y, rows, cols, channel = 0):\n",
        "\n",
        "    fig, axarr = plt.subplots(rows, cols, figsize = (2*cols, 2*rows))\n",
        "    for i, ax in enumerate(axarr.ravel()):\n",
        "        ax.imshow(X[i, channel].detach().cpu(), cmap = \"Greys_r\")\n",
        "        ax.set(title = f\"{ALPHABET[y[i]]}\")\n",
        "        ax.axis(\"off\")\n",
        "    plt.tight_layout()\n",
        "\n",
        "show_images(X_train, y_train, 5, 5)"
      ]
    },
    {
      "cell_type": "markdown",
      "metadata": {
        "id": "n_XN06nDVgr5"
      },
      "source": [
        "## Data Loaders\n",
        "\n",
        "A *data loader* is an iterator that allows us to retrieve small pieces (\"batches\") of the data set. This is very convenient for stochastic gradient descent -- we get the piece of the data that we want, compute the loss, compute the gradients, take an optimization step, and then get the next piece of data. Let's put both our training and validation sets into data loaders."
      ]
    },
    {
      "cell_type": "code",
      "execution_count": 6,
      "metadata": {
        "id": "_h7FmTtbl327"
      },
      "outputs": [],
      "source": [
        "data_loader_train = torch.utils.data.DataLoader(\n",
        "    torch.utils.data.TensorDataset(X_train, y_train),\n",
        "    batch_size = 32,\n",
        "    shuffle = True\n",
        ")\n",
        "\n",
        "data_loader_val = torch.utils.data.DataLoader(\n",
        "    torch.utils.data.TensorDataset(X_val, y_val),\n",
        "    batch_size = 32,\n",
        "    shuffle = True\n",
        ")"
      ]
    },
    {
      "cell_type": "markdown",
      "metadata": {
        "id": "2e35sqBiVgr6"
      },
      "source": [
        "Here's an example of retrieving a batch of training data from the training data loader:"
      ]
    },
    {
      "cell_type": "code",
      "execution_count": 7,
      "metadata": {
        "colab": {
          "base_uri": "https://localhost:8080/"
        },
        "id": "RFxuJrsPVgr6",
        "outputId": "1b9b70ff-bd72-40e9-ab63-87cfea1991b6"
      },
      "outputs": [
        {
          "name": "stdout",
          "output_type": "stream",
          "text": [
            "torch.Size([32, 1, 28, 28]) torch.Size([32])\n"
          ]
        }
      ],
      "source": [
        "X, y = next(iter(data_loader_train))\n",
        "print(X.size(), y.size())"
      ]
    },
    {
      "cell_type": "markdown",
      "metadata": {
        "id": "X3oNCwFiVgr6"
      },
      "source": [
        "We most frequently work with data loaders via loops:\n",
        "\n",
        "```python\n",
        "for X, y in data_loader_train:\n",
        "    #...\n",
        "```\n",
        "\n",
        "An additional benefit of data loaders is that they can perform arbitrary operations in order to return data batches, including reading files from disk. So, if your overall data set is too large to hold in memory, you can write a custom data loader that reads in a batch of files, operates on them in some way, and returns the result to you as a tensor."
      ]
    },
    {
      "cell_type": "markdown",
      "metadata": {
        "id": "YzTbZ-5il327"
      },
      "source": [
        "### Interlude: Multiclass Classification\n",
        "\n",
        "We're actually now making our first formal study of a multiclass classification problem, in which we are trying to distinguish data observations into more than two possible categories. Whereas before we didn't really comment on the specific structure of this problem, here we need to build up a model from scratch and therefore need to understand how it works!\n",
        "\n",
        "Typically, classification models return a score *for each class*. Then, the class with the highest score is usually considered to be the model's prediction. This means that the score function should actually return a *vector* of scores for each data observation.\n",
        "\n",
        "In order to make this happen for a single-layer model, we move from a matrix-vector multiplication $\\mathbf{X}\\mathbf{w}$ to a matrix-matrix multiplication $\\mathbf{X}\\mathbf{W}$, where $\\mathbf{W} \\in \\mathbb{R}^{p \\times r}$ has number of rows equal to the number of features and number of columns equal to the number of classes.\n",
        "\n",
        "More generally, we can define our model in any way we like, as long as it returns a vector of scores for each data observation.\n",
        "\n",
        "It is also necessary to modify the loss function for classification models. Instead of the binary cross entropy, we need to define a multiclass generalization. The most common choice of per-observation loss function between a vector of class scores $\\mathbf{s} \\in \\mathbb{R}^r$ and the true label $y_i$ is\n",
        "\n",
        "$$\n",
        "\\ell(\\mathbf{s}_i, y_i) = \\sum_{j = 1}^r \\mathbb{1}[y_i = j]\\log\\left(\\frac{e^{s_{ij}}}{\\sum_{k = 1}^r e^{s_{ik}}}\\right)\n",
        "$$\n",
        "\n",
        "The function\n",
        "\n",
        "$$\n",
        "\\mathrm{softmax}(\\mathbf{s}) = \\left(\\begin{matrix}\n",
        "    \\frac{e^{s_1}}{\\sum_{j = 1}^r e^{s_j}} \\\\\n",
        "    \\frac{e^{s_2}}{\\sum_{j = 1}^r e^{s_j}} \\\\\n",
        "    \\vdots \\\\\n",
        "    \\frac{e^{s_r}}{\\sum_{j = 1}^r e^{s_j}}\n",
        "    \\end{matrix}\\right)\n",
        "$$\n",
        "\n",
        "is a generalization of the logistic sigmoid function to the multiclass setting. It is called the softmax function because it has a tendency to accentuate the largest value in the vector $\\mathbf{s}$. With this notation, we can write the cross-entropy loss as\n",
        "\n",
        "$$\n",
        "\\ell(\\mathbf{s}_i, y_i) = \\sum_{j = 1}^r \\mathbb{1}[y_i = j]\\log \\mathrm{softmax}(\\mathbf{s}_i)_j\\;.\n",
        "$$\n",
        "\n",
        "Summing the per-observation loss over all data points gives the empirical risk to be minimized.\n",
        "\n",
        "## A First Linear Model\n",
        "\n",
        "Let's implement a linear model with the multiclass cross entropy. This first model is equivalent to multiclass logistic regression.\n"
      ]
    },
    {
      "cell_type": "code",
      "execution_count": 8,
      "metadata": {
        "id": "cWns5Co4l327"
      },
      "outputs": [],
      "source": [
        "import torch.nn as nn\n",
        "import torch.nn.functional as F\n",
        "\n",
        "class LinearModel(nn.Module):\n",
        "    def __init__(self):\n",
        "        super().__init__()\n",
        "\n",
        "        self.pipeline = nn.Sequential(\n",
        "            nn.Flatten(),\n",
        "            nn.Linear(28*28, 26)\n",
        "        )\n",
        "\n",
        "    # this is the customary name for the method that computes the scores\n",
        "    # the loss is usually computed outside the model class during the training loop\n",
        "    def forward(self, x):\n",
        "        return self.pipeline(x)\n",
        "\n",
        "    def predict(self, x):\n",
        "\n",
        "        scores = self.forward(x)\n",
        "        return torch.argmax(scores, dim = 1)\n",
        "\n",
        "model = LinearModel().to(device)"
      ]
    },
    {
      "cell_type": "markdown",
      "metadata": {
        "id": "6oH7DdVal328"
      },
      "source": [
        "The `forward` method computes a matrix of scores. Each row of this matrix gives the scores for a single observation:"
      ]
    },
    {
      "cell_type": "code",
      "execution_count": 9,
      "metadata": {
        "colab": {
          "base_uri": "https://localhost:8080/"
        },
        "id": "Mekmhbnnl328",
        "outputId": "e4157fe5-b848-4e91-b258-69ade2f58ed1"
      },
      "outputs": [
        {
          "data": {
            "text/plain": [
              "tensor([[ 0.4748,  0.3078, -0.1046,  ...,  0.2879,  0.1001,  0.6068],\n",
              "        [ 0.3613,  0.2472, -0.0023,  ...,  0.3211, -0.0265,  0.4179],\n",
              "        [ 0.3632,  0.2652,  0.1506,  ...,  0.3265,  0.0759,  0.7127],\n",
              "        ...,\n",
              "        [ 0.2790,  0.2796,  0.0923,  ...,  0.2196, -0.0338,  0.6250],\n",
              "        [ 0.5455,  0.4283, -0.0368,  ...,  0.5020, -0.0385,  0.5142],\n",
              "        [ 0.4195,  0.2938, -0.0793,  ...,  0.2966, -0.0111,  0.6632]],\n",
              "       device='cuda:0', grad_fn=<AddmmBackward0>)"
            ]
          },
          "execution_count": 9,
          "metadata": {},
          "output_type": "execute_result"
        }
      ],
      "source": [
        "scores = model(X_train)\n",
        "scores"
      ]
    },
    {
      "cell_type": "markdown",
      "metadata": {
        "id": "Ayk8nwPnl328"
      },
      "source": [
        "The `predict` method just computes these scores and returns the column index of the largest score in each column."
      ]
    },
    {
      "cell_type": "code",
      "execution_count": 10,
      "metadata": {
        "colab": {
          "base_uri": "https://localhost:8080/"
        },
        "id": "dZA2oI7Qmj4O",
        "outputId": "c8b2855e-c7db-4245-818a-59092fda9f8f"
      },
      "outputs": [
        {
          "data": {
            "text/plain": [
              "tensor([ 3,  3, 25,  ..., 12,  3,  3], device='cuda:0')"
            ]
          },
          "execution_count": 10,
          "metadata": {},
          "output_type": "execute_result"
        }
      ],
      "source": [
        "torch.argmax(scores, dim = 1) # indices of predicted letters"
      ]
    },
    {
      "cell_type": "markdown",
      "metadata": {
        "id": "eqZzdF39l328"
      },
      "source": [
        "It's very useful to get in the habit of *inspecting* your models in order to understand how they are organized and how many parameters need to be trained. One convenient way to do this is with the `summary` function provided by the `torchsummary` package. This function requires that we input the dimensions of a single observation:"
      ]
    },
    {
      "cell_type": "code",
      "execution_count": 11,
      "metadata": {
        "colab": {
          "base_uri": "https://localhost:8080/"
        },
        "id": "i8e6340Pl328",
        "outputId": "159eb1be-5876-46f2-c648-2394a74b6147"
      },
      "outputs": [
        {
          "name": "stdout",
          "output_type": "stream",
          "text": [
            "----------------------------------------------------------------\n",
            "        Layer (type)               Output Shape         Param #\n",
            "================================================================\n",
            "           Flatten-1                  [-1, 784]               0\n",
            "            Linear-2                   [-1, 26]          20,410\n",
            "================================================================\n",
            "Total params: 20,410\n",
            "Trainable params: 20,410\n",
            "Non-trainable params: 0\n",
            "----------------------------------------------------------------\n",
            "Input size (MB): 0.00\n",
            "Forward/backward pass size (MB): 0.01\n",
            "Params size (MB): 0.08\n",
            "Estimated Total Size (MB): 0.09\n",
            "----------------------------------------------------------------\n"
          ]
        }
      ],
      "source": [
        "from torchsummary import summary\n",
        "summary(model, input_size=(1, 28, 28))"
      ]
    },
    {
      "cell_type": "markdown",
      "metadata": {
        "id": "vclUnL6sWHRE"
      },
      "source": [
        "Even this simple multiclass logistic model has over 20,000 parameters to train! Note that the output shape matches the number of possible class labels in the data.\n",
        "\n",
        "\n",
        "It can also be useful to visualize the computational graph that torch constructs from the computation. Doing this requires computing the loss once in order to assemble the computational graph."
      ]
    },
    {
      "cell_type": "code",
      "execution_count": 12,
      "metadata": {
        "colab": {
          "base_uri": "https://localhost:8080/",
          "height": 542
        },
        "id": "PZdrdZCcVgr6",
        "outputId": "0df858c0-726b-4e4f-a766-1b69463fea93"
      },
      "outputs": [
        {
          "data": {
            "image/svg+xml": [
              "<?xml version=\"1.0\" encoding=\"UTF-8\" standalone=\"no\"?>\n",
              "<!DOCTYPE svg PUBLIC \"-//W3C//DTD SVG 1.1//EN\"\n",
              " \"http://www.w3.org/Graphics/SVG/1.1/DTD/svg11.dtd\">\n",
              "<!-- Generated by graphviz version 2.43.0 (0)\n",
              " -->\n",
              "<!-- Title: %3 Pages: 1 -->\n",
              "<svg width=\"243pt\" height=\"391pt\"\n",
              " viewBox=\"0.00 0.00 243.00 391.00\" xmlns=\"http://www.w3.org/2000/svg\" xmlns:xlink=\"http://www.w3.org/1999/xlink\">\n",
              "<g id=\"graph0\" class=\"graph\" transform=\"scale(1 1) rotate(0) translate(4 387)\">\n",
              "<title>%3</title>\n",
              "<polygon fill=\"white\" stroke=\"transparent\" points=\"-4,4 -4,-387 239,-387 239,4 -4,4\"/>\n",
              "<!-- 140146262745040 -->\n",
              "<g id=\"node1\" class=\"node\">\n",
              "<title>140146262745040</title>\n",
              "<polygon fill=\"#caff70\" stroke=\"black\" points=\"141.5,-31 87.5,-31 87.5,0 141.5,0 141.5,-31\"/>\n",
              "<text text-anchor=\"middle\" x=\"114.5\" y=\"-7\" font-family=\"monospace\" font-size=\"10.00\"> ()</text>\n",
              "</g>\n",
              "<!-- 140146259396256 -->\n",
              "<g id=\"node2\" class=\"node\">\n",
              "<title>140146259396256</title>\n",
              "<polygon fill=\"lightgrey\" stroke=\"black\" points=\"171,-86 58,-86 58,-67 171,-67 171,-86\"/>\n",
              "<text text-anchor=\"middle\" x=\"114.5\" y=\"-74\" font-family=\"monospace\" font-size=\"10.00\">NllLossBackward0</text>\n",
              "</g>\n",
              "<!-- 140146259396256&#45;&gt;140146262745040 -->\n",
              "<g id=\"edge8\" class=\"edge\">\n",
              "<title>140146259396256&#45;&gt;140146262745040</title>\n",
              "<path fill=\"none\" stroke=\"black\" d=\"M114.5,-66.79C114.5,-60.07 114.5,-50.4 114.5,-41.34\"/>\n",
              "<polygon fill=\"black\" stroke=\"black\" points=\"118,-41.19 114.5,-31.19 111,-41.19 118,-41.19\"/>\n",
              "</g>\n",
              "<!-- 140146259395440 -->\n",
              "<g id=\"node3\" class=\"node\">\n",
              "<title>140146259395440</title>\n",
              "<polygon fill=\"lightgrey\" stroke=\"black\" points=\"180,-141 49,-141 49,-122 180,-122 180,-141\"/>\n",
              "<text text-anchor=\"middle\" x=\"114.5\" y=\"-129\" font-family=\"monospace\" font-size=\"10.00\">LogSoftmaxBackward0</text>\n",
              "</g>\n",
              "<!-- 140146259395440&#45;&gt;140146259396256 -->\n",
              "<g id=\"edge1\" class=\"edge\">\n",
              "<title>140146259395440&#45;&gt;140146259396256</title>\n",
              "<path fill=\"none\" stroke=\"black\" d=\"M114.5,-121.75C114.5,-114.8 114.5,-104.85 114.5,-96.13\"/>\n",
              "<polygon fill=\"black\" stroke=\"black\" points=\"118,-96.09 114.5,-86.09 111,-96.09 118,-96.09\"/>\n",
              "</g>\n",
              "<!-- 140146259396688 -->\n",
              "<g id=\"node4\" class=\"node\">\n",
              "<title>140146259396688</title>\n",
              "<polygon fill=\"lightgrey\" stroke=\"black\" points=\"165,-196 64,-196 64,-177 165,-177 165,-196\"/>\n",
              "<text text-anchor=\"middle\" x=\"114.5\" y=\"-184\" font-family=\"monospace\" font-size=\"10.00\">AddmmBackward0</text>\n",
              "</g>\n",
              "<!-- 140146259396688&#45;&gt;140146259395440 -->\n",
              "<g id=\"edge2\" class=\"edge\">\n",
              "<title>140146259396688&#45;&gt;140146259395440</title>\n",
              "<path fill=\"none\" stroke=\"black\" d=\"M114.5,-176.75C114.5,-169.8 114.5,-159.85 114.5,-151.13\"/>\n",
              "<polygon fill=\"black\" stroke=\"black\" points=\"118,-151.09 114.5,-141.09 111,-151.09 118,-151.09\"/>\n",
              "</g>\n",
              "<!-- 140146259397600 -->\n",
              "<g id=\"node5\" class=\"node\">\n",
              "<title>140146259397600</title>\n",
              "<polygon fill=\"lightgrey\" stroke=\"black\" points=\"108,-251 7,-251 7,-232 108,-232 108,-251\"/>\n",
              "<text text-anchor=\"middle\" x=\"57.5\" y=\"-239\" font-family=\"monospace\" font-size=\"10.00\">AccumulateGrad</text>\n",
              "</g>\n",
              "<!-- 140146259397600&#45;&gt;140146259396688 -->\n",
              "<g id=\"edge3\" class=\"edge\">\n",
              "<title>140146259397600&#45;&gt;140146259396688</title>\n",
              "<path fill=\"none\" stroke=\"black\" d=\"M66.66,-231.98C75,-224.23 87.53,-212.58 97.68,-203.14\"/>\n",
              "<polygon fill=\"black\" stroke=\"black\" points=\"100.24,-205.54 105.18,-196.17 95.47,-200.42 100.24,-205.54\"/>\n",
              "</g>\n",
              "<!-- 140146256480432 -->\n",
              "<g id=\"node6\" class=\"node\">\n",
              "<title>140146256480432</title>\n",
              "<polygon fill=\"lightblue\" stroke=\"black\" points=\"107,-317 0,-317 0,-287 107,-287 107,-317\"/>\n",
              "<text text-anchor=\"middle\" x=\"53.5\" y=\"-305\" font-family=\"monospace\" font-size=\"10.00\">pipeline.1.bias</text>\n",
              "<text text-anchor=\"middle\" x=\"53.5\" y=\"-294\" font-family=\"monospace\" font-size=\"10.00\"> (26)</text>\n",
              "</g>\n",
              "<!-- 140146256480432&#45;&gt;140146259397600 -->\n",
              "<g id=\"edge4\" class=\"edge\">\n",
              "<title>140146256480432&#45;&gt;140146259397600</title>\n",
              "<path fill=\"none\" stroke=\"black\" d=\"M54.47,-286.84C54.99,-279.21 55.64,-269.7 56.2,-261.45\"/>\n",
              "<polygon fill=\"black\" stroke=\"black\" points=\"59.71,-261.48 56.9,-251.27 52.73,-261 59.71,-261.48\"/>\n",
              "</g>\n",
              "<!-- 140146259396400 -->\n",
              "<g id=\"node7\" class=\"node\">\n",
              "<title>140146259396400</title>\n",
              "<polygon fill=\"lightgrey\" stroke=\"black\" points=\"210,-251 133,-251 133,-232 210,-232 210,-251\"/>\n",
              "<text text-anchor=\"middle\" x=\"171.5\" y=\"-239\" font-family=\"monospace\" font-size=\"10.00\">TBackward0</text>\n",
              "</g>\n",
              "<!-- 140146259396400&#45;&gt;140146259396688 -->\n",
              "<g id=\"edge5\" class=\"edge\">\n",
              "<title>140146259396400&#45;&gt;140146259396688</title>\n",
              "<path fill=\"none\" stroke=\"black\" d=\"M162.34,-231.98C154,-224.23 141.47,-212.58 131.32,-203.14\"/>\n",
              "<polygon fill=\"black\" stroke=\"black\" points=\"133.53,-200.42 123.82,-196.17 128.76,-205.54 133.53,-200.42\"/>\n",
              "</g>\n",
              "<!-- 140146259395536 -->\n",
              "<g id=\"node8\" class=\"node\">\n",
              "<title>140146259395536</title>\n",
              "<polygon fill=\"lightgrey\" stroke=\"black\" points=\"226,-311.5 125,-311.5 125,-292.5 226,-292.5 226,-311.5\"/>\n",
              "<text text-anchor=\"middle\" x=\"175.5\" y=\"-299.5\" font-family=\"monospace\" font-size=\"10.00\">AccumulateGrad</text>\n",
              "</g>\n",
              "<!-- 140146259395536&#45;&gt;140146259396400 -->\n",
              "<g id=\"edge6\" class=\"edge\">\n",
              "<title>140146259395536&#45;&gt;140146259396400</title>\n",
              "<path fill=\"none\" stroke=\"black\" d=\"M174.91,-292.37C174.35,-284.25 173.5,-271.81 172.79,-261.39\"/>\n",
              "<polygon fill=\"black\" stroke=\"black\" points=\"176.27,-260.91 172.09,-251.17 169.28,-261.38 176.27,-260.91\"/>\n",
              "</g>\n",
              "<!-- 140146260486928 -->\n",
              "<g id=\"node9\" class=\"node\">\n",
              "<title>140146260486928</title>\n",
              "<polygon fill=\"lightblue\" stroke=\"black\" points=\"235,-383 116,-383 116,-353 235,-353 235,-383\"/>\n",
              "<text text-anchor=\"middle\" x=\"175.5\" y=\"-371\" font-family=\"monospace\" font-size=\"10.00\">pipeline.1.weight</text>\n",
              "<text text-anchor=\"middle\" x=\"175.5\" y=\"-360\" font-family=\"monospace\" font-size=\"10.00\"> (26, 784)</text>\n",
              "</g>\n",
              "<!-- 140146260486928&#45;&gt;140146259395536 -->\n",
              "<g id=\"edge7\" class=\"edge\">\n",
              "<title>140146260486928&#45;&gt;140146259395536</title>\n",
              "<path fill=\"none\" stroke=\"black\" d=\"M175.5,-352.8C175.5,-343.7 175.5,-331.79 175.5,-321.9\"/>\n",
              "<polygon fill=\"black\" stroke=\"black\" points=\"179,-321.84 175.5,-311.84 172,-321.84 179,-321.84\"/>\n",
              "</g>\n",
              "</g>\n",
              "</svg>\n"
            ],
            "text/plain": [
              "<graphviz.graphs.Digraph at 0x7f7658020160>"
            ]
          },
          "execution_count": 12,
          "metadata": {},
          "output_type": "execute_result"
        }
      ],
      "source": [
        "loss_fn = nn.CrossEntropyLoss()\n",
        "loss = loss_fn(scores, y_train)\n",
        "make_dot(loss, params=dict(model.named_parameters()))"
      ]
    },
    {
      "cell_type": "markdown",
      "metadata": {
        "id": "as-o5lrhl328"
      },
      "source": [
        "Before we start training, let's implement a function to evaluate the model on validation data."
      ]
    },
    {
      "cell_type": "code",
      "execution_count": 46,
      "metadata": {
        "id": "L-gH-qBLl328"
      },
      "outputs": [],
      "source": [
        "def evaluate(model, multichannel = True):\n",
        "\n",
        "    # count the number of total observations and correct predictions\n",
        "    total = 0\n",
        "    total_correct = 0\n",
        "\n",
        "    # loop through the data loader\n",
        "    for X, y in data_loader_val:\n",
        "\n",
        "        # used for evaluating ImageNet later\n",
        "        if multichannel:\n",
        "            X = torch.tile(X, dims = (1, 3, 1, 1))\n",
        "\n",
        "        # move the data to the device (ideally, to gpu)\n",
        "        X, y = X.to(device), y.to(device)\n",
        "\n",
        "        # compute the predictions\n",
        "        scores = model.forward(X)\n",
        "        y_pred =  torch.argmax(scores, dim = 1)\n",
        "\n",
        "        # update the total and the number of correct predictions\n",
        "        total += X.size(0)\n",
        "        total_correct += (y_pred == y).sum().item()\n",
        "\n",
        "    print(f\"validation accuracy = {total_correct / total:.3f}\")"
      ]
    },
    {
      "cell_type": "code",
      "execution_count": 47,
      "metadata": {
        "colab": {
          "base_uri": "https://localhost:8080/"
        },
        "id": "aEFysILBVgr6",
        "outputId": "1ed10e84-801a-41de-a3e3-9b05fefcd50a"
      },
      "outputs": [
        {
          "name": "stdout",
          "output_type": "stream",
          "text": [
            "validation accuracy = 0.945\n"
          ]
        }
      ],
      "source": [
        "evaluate(model)"
      ]
    },
    {
      "cell_type": "markdown",
      "metadata": {
        "id": "aCikIwO8Vgr6"
      },
      "source": [
        "\n",
        "Obviously our model does not do very well on the validation data, since it's not trained yet.\n",
        "\n",
        "Let's therefore implement a simple training loop. This loop will include provisions to train the model while also calling the previous function to update us on the  accuracy on the validation set."
      ]
    },
    {
      "cell_type": "code",
      "execution_count": 48,
      "metadata": {
        "id": "Vk6yn33eVgr6"
      },
      "outputs": [],
      "source": [
        "import torch.optim as optim\n",
        "def train(model, k_epochs = 1, print_every = 2000, evaluate_after_epoch = True, multichannel = False, **opt_kwargs):\n",
        "\n",
        "    # loss function is cross-entropy (multiclass logistic)\n",
        "    loss_fn = nn.CrossEntropyLoss()\n",
        "\n",
        "    # optimizer is SGD with momentum\n",
        "    optimizer = optim.SGD(model.parameters(), **opt_kwargs)\n",
        "\n",
        "    for epoch in range(k_epochs):\n",
        "        for i, data in enumerate(data_loader_train):\n",
        "            X, y = data\n",
        "            if multichannel:\n",
        "                X = torch.tile(X, dims = (1, 3, 1, 1))\n",
        "            X, y = X.to(device), y.to(device)\n",
        "\n",
        "            # clear any accumulated gradients\n",
        "            optimizer.zero_grad()\n",
        "\n",
        "            # compute the loss\n",
        "            y_pred = model(X)\n",
        "            loss   = loss_fn(y_pred, y)\n",
        "\n",
        "            # compute gradients and carry out an optimization step\n",
        "            loss.backward()\n",
        "            optimizer.step()\n",
        "\n",
        "            if (i + 1) % print_every == 0:\n",
        "                print(f\"Epoch {epoch}, batch {i:>3}, loss on batch: {loss.item():.3f}\")\n",
        "\n",
        "        if evaluate_after_epoch:\n",
        "            print(f\"Epoch {epoch}: \", end = \"\")\n",
        "            evaluate(model)"
      ]
    },
    {
      "cell_type": "markdown",
      "metadata": {
        "id": "DjR048OY53Ms"
      },
      "source": [
        "Now we can go ahead and train our model."
      ]
    },
    {
      "cell_type": "code",
      "execution_count": 16,
      "metadata": {
        "colab": {
          "base_uri": "https://localhost:8080/"
        },
        "id": "xoDFkdg1l328",
        "outputId": "4c01cdc9-7876-4825-b36e-52c6cd8ca835"
      },
      "outputs": [
        {
          "name": "stdout",
          "output_type": "stream",
          "text": [
            "Epoch 0: validation accuracy = 0.106\n",
            "Epoch 1: validation accuracy = 0.154\n",
            "Epoch 2: validation accuracy = 0.271\n",
            "Epoch 3: validation accuracy = 0.285\n",
            "Epoch 4: validation accuracy = 0.348\n",
            "Epoch 5: validation accuracy = 0.385\n",
            "Epoch 6: validation accuracy = 0.363\n",
            "Epoch 7: validation accuracy = 0.406\n",
            "Epoch 8: validation accuracy = 0.403\n",
            "Epoch 9: validation accuracy = 0.439\n",
            "Epoch 10: validation accuracy = 0.439\n",
            "Epoch 11: validation accuracy = 0.461\n",
            "Epoch 12: validation accuracy = 0.464\n",
            "Epoch 13: validation accuracy = 0.484\n",
            "Epoch 14: validation accuracy = 0.459\n",
            "Epoch 15: validation accuracy = 0.497\n",
            "Epoch 16: validation accuracy = 0.491\n",
            "Epoch 17: validation accuracy = 0.505\n",
            "Epoch 18: validation accuracy = 0.492\n",
            "Epoch 19: validation accuracy = 0.510\n",
            "Epoch 20: validation accuracy = 0.505\n",
            "Epoch 21: validation accuracy = 0.517\n",
            "Epoch 22: validation accuracy = 0.520\n",
            "Epoch 23: validation accuracy = 0.522\n",
            "Epoch 24: validation accuracy = 0.533\n",
            "Epoch 25: validation accuracy = 0.525\n",
            "Epoch 26: validation accuracy = 0.529\n",
            "Epoch 27: validation accuracy = 0.530\n",
            "Epoch 28: validation accuracy = 0.535\n",
            "Epoch 29: validation accuracy = 0.534\n"
          ]
        }
      ],
      "source": [
        "train(model, k_epochs = 30, lr = 0.001, evaluate_after_epoch = True)"
      ]
    },
    {
      "cell_type": "markdown",
      "metadata": {
        "id": "HeXMrLglWvNb"
      },
      "source": [
        "This model is able to achieve accuracy much better than random chance, and would likely improve even more if we allowed it more training epochs."
      ]
    },
    {
      "cell_type": "markdown",
      "metadata": {
        "id": "RK5rfVCll328"
      },
      "source": [
        "## Convolutional Models\n",
        "\n",
        "Our favorite logistic regression is a great algorithm, but there is lots of room to improve! Last time we studied this data set, we used convolutional kernels extract more helpful features from the data before finally plugging those features into a logistic regression model. Convolutional kernels offer structured transformations that can accentuate certain features of images:\n",
        "\n",
        "![](https://d2l.ai/_images/correlation.svg)\n",
        "\n",
        "*Image from [Dive Into Deep Learning](https://d2l.ai/chapter_convolutional-neural-networks/conv-layer.html)*\n",
        "\n",
        "We sandwiched those convolutional layers between pooling and ReLU activation layers. This time, instead of treating these kernels as given, we are going to learn them as part of the optimization routine.\n",
        "\n",
        "*Starting from this point in the notes, it is strongly recommended to run this code with a GPU available, such as in Google Colab*."
      ]
    },
    {
      "cell_type": "code",
      "execution_count": 17,
      "metadata": {
        "id": "mbhGa_MfVgr7"
      },
      "outputs": [],
      "source": [
        "import torch.nn as nn\n",
        "from  torch.nn import ReLU\n",
        "\n",
        "#---\n",
        "class ConvNet(nn.Module):\n",
        "    def __init__(self):\n",
        "        super().__init__()\n",
        "\n",
        "        self.pipeline = torch.nn.Sequential(\n",
        "            nn.Conv2d(1, 100, 5),\n",
        "            ReLU(),\n",
        "            nn.Conv2d(100, 50, 3),\n",
        "            ReLU(),\n",
        "            nn.MaxPool2d(2, 2),\n",
        "            nn.Conv2d(50, 50, 3),\n",
        "            ReLU(),\n",
        "            nn.Conv2d(50, 50, 3),\n",
        "            ReLU(),\n",
        "            nn.MaxPool2d(2, 2),\n",
        "            nn.Flatten(),\n",
        "            nn.Linear(450, 512),\n",
        "            ReLU(),\n",
        "            nn.Linear(512, 128),\n",
        "            ReLU(),\n",
        "            nn.Linear(128, len(ALPHABET))\n",
        "        )\n",
        "\n",
        "    def forward(self, x):\n",
        "        return self.pipeline(x)\n",
        "\n",
        "model = ConvNet().to(device)\n",
        "#---"
      ]
    },
    {
      "cell_type": "markdown",
      "metadata": {
        "id": "vNR75TQHl329"
      },
      "source": [
        "What does this model look like?"
      ]
    },
    {
      "cell_type": "code",
      "execution_count": 18,
      "metadata": {
        "colab": {
          "base_uri": "https://localhost:8080/"
        },
        "id": "AZDWl0gXl329",
        "outputId": "413f5e5e-8394-425c-970e-0013770958fb"
      },
      "outputs": [
        {
          "name": "stdout",
          "output_type": "stream",
          "text": [
            "----------------------------------------------------------------\n",
            "        Layer (type)               Output Shape         Param #\n",
            "================================================================\n",
            "            Conv2d-1          [-1, 100, 24, 24]           2,600\n",
            "              ReLU-2          [-1, 100, 24, 24]               0\n",
            "            Conv2d-3           [-1, 50, 22, 22]          45,050\n",
            "              ReLU-4           [-1, 50, 22, 22]               0\n",
            "         MaxPool2d-5           [-1, 50, 11, 11]               0\n",
            "            Conv2d-6             [-1, 50, 9, 9]          22,550\n",
            "              ReLU-7             [-1, 50, 9, 9]               0\n",
            "            Conv2d-8             [-1, 50, 7, 7]          22,550\n",
            "              ReLU-9             [-1, 50, 7, 7]               0\n",
            "        MaxPool2d-10             [-1, 50, 3, 3]               0\n",
            "          Flatten-11                  [-1, 450]               0\n",
            "           Linear-12                  [-1, 512]         230,912\n",
            "             ReLU-13                  [-1, 512]               0\n",
            "           Linear-14                  [-1, 128]          65,664\n",
            "             ReLU-15                  [-1, 128]               0\n",
            "           Linear-16                   [-1, 26]           3,354\n",
            "================================================================\n",
            "Total params: 392,680\n",
            "Trainable params: 392,680\n",
            "Non-trainable params: 0\n",
            "----------------------------------------------------------------\n",
            "Input size (MB): 0.00\n",
            "Forward/backward pass size (MB): 1.41\n",
            "Params size (MB): 1.50\n",
            "Estimated Total Size (MB): 2.91\n",
            "----------------------------------------------------------------\n"
          ]
        }
      ],
      "source": [
        "#---\n",
        "summary(model, input_size=(1, 28, 28))\n",
        "#---"
      ]
    },
    {
      "cell_type": "markdown",
      "metadata": {
        "id": "4yrIpzEJX3Zc"
      },
      "source": [
        "The computational graph for this model is much more complex."
      ]
    },
    {
      "cell_type": "code",
      "execution_count": 19,
      "metadata": {
        "colab": {
          "base_uri": "https://localhost:8080/",
          "height": 1000
        },
        "id": "IXpnc_rnXV-U",
        "outputId": "6a2e8a36-9c4e-4643-cdb8-c86d715aecc0"
      },
      "outputs": [
        {
          "data": {
            "image/svg+xml": [
              "<?xml version=\"1.0\" encoding=\"UTF-8\" standalone=\"no\"?>\n",
              "<!DOCTYPE svg PUBLIC \"-//W3C//DTD SVG 1.1//EN\"\n",
              " \"http://www.w3.org/Graphics/SVG/1.1/DTD/svg11.dtd\">\n",
              "<!-- Generated by graphviz version 2.43.0 (0)\n",
              " -->\n",
              "<!-- Title: %3 Pages: 1 -->\n",
              "<svg width=\"770pt\" height=\"1069pt\"\n",
              " viewBox=\"0.00 0.00 770.30 1069.00\" xmlns=\"http://www.w3.org/2000/svg\" xmlns:xlink=\"http://www.w3.org/1999/xlink\">\n",
              "<g id=\"graph0\" class=\"graph\" transform=\"scale(1.17 1.17) rotate(0) translate(4 1245)\">\n",
              "<title>%3</title>\n",
              "<polygon fill=\"white\" stroke=\"transparent\" points=\"-4,4 -4,-1245 896,-1245 896,4 -4,4\"/>\n",
              "<!-- 140146260180352 -->\n",
              "<g id=\"node1\" class=\"node\">\n",
              "<title>140146260180352</title>\n",
              "<polygon fill=\"#caff70\" stroke=\"black\" points=\"659.5,-31 605.5,-31 605.5,0 659.5,0 659.5,-31\"/>\n",
              "<text text-anchor=\"middle\" x=\"632.5\" y=\"-7\" font-family=\"monospace\" font-size=\"10.00\"> ()</text>\n",
              "</g>\n",
              "<!-- 140146259402112 -->\n",
              "<g id=\"node2\" class=\"node\">\n",
              "<title>140146259402112</title>\n",
              "<polygon fill=\"lightgrey\" stroke=\"black\" points=\"689,-86 576,-86 576,-67 689,-67 689,-86\"/>\n",
              "<text text-anchor=\"middle\" x=\"632.5\" y=\"-74\" font-family=\"monospace\" font-size=\"10.00\">NllLossBackward0</text>\n",
              "</g>\n",
              "<!-- 140146259402112&#45;&gt;140146260180352 -->\n",
              "<g id=\"edge49\" class=\"edge\">\n",
              "<title>140146259402112&#45;&gt;140146260180352</title>\n",
              "<path fill=\"none\" stroke=\"black\" d=\"M632.5,-66.79C632.5,-60.07 632.5,-50.4 632.5,-41.34\"/>\n",
              "<polygon fill=\"black\" stroke=\"black\" points=\"636,-41.19 632.5,-31.19 629,-41.19 636,-41.19\"/>\n",
              "</g>\n",
              "<!-- 140146259409936 -->\n",
              "<g id=\"node3\" class=\"node\">\n",
              "<title>140146259409936</title>\n",
              "<polygon fill=\"lightgrey\" stroke=\"black\" points=\"698,-141 567,-141 567,-122 698,-122 698,-141\"/>\n",
              "<text text-anchor=\"middle\" x=\"632.5\" y=\"-129\" font-family=\"monospace\" font-size=\"10.00\">LogSoftmaxBackward0</text>\n",
              "</g>\n",
              "<!-- 140146259409936&#45;&gt;140146259402112 -->\n",
              "<g id=\"edge1\" class=\"edge\">\n",
              "<title>140146259409936&#45;&gt;140146259402112</title>\n",
              "<path fill=\"none\" stroke=\"black\" d=\"M632.5,-121.75C632.5,-114.8 632.5,-104.85 632.5,-96.13\"/>\n",
              "<polygon fill=\"black\" stroke=\"black\" points=\"636,-96.09 632.5,-86.09 629,-96.09 636,-96.09\"/>\n",
              "</g>\n",
              "<!-- 140146259399760 -->\n",
              "<g id=\"node4\" class=\"node\">\n",
              "<title>140146259399760</title>\n",
              "<polygon fill=\"lightgrey\" stroke=\"black\" points=\"683,-196 582,-196 582,-177 683,-177 683,-196\"/>\n",
              "<text text-anchor=\"middle\" x=\"632.5\" y=\"-184\" font-family=\"monospace\" font-size=\"10.00\">AddmmBackward0</text>\n",
              "</g>\n",
              "<!-- 140146259399760&#45;&gt;140146259409936 -->\n",
              "<g id=\"edge2\" class=\"edge\">\n",
              "<title>140146259399760&#45;&gt;140146259409936</title>\n",
              "<path fill=\"none\" stroke=\"black\" d=\"M632.5,-176.75C632.5,-169.8 632.5,-159.85 632.5,-151.13\"/>\n",
              "<polygon fill=\"black\" stroke=\"black\" points=\"636,-151.09 632.5,-141.09 629,-151.09 636,-151.09\"/>\n",
              "</g>\n",
              "<!-- 140146259398128 -->\n",
              "<g id=\"node5\" class=\"node\">\n",
              "<title>140146259398128</title>\n",
              "<polygon fill=\"lightgrey\" stroke=\"black\" points=\"563,-251 462,-251 462,-232 563,-232 563,-251\"/>\n",
              "<text text-anchor=\"middle\" x=\"512.5\" y=\"-239\" font-family=\"monospace\" font-size=\"10.00\">AccumulateGrad</text>\n",
              "</g>\n",
              "<!-- 140146259398128&#45;&gt;140146259399760 -->\n",
              "<g id=\"edge3\" class=\"edge\">\n",
              "<title>140146259398128&#45;&gt;140146259399760</title>\n",
              "<path fill=\"none\" stroke=\"black\" d=\"M531.78,-231.98C551.17,-223.42 581.31,-210.11 603.57,-200.28\"/>\n",
              "<polygon fill=\"black\" stroke=\"black\" points=\"605.14,-203.41 612.87,-196.17 602.31,-197.01 605.14,-203.41\"/>\n",
              "</g>\n",
              "<!-- 140146259437072 -->\n",
              "<g id=\"node6\" class=\"node\">\n",
              "<title>140146259437072</title>\n",
              "<polygon fill=\"lightblue\" stroke=\"black\" points=\"564,-317 451,-317 451,-287 564,-287 564,-317\"/>\n",
              "<text text-anchor=\"middle\" x=\"507.5\" y=\"-305\" font-family=\"monospace\" font-size=\"10.00\">pipeline.15.bias</text>\n",
              "<text text-anchor=\"middle\" x=\"507.5\" y=\"-294\" font-family=\"monospace\" font-size=\"10.00\"> (26)</text>\n",
              "</g>\n",
              "<!-- 140146259437072&#45;&gt;140146259398128 -->\n",
              "<g id=\"edge4\" class=\"edge\">\n",
              "<title>140146259437072&#45;&gt;140146259398128</title>\n",
              "<path fill=\"none\" stroke=\"black\" d=\"M508.71,-286.84C509.36,-279.21 510.17,-269.7 510.88,-261.45\"/>\n",
              "<polygon fill=\"black\" stroke=\"black\" points=\"514.39,-261.53 511.75,-251.27 507.41,-260.93 514.39,-261.53\"/>\n",
              "</g>\n",
              "<!-- 140146259399664 -->\n",
              "<g id=\"node7\" class=\"node\">\n",
              "<title>140146259399664</title>\n",
              "<polygon fill=\"lightgrey\" stroke=\"black\" points=\"680,-251 585,-251 585,-232 680,-232 680,-251\"/>\n",
              "<text text-anchor=\"middle\" x=\"632.5\" y=\"-239\" font-family=\"monospace\" font-size=\"10.00\">ReluBackward0</text>\n",
              "</g>\n",
              "<!-- 140146259399664&#45;&gt;140146259399760 -->\n",
              "<g id=\"edge5\" class=\"edge\">\n",
              "<title>140146259399664&#45;&gt;140146259399760</title>\n",
              "<path fill=\"none\" stroke=\"black\" d=\"M632.5,-231.75C632.5,-224.8 632.5,-214.85 632.5,-206.13\"/>\n",
              "<polygon fill=\"black\" stroke=\"black\" points=\"636,-206.09 632.5,-196.09 629,-206.09 636,-206.09\"/>\n",
              "</g>\n",
              "<!-- 140146259402592 -->\n",
              "<g id=\"node8\" class=\"node\">\n",
              "<title>140146259402592</title>\n",
              "<polygon fill=\"lightgrey\" stroke=\"black\" points=\"683,-311.5 582,-311.5 582,-292.5 683,-292.5 683,-311.5\"/>\n",
              "<text text-anchor=\"middle\" x=\"632.5\" y=\"-299.5\" font-family=\"monospace\" font-size=\"10.00\">AddmmBackward0</text>\n",
              "</g>\n",
              "<!-- 140146259402592&#45;&gt;140146259399664 -->\n",
              "<g id=\"edge6\" class=\"edge\">\n",
              "<title>140146259402592&#45;&gt;140146259399664</title>\n",
              "<path fill=\"none\" stroke=\"black\" d=\"M632.5,-292.37C632.5,-284.25 632.5,-271.81 632.5,-261.39\"/>\n",
              "<polygon fill=\"black\" stroke=\"black\" points=\"636,-261.17 632.5,-251.17 629,-261.17 636,-261.17\"/>\n",
              "</g>\n",
              "<!-- 140146259404800 -->\n",
              "<g id=\"node9\" class=\"node\">\n",
              "<title>140146259404800</title>\n",
              "<polygon fill=\"lightgrey\" stroke=\"black\" points=\"537,-377.5 436,-377.5 436,-358.5 537,-358.5 537,-377.5\"/>\n",
              "<text text-anchor=\"middle\" x=\"486.5\" y=\"-365.5\" font-family=\"monospace\" font-size=\"10.00\">AccumulateGrad</text>\n",
              "</g>\n",
              "<!-- 140146259404800&#45;&gt;140146259402592 -->\n",
              "<g id=\"edge7\" class=\"edge\">\n",
              "<title>140146259404800&#45;&gt;140146259402592</title>\n",
              "<path fill=\"none\" stroke=\"black\" d=\"M506.19,-358.37C531.23,-347.39 574.65,-328.36 603.48,-315.72\"/>\n",
              "<polygon fill=\"black\" stroke=\"black\" points=\"604.9,-318.92 612.66,-311.7 602.09,-312.51 604.9,-318.92\"/>\n",
              "</g>\n",
              "<!-- 140146259436912 -->\n",
              "<g id=\"node10\" class=\"node\">\n",
              "<title>140146259436912</title>\n",
              "<polygon fill=\"lightblue\" stroke=\"black\" points=\"538,-449 425,-449 425,-419 538,-419 538,-449\"/>\n",
              "<text text-anchor=\"middle\" x=\"481.5\" y=\"-437\" font-family=\"monospace\" font-size=\"10.00\">pipeline.13.bias</text>\n",
              "<text text-anchor=\"middle\" x=\"481.5\" y=\"-426\" font-family=\"monospace\" font-size=\"10.00\"> (128)</text>\n",
              "</g>\n",
              "<!-- 140146259436912&#45;&gt;140146259404800 -->\n",
              "<g id=\"edge8\" class=\"edge\">\n",
              "<title>140146259436912&#45;&gt;140146259404800</title>\n",
              "<path fill=\"none\" stroke=\"black\" d=\"M482.61,-418.8C483.32,-409.7 484.25,-397.79 485.02,-387.9\"/>\n",
              "<polygon fill=\"black\" stroke=\"black\" points=\"488.52,-388.09 485.81,-377.84 481.54,-387.54 488.52,-388.09\"/>\n",
              "</g>\n",
              "<!-- 140146259404656 -->\n",
              "<g id=\"node11\" class=\"node\">\n",
              "<title>140146259404656</title>\n",
              "<polygon fill=\"lightgrey\" stroke=\"black\" points=\"654,-377.5 559,-377.5 559,-358.5 654,-358.5 654,-377.5\"/>\n",
              "<text text-anchor=\"middle\" x=\"606.5\" y=\"-365.5\" font-family=\"monospace\" font-size=\"10.00\">ReluBackward0</text>\n",
              "</g>\n",
              "<!-- 140146259404656&#45;&gt;140146259402592 -->\n",
              "<g id=\"edge9\" class=\"edge\">\n",
              "<title>140146259404656&#45;&gt;140146259402592</title>\n",
              "<path fill=\"none\" stroke=\"black\" d=\"M610.01,-358.37C613.82,-348.97 620.04,-333.67 624.97,-321.53\"/>\n",
              "<polygon fill=\"black\" stroke=\"black\" points=\"628.36,-322.49 628.88,-311.91 621.88,-319.85 628.36,-322.49\"/>\n",
              "</g>\n",
              "<!-- 140146259408352 -->\n",
              "<g id=\"node12\" class=\"node\">\n",
              "<title>140146259408352</title>\n",
              "<polygon fill=\"lightgrey\" stroke=\"black\" points=\"657,-443.5 556,-443.5 556,-424.5 657,-424.5 657,-443.5\"/>\n",
              "<text text-anchor=\"middle\" x=\"606.5\" y=\"-431.5\" font-family=\"monospace\" font-size=\"10.00\">AddmmBackward0</text>\n",
              "</g>\n",
              "<!-- 140146259408352&#45;&gt;140146259404656 -->\n",
              "<g id=\"edge10\" class=\"edge\">\n",
              "<title>140146259408352&#45;&gt;140146259404656</title>\n",
              "<path fill=\"none\" stroke=\"black\" d=\"M606.5,-424.37C606.5,-415.16 606.5,-400.29 606.5,-388.27\"/>\n",
              "<polygon fill=\"black\" stroke=\"black\" points=\"610,-387.91 606.5,-377.91 603,-387.91 610,-387.91\"/>\n",
              "</g>\n",
              "<!-- 140146259400192 -->\n",
              "<g id=\"node13\" class=\"node\">\n",
              "<title>140146259400192</title>\n",
              "<polygon fill=\"lightgrey\" stroke=\"black\" points=\"488,-509.5 387,-509.5 387,-490.5 488,-490.5 488,-509.5\"/>\n",
              "<text text-anchor=\"middle\" x=\"437.5\" y=\"-497.5\" font-family=\"monospace\" font-size=\"10.00\">AccumulateGrad</text>\n",
              "</g>\n",
              "<!-- 140146259400192&#45;&gt;140146259408352 -->\n",
              "<g id=\"edge11\" class=\"edge\">\n",
              "<title>140146259400192&#45;&gt;140146259408352</title>\n",
              "<path fill=\"none\" stroke=\"black\" d=\"M460.29,-490.37C489.6,-479.27 540.7,-459.92 574.06,-447.28\"/>\n",
              "<polygon fill=\"black\" stroke=\"black\" points=\"575.69,-450.41 583.8,-443.6 573.21,-443.86 575.69,-450.41\"/>\n",
              "</g>\n",
              "<!-- 140146259436752 -->\n",
              "<g id=\"node14\" class=\"node\">\n",
              "<title>140146259436752</title>\n",
              "<polygon fill=\"lightblue\" stroke=\"black\" points=\"467,-581 354,-581 354,-551 467,-551 467,-581\"/>\n",
              "<text text-anchor=\"middle\" x=\"410.5\" y=\"-569\" font-family=\"monospace\" font-size=\"10.00\">pipeline.11.bias</text>\n",
              "<text text-anchor=\"middle\" x=\"410.5\" y=\"-558\" font-family=\"monospace\" font-size=\"10.00\"> (512)</text>\n",
              "</g>\n",
              "<!-- 140146259436752&#45;&gt;140146259400192 -->\n",
              "<g id=\"edge12\" class=\"edge\">\n",
              "<title>140146259436752&#45;&gt;140146259400192</title>\n",
              "<path fill=\"none\" stroke=\"black\" d=\"M416.49,-550.8C420.41,-541.5 425.57,-529.27 429.8,-519.26\"/>\n",
              "<polygon fill=\"black\" stroke=\"black\" points=\"433.11,-520.42 433.77,-509.84 426.66,-517.7 433.11,-520.42\"/>\n",
              "</g>\n",
              "<!-- 140146259408256 -->\n",
              "<g id=\"node15\" class=\"node\">\n",
              "<title>140146259408256</title>\n",
              "<polygon fill=\"lightgrey\" stroke=\"black\" points=\"628,-509.5 533,-509.5 533,-490.5 628,-490.5 628,-509.5\"/>\n",
              "<text text-anchor=\"middle\" x=\"580.5\" y=\"-497.5\" font-family=\"monospace\" font-size=\"10.00\">ViewBackward0</text>\n",
              "</g>\n",
              "<!-- 140146259408256&#45;&gt;140146259408352 -->\n",
              "<g id=\"edge13\" class=\"edge\">\n",
              "<title>140146259408256&#45;&gt;140146259408352</title>\n",
              "<path fill=\"none\" stroke=\"black\" d=\"M584.01,-490.37C587.82,-480.97 594.04,-465.67 598.97,-453.53\"/>\n",
              "<polygon fill=\"black\" stroke=\"black\" points=\"602.36,-454.49 602.88,-443.91 595.88,-451.85 602.36,-454.49\"/>\n",
              "</g>\n",
              "<!-- 140146259410896 -->\n",
              "<g id=\"node16\" class=\"node\">\n",
              "<title>140146259410896</title>\n",
              "<polygon fill=\"lightgrey\" stroke=\"black\" points=\"676,-575.5 485,-575.5 485,-556.5 676,-556.5 676,-575.5\"/>\n",
              "<text text-anchor=\"middle\" x=\"580.5\" y=\"-563.5\" font-family=\"monospace\" font-size=\"10.00\">MaxPool2DWithIndicesBackward0</text>\n",
              "</g>\n",
              "<!-- 140146259410896&#45;&gt;140146259408256 -->\n",
              "<g id=\"edge14\" class=\"edge\">\n",
              "<title>140146259410896&#45;&gt;140146259408256</title>\n",
              "<path fill=\"none\" stroke=\"black\" d=\"M580.5,-556.37C580.5,-547.16 580.5,-532.29 580.5,-520.27\"/>\n",
              "<polygon fill=\"black\" stroke=\"black\" points=\"584,-519.91 580.5,-509.91 577,-519.91 584,-519.91\"/>\n",
              "</g>\n",
              "<!-- 140146259410512 -->\n",
              "<g id=\"node17\" class=\"node\">\n",
              "<title>140146259410512</title>\n",
              "<polygon fill=\"lightgrey\" stroke=\"black\" points=\"628,-641.5 533,-641.5 533,-622.5 628,-622.5 628,-641.5\"/>\n",
              "<text text-anchor=\"middle\" x=\"580.5\" y=\"-629.5\" font-family=\"monospace\" font-size=\"10.00\">ReluBackward0</text>\n",
              "</g>\n",
              "<!-- 140146259410512&#45;&gt;140146259410896 -->\n",
              "<g id=\"edge15\" class=\"edge\">\n",
              "<title>140146259410512&#45;&gt;140146259410896</title>\n",
              "<path fill=\"none\" stroke=\"black\" d=\"M580.5,-622.37C580.5,-613.16 580.5,-598.29 580.5,-586.27\"/>\n",
              "<polygon fill=\"black\" stroke=\"black\" points=\"584,-585.91 580.5,-575.91 577,-585.91 584,-585.91\"/>\n",
              "</g>\n",
              "<!-- 140146259402064 -->\n",
              "<g id=\"node18\" class=\"node\">\n",
              "<title>140146259402064</title>\n",
              "<polygon fill=\"lightgrey\" stroke=\"black\" points=\"649,-702 512,-702 512,-683 649,-683 649,-702\"/>\n",
              "<text text-anchor=\"middle\" x=\"580.5\" y=\"-690\" font-family=\"monospace\" font-size=\"10.00\">ConvolutionBackward0</text>\n",
              "</g>\n",
              "<!-- 140146259402064&#45;&gt;140146259410512 -->\n",
              "<g id=\"edge16\" class=\"edge\">\n",
              "<title>140146259402064&#45;&gt;140146259410512</title>\n",
              "<path fill=\"none\" stroke=\"black\" d=\"M580.5,-682.87C580.5,-674.75 580.5,-662.31 580.5,-651.89\"/>\n",
              "<polygon fill=\"black\" stroke=\"black\" points=\"584,-651.67 580.5,-641.67 577,-651.67 584,-651.67\"/>\n",
              "</g>\n",
              "<!-- 140146259401584 -->\n",
              "<g id=\"node19\" class=\"node\">\n",
              "<title>140146259401584</title>\n",
              "<polygon fill=\"lightgrey\" stroke=\"black\" points=\"497,-757 402,-757 402,-738 497,-738 497,-757\"/>\n",
              "<text text-anchor=\"middle\" x=\"449.5\" y=\"-745\" font-family=\"monospace\" font-size=\"10.00\">ReluBackward0</text>\n",
              "</g>\n",
              "<!-- 140146259401584&#45;&gt;140146259402064 -->\n",
              "<g id=\"edge17\" class=\"edge\">\n",
              "<title>140146259401584&#45;&gt;140146259402064</title>\n",
              "<path fill=\"none\" stroke=\"black\" d=\"M470.55,-737.98C491.91,-729.34 525.2,-715.87 549.56,-706.02\"/>\n",
              "<polygon fill=\"black\" stroke=\"black\" points=\"551.11,-709.17 559.07,-702.17 548.49,-702.68 551.11,-709.17\"/>\n",
              "</g>\n",
              "<!-- 140146259401632 -->\n",
              "<g id=\"node20\" class=\"node\">\n",
              "<title>140146259401632</title>\n",
              "<polygon fill=\"lightgrey\" stroke=\"black\" points=\"503,-817.5 366,-817.5 366,-798.5 503,-798.5 503,-817.5\"/>\n",
              "<text text-anchor=\"middle\" x=\"434.5\" y=\"-805.5\" font-family=\"monospace\" font-size=\"10.00\">ConvolutionBackward0</text>\n",
              "</g>\n",
              "<!-- 140146259401632&#45;&gt;140146259401584 -->\n",
              "<g id=\"edge18\" class=\"edge\">\n",
              "<title>140146259401632&#45;&gt;140146259401584</title>\n",
              "<path fill=\"none\" stroke=\"black\" d=\"M436.71,-798.37C438.82,-790.16 442.05,-777.54 444.74,-767.05\"/>\n",
              "<polygon fill=\"black\" stroke=\"black\" points=\"448.18,-767.72 447.28,-757.17 441.4,-765.98 448.18,-767.72\"/>\n",
              "</g>\n",
              "<!-- 140146259395488 -->\n",
              "<g id=\"node21\" class=\"node\">\n",
              "<title>140146259395488</title>\n",
              "<polygon fill=\"lightgrey\" stroke=\"black\" points=\"366,-878 175,-878 175,-859 366,-859 366,-878\"/>\n",
              "<text text-anchor=\"middle\" x=\"270.5\" y=\"-866\" font-family=\"monospace\" font-size=\"10.00\">MaxPool2DWithIndicesBackward0</text>\n",
              "</g>\n",
              "<!-- 140146259395488&#45;&gt;140146259401632 -->\n",
              "<g id=\"edge19\" class=\"edge\">\n",
              "<title>140146259395488&#45;&gt;140146259401632</title>\n",
              "<path fill=\"none\" stroke=\"black\" d=\"M294.35,-858.99C322.4,-848.99 369.17,-832.3 400.9,-820.99\"/>\n",
              "<polygon fill=\"black\" stroke=\"black\" points=\"402.38,-824.17 410.62,-817.52 400.03,-817.58 402.38,-824.17\"/>\n",
              "</g>\n",
              "<!-- 140146259406720 -->\n",
              "<g id=\"node22\" class=\"node\">\n",
              "<title>140146259406720</title>\n",
              "<polygon fill=\"lightgrey\" stroke=\"black\" points=\"318,-938.5 223,-938.5 223,-919.5 318,-919.5 318,-938.5\"/>\n",
              "<text text-anchor=\"middle\" x=\"270.5\" y=\"-926.5\" font-family=\"monospace\" font-size=\"10.00\">ReluBackward0</text>\n",
              "</g>\n",
              "<!-- 140146259406720&#45;&gt;140146259395488 -->\n",
              "<g id=\"edge20\" class=\"edge\">\n",
              "<title>140146259406720&#45;&gt;140146259395488</title>\n",
              "<path fill=\"none\" stroke=\"black\" d=\"M270.5,-919.37C270.5,-911.25 270.5,-898.81 270.5,-888.39\"/>\n",
              "<polygon fill=\"black\" stroke=\"black\" points=\"274,-888.17 270.5,-878.17 267,-888.17 274,-888.17\"/>\n",
              "</g>\n",
              "<!-- 140146259407200 -->\n",
              "<g id=\"node23\" class=\"node\">\n",
              "<title>140146259407200</title>\n",
              "<polygon fill=\"lightgrey\" stroke=\"black\" points=\"339,-999 202,-999 202,-980 339,-980 339,-999\"/>\n",
              "<text text-anchor=\"middle\" x=\"270.5\" y=\"-987\" font-family=\"monospace\" font-size=\"10.00\">ConvolutionBackward0</text>\n",
              "</g>\n",
              "<!-- 140146259407200&#45;&gt;140146259406720 -->\n",
              "<g id=\"edge21\" class=\"edge\">\n",
              "<title>140146259407200&#45;&gt;140146259406720</title>\n",
              "<path fill=\"none\" stroke=\"black\" d=\"M270.5,-979.87C270.5,-971.75 270.5,-959.31 270.5,-948.89\"/>\n",
              "<polygon fill=\"black\" stroke=\"black\" points=\"274,-948.67 270.5,-938.67 267,-948.67 274,-948.67\"/>\n",
              "</g>\n",
              "<!-- 140146259403744 -->\n",
              "<g id=\"node24\" class=\"node\">\n",
              "<title>140146259403744</title>\n",
              "<polygon fill=\"lightgrey\" stroke=\"black\" points=\"187,-1054 92,-1054 92,-1035 187,-1035 187,-1054\"/>\n",
              "<text text-anchor=\"middle\" x=\"139.5\" y=\"-1042\" font-family=\"monospace\" font-size=\"10.00\">ReluBackward0</text>\n",
              "</g>\n",
              "<!-- 140146259403744&#45;&gt;140146259407200 -->\n",
              "<g id=\"edge22\" class=\"edge\">\n",
              "<title>140146259403744&#45;&gt;140146259407200</title>\n",
              "<path fill=\"none\" stroke=\"black\" d=\"M160.55,-1034.98C181.91,-1026.34 215.2,-1012.87 239.56,-1003.02\"/>\n",
              "<polygon fill=\"black\" stroke=\"black\" points=\"241.11,-1006.17 249.07,-999.17 238.49,-999.68 241.11,-1006.17\"/>\n",
              "</g>\n",
              "<!-- 140146259401392 -->\n",
              "<g id=\"node25\" class=\"node\">\n",
              "<title>140146259401392</title>\n",
              "<polygon fill=\"lightgrey\" stroke=\"black\" points=\"193,-1114.5 56,-1114.5 56,-1095.5 193,-1095.5 193,-1114.5\"/>\n",
              "<text text-anchor=\"middle\" x=\"124.5\" y=\"-1102.5\" font-family=\"monospace\" font-size=\"10.00\">ConvolutionBackward0</text>\n",
              "</g>\n",
              "<!-- 140146259401392&#45;&gt;140146259403744 -->\n",
              "<g id=\"edge23\" class=\"edge\">\n",
              "<title>140146259401392&#45;&gt;140146259403744</title>\n",
              "<path fill=\"none\" stroke=\"black\" d=\"M126.71,-1095.37C128.82,-1087.16 132.05,-1074.54 134.74,-1064.05\"/>\n",
              "<polygon fill=\"black\" stroke=\"black\" points=\"138.18,-1064.72 137.28,-1054.17 131.4,-1062.98 138.18,-1064.72\"/>\n",
              "</g>\n",
              "<!-- 140146259404896 -->\n",
              "<g id=\"node26\" class=\"node\">\n",
              "<title>140146259404896</title>\n",
              "<polygon fill=\"lightgrey\" stroke=\"black\" points=\"116,-1175 15,-1175 15,-1156 116,-1156 116,-1175\"/>\n",
              "<text text-anchor=\"middle\" x=\"65.5\" y=\"-1163\" font-family=\"monospace\" font-size=\"10.00\">AccumulateGrad</text>\n",
              "</g>\n",
              "<!-- 140146259404896&#45;&gt;140146259401392 -->\n",
              "<g id=\"edge24\" class=\"edge\">\n",
              "<title>140146259404896&#45;&gt;140146259401392</title>\n",
              "<path fill=\"none\" stroke=\"black\" d=\"M74.21,-1155.87C83.18,-1146.97 97.38,-1132.89 108.41,-1121.95\"/>\n",
              "<polygon fill=\"black\" stroke=\"black\" points=\"111.12,-1124.19 115.76,-1114.67 106.19,-1119.22 111.12,-1124.19\"/>\n",
              "</g>\n",
              "<!-- 140146259435792 -->\n",
              "<g id=\"node27\" class=\"node\">\n",
              "<title>140146259435792</title>\n",
              "<polygon fill=\"lightblue\" stroke=\"black\" points=\"119,-1241 0,-1241 0,-1211 119,-1211 119,-1241\"/>\n",
              "<text text-anchor=\"middle\" x=\"59.5\" y=\"-1229\" font-family=\"monospace\" font-size=\"10.00\">pipeline.0.weight</text>\n",
              "<text text-anchor=\"middle\" x=\"59.5\" y=\"-1218\" font-family=\"monospace\" font-size=\"10.00\"> (100, 1, 5, 5)</text>\n",
              "</g>\n",
              "<!-- 140146259435792&#45;&gt;140146259404896 -->\n",
              "<g id=\"edge25\" class=\"edge\">\n",
              "<title>140146259435792&#45;&gt;140146259404896</title>\n",
              "<path fill=\"none\" stroke=\"black\" d=\"M60.95,-1210.84C61.73,-1203.21 62.71,-1193.7 63.56,-1185.45\"/>\n",
              "<polygon fill=\"black\" stroke=\"black\" points=\"67.06,-1185.57 64.6,-1175.27 60.1,-1184.86 67.06,-1185.57\"/>\n",
              "</g>\n",
              "<!-- 140146259403936 -->\n",
              "<g id=\"node28\" class=\"node\">\n",
              "<title>140146259403936</title>\n",
              "<polygon fill=\"lightgrey\" stroke=\"black\" points=\"238,-1175 137,-1175 137,-1156 238,-1156 238,-1175\"/>\n",
              "<text text-anchor=\"middle\" x=\"187.5\" y=\"-1163\" font-family=\"monospace\" font-size=\"10.00\">AccumulateGrad</text>\n",
              "</g>\n",
              "<!-- 140146259403936&#45;&gt;140146259401392 -->\n",
              "<g id=\"edge26\" class=\"edge\">\n",
              "<title>140146259403936&#45;&gt;140146259401392</title>\n",
              "<path fill=\"none\" stroke=\"black\" d=\"M178.2,-1155.87C168.53,-1146.88 153.16,-1132.61 141.34,-1121.64\"/>\n",
              "<polygon fill=\"black\" stroke=\"black\" points=\"143.54,-1118.91 133.83,-1114.67 138.78,-1124.04 143.54,-1118.91\"/>\n",
              "</g>\n",
              "<!-- 140146259435872 -->\n",
              "<g id=\"node29\" class=\"node\">\n",
              "<title>140146259435872</title>\n",
              "<polygon fill=\"lightblue\" stroke=\"black\" points=\"244,-1241 137,-1241 137,-1211 244,-1211 244,-1241\"/>\n",
              "<text text-anchor=\"middle\" x=\"190.5\" y=\"-1229\" font-family=\"monospace\" font-size=\"10.00\">pipeline.0.bias</text>\n",
              "<text text-anchor=\"middle\" x=\"190.5\" y=\"-1218\" font-family=\"monospace\" font-size=\"10.00\"> (100)</text>\n",
              "</g>\n",
              "<!-- 140146259435872&#45;&gt;140146259403936 -->\n",
              "<g id=\"edge27\" class=\"edge\">\n",
              "<title>140146259435872&#45;&gt;140146259403936</title>\n",
              "<path fill=\"none\" stroke=\"black\" d=\"M189.77,-1210.84C189.38,-1203.21 188.9,-1193.7 188.47,-1185.45\"/>\n",
              "<polygon fill=\"black\" stroke=\"black\" points=\"191.96,-1185.07 187.95,-1175.27 184.97,-1185.43 191.96,-1185.07\"/>\n",
              "</g>\n",
              "<!-- 140146259395392 -->\n",
              "<g id=\"node30\" class=\"node\">\n",
              "<title>140146259395392</title>\n",
              "<polygon fill=\"lightgrey\" stroke=\"black\" points=\"321,-1054 220,-1054 220,-1035 321,-1035 321,-1054\"/>\n",
              "<text text-anchor=\"middle\" x=\"270.5\" y=\"-1042\" font-family=\"monospace\" font-size=\"10.00\">AccumulateGrad</text>\n",
              "</g>\n",
              "<!-- 140146259395392&#45;&gt;140146259407200 -->\n",
              "<g id=\"edge28\" class=\"edge\">\n",
              "<title>140146259395392&#45;&gt;140146259407200</title>\n",
              "<path fill=\"none\" stroke=\"black\" d=\"M270.5,-1034.75C270.5,-1027.8 270.5,-1017.85 270.5,-1009.13\"/>\n",
              "<polygon fill=\"black\" stroke=\"black\" points=\"274,-1009.09 270.5,-999.09 267,-1009.09 274,-1009.09\"/>\n",
              "</g>\n",
              "<!-- 140146259436032 -->\n",
              "<g id=\"node31\" class=\"node\">\n",
              "<title>140146259436032</title>\n",
              "<polygon fill=\"lightblue\" stroke=\"black\" points=\"330,-1120 211,-1120 211,-1090 330,-1090 330,-1120\"/>\n",
              "<text text-anchor=\"middle\" x=\"270.5\" y=\"-1108\" font-family=\"monospace\" font-size=\"10.00\">pipeline.2.weight</text>\n",
              "<text text-anchor=\"middle\" x=\"270.5\" y=\"-1097\" font-family=\"monospace\" font-size=\"10.00\"> (50, 100, 3, 3)</text>\n",
              "</g>\n",
              "<!-- 140146259436032&#45;&gt;140146259395392 -->\n",
              "<g id=\"edge29\" class=\"edge\">\n",
              "<title>140146259436032&#45;&gt;140146259395392</title>\n",
              "<path fill=\"none\" stroke=\"black\" d=\"M270.5,-1089.84C270.5,-1082.21 270.5,-1072.7 270.5,-1064.45\"/>\n",
              "<polygon fill=\"black\" stroke=\"black\" points=\"274,-1064.27 270.5,-1054.27 267,-1064.27 274,-1064.27\"/>\n",
              "</g>\n",
              "<!-- 140146259408736 -->\n",
              "<g id=\"node32\" class=\"node\">\n",
              "<title>140146259408736</title>\n",
              "<polygon fill=\"lightgrey\" stroke=\"black\" points=\"446,-1054 345,-1054 345,-1035 446,-1035 446,-1054\"/>\n",
              "<text text-anchor=\"middle\" x=\"395.5\" y=\"-1042\" font-family=\"monospace\" font-size=\"10.00\">AccumulateGrad</text>\n",
              "</g>\n",
              "<!-- 140146259408736&#45;&gt;140146259407200 -->\n",
              "<g id=\"edge30\" class=\"edge\">\n",
              "<title>140146259408736&#45;&gt;140146259407200</title>\n",
              "<path fill=\"none\" stroke=\"black\" d=\"M375.42,-1034.98C355.13,-1026.38 323.54,-1012.99 300.33,-1003.15\"/>\n",
              "<polygon fill=\"black\" stroke=\"black\" points=\"301.52,-999.85 290.95,-999.17 298.79,-1006.3 301.52,-999.85\"/>\n",
              "</g>\n",
              "<!-- 140146259436112 -->\n",
              "<g id=\"node33\" class=\"node\">\n",
              "<title>140146259436112</title>\n",
              "<polygon fill=\"lightblue\" stroke=\"black\" points=\"455,-1120 348,-1120 348,-1090 455,-1090 455,-1120\"/>\n",
              "<text text-anchor=\"middle\" x=\"401.5\" y=\"-1108\" font-family=\"monospace\" font-size=\"10.00\">pipeline.2.bias</text>\n",
              "<text text-anchor=\"middle\" x=\"401.5\" y=\"-1097\" font-family=\"monospace\" font-size=\"10.00\"> (50)</text>\n",
              "</g>\n",
              "<!-- 140146259436112&#45;&gt;140146259408736 -->\n",
              "<g id=\"edge31\" class=\"edge\">\n",
              "<title>140146259436112&#45;&gt;140146259408736</title>\n",
              "<path fill=\"none\" stroke=\"black\" d=\"M400.05,-1089.84C399.27,-1082.21 398.29,-1072.7 397.44,-1064.45\"/>\n",
              "<polygon fill=\"black\" stroke=\"black\" points=\"400.9,-1063.86 396.4,-1054.27 393.94,-1064.57 400.9,-1063.86\"/>\n",
              "</g>\n",
              "<!-- 140146259395248 -->\n",
              "<g id=\"node34\" class=\"node\">\n",
              "<title>140146259395248</title>\n",
              "<polygon fill=\"lightgrey\" stroke=\"black\" points=\"485,-878 384,-878 384,-859 485,-859 485,-878\"/>\n",
              "<text text-anchor=\"middle\" x=\"434.5\" y=\"-866\" font-family=\"monospace\" font-size=\"10.00\">AccumulateGrad</text>\n",
              "</g>\n",
              "<!-- 140146259395248&#45;&gt;140146259401632 -->\n",
              "<g id=\"edge32\" class=\"edge\">\n",
              "<title>140146259395248&#45;&gt;140146259401632</title>\n",
              "<path fill=\"none\" stroke=\"black\" d=\"M434.5,-858.87C434.5,-850.75 434.5,-838.31 434.5,-827.89\"/>\n",
              "<polygon fill=\"black\" stroke=\"black\" points=\"438,-827.67 434.5,-817.67 431,-827.67 438,-827.67\"/>\n",
              "</g>\n",
              "<!-- 140146259436272 -->\n",
              "<g id=\"node35\" class=\"node\">\n",
              "<title>140146259436272</title>\n",
              "<polygon fill=\"lightblue\" stroke=\"black\" points=\"491,-944 372,-944 372,-914 491,-914 491,-944\"/>\n",
              "<text text-anchor=\"middle\" x=\"431.5\" y=\"-932\" font-family=\"monospace\" font-size=\"10.00\">pipeline.5.weight</text>\n",
              "<text text-anchor=\"middle\" x=\"431.5\" y=\"-921\" font-family=\"monospace\" font-size=\"10.00\"> (50, 50, 3, 3)</text>\n",
              "</g>\n",
              "<!-- 140146259436272&#45;&gt;140146259395248 -->\n",
              "<g id=\"edge33\" class=\"edge\">\n",
              "<title>140146259436272&#45;&gt;140146259395248</title>\n",
              "<path fill=\"none\" stroke=\"black\" d=\"M432.23,-913.84C432.62,-906.21 433.1,-896.7 433.53,-888.45\"/>\n",
              "<polygon fill=\"black\" stroke=\"black\" points=\"437.03,-888.43 434.05,-878.27 430.04,-888.07 437.03,-888.43\"/>\n",
              "</g>\n",
              "<!-- 140146259401536 -->\n",
              "<g id=\"node36\" class=\"node\">\n",
              "<title>140146259401536</title>\n",
              "<polygon fill=\"lightgrey\" stroke=\"black\" points=\"607,-878 506,-878 506,-859 607,-859 607,-878\"/>\n",
              "<text text-anchor=\"middle\" x=\"556.5\" y=\"-866\" font-family=\"monospace\" font-size=\"10.00\">AccumulateGrad</text>\n",
              "</g>\n",
              "<!-- 140146259401536&#45;&gt;140146259401632 -->\n",
              "<g id=\"edge34\" class=\"edge\">\n",
              "<title>140146259401536&#45;&gt;140146259401632</title>\n",
              "<path fill=\"none\" stroke=\"black\" d=\"M538.76,-858.99C518.43,-849.25 484.89,-833.16 461.36,-821.88\"/>\n",
              "<polygon fill=\"black\" stroke=\"black\" points=\"462.79,-818.68 452.26,-817.52 459.76,-825 462.79,-818.68\"/>\n",
              "</g>\n",
              "<!-- 140146259436352 -->\n",
              "<g id=\"node37\" class=\"node\">\n",
              "<title>140146259436352</title>\n",
              "<polygon fill=\"lightblue\" stroke=\"black\" points=\"616,-944 509,-944 509,-914 616,-914 616,-944\"/>\n",
              "<text text-anchor=\"middle\" x=\"562.5\" y=\"-932\" font-family=\"monospace\" font-size=\"10.00\">pipeline.5.bias</text>\n",
              "<text text-anchor=\"middle\" x=\"562.5\" y=\"-921\" font-family=\"monospace\" font-size=\"10.00\"> (50)</text>\n",
              "</g>\n",
              "<!-- 140146259436352&#45;&gt;140146259401536 -->\n",
              "<g id=\"edge35\" class=\"edge\">\n",
              "<title>140146259436352&#45;&gt;140146259401536</title>\n",
              "<path fill=\"none\" stroke=\"black\" d=\"M561.05,-913.84C560.27,-906.21 559.29,-896.7 558.44,-888.45\"/>\n",
              "<polygon fill=\"black\" stroke=\"black\" points=\"561.9,-887.86 557.4,-878.27 554.94,-888.57 561.9,-887.86\"/>\n",
              "</g>\n",
              "<!-- 140146259408640 -->\n",
              "<g id=\"node38\" class=\"node\">\n",
              "<title>140146259408640</title>\n",
              "<polygon fill=\"lightgrey\" stroke=\"black\" points=\"631,-757 530,-757 530,-738 631,-738 631,-757\"/>\n",
              "<text text-anchor=\"middle\" x=\"580.5\" y=\"-745\" font-family=\"monospace\" font-size=\"10.00\">AccumulateGrad</text>\n",
              "</g>\n",
              "<!-- 140146259408640&#45;&gt;140146259402064 -->\n",
              "<g id=\"edge36\" class=\"edge\">\n",
              "<title>140146259408640&#45;&gt;140146259402064</title>\n",
              "<path fill=\"none\" stroke=\"black\" d=\"M580.5,-737.75C580.5,-730.8 580.5,-720.85 580.5,-712.13\"/>\n",
              "<polygon fill=\"black\" stroke=\"black\" points=\"584,-712.09 580.5,-702.09 577,-712.09 584,-712.09\"/>\n",
              "</g>\n",
              "<!-- 140146259436512 -->\n",
              "<g id=\"node39\" class=\"node\">\n",
              "<title>140146259436512</title>\n",
              "<polygon fill=\"lightblue\" stroke=\"black\" points=\"640,-823 521,-823 521,-793 640,-793 640,-823\"/>\n",
              "<text text-anchor=\"middle\" x=\"580.5\" y=\"-811\" font-family=\"monospace\" font-size=\"10.00\">pipeline.7.weight</text>\n",
              "<text text-anchor=\"middle\" x=\"580.5\" y=\"-800\" font-family=\"monospace\" font-size=\"10.00\"> (50, 50, 3, 3)</text>\n",
              "</g>\n",
              "<!-- 140146259436512&#45;&gt;140146259408640 -->\n",
              "<g id=\"edge37\" class=\"edge\">\n",
              "<title>140146259436512&#45;&gt;140146259408640</title>\n",
              "<path fill=\"none\" stroke=\"black\" d=\"M580.5,-792.84C580.5,-785.21 580.5,-775.7 580.5,-767.45\"/>\n",
              "<polygon fill=\"black\" stroke=\"black\" points=\"584,-767.27 580.5,-757.27 577,-767.27 584,-767.27\"/>\n",
              "</g>\n",
              "<!-- 140146259409504 -->\n",
              "<g id=\"node40\" class=\"node\">\n",
              "<title>140146259409504</title>\n",
              "<polygon fill=\"lightgrey\" stroke=\"black\" points=\"756,-757 655,-757 655,-738 756,-738 756,-757\"/>\n",
              "<text text-anchor=\"middle\" x=\"705.5\" y=\"-745\" font-family=\"monospace\" font-size=\"10.00\">AccumulateGrad</text>\n",
              "</g>\n",
              "<!-- 140146259409504&#45;&gt;140146259402064 -->\n",
              "<g id=\"edge38\" class=\"edge\">\n",
              "<title>140146259409504&#45;&gt;140146259402064</title>\n",
              "<path fill=\"none\" stroke=\"black\" d=\"M685.42,-737.98C665.13,-729.38 633.54,-715.99 610.33,-706.15\"/>\n",
              "<polygon fill=\"black\" stroke=\"black\" points=\"611.52,-702.85 600.95,-702.17 608.79,-709.3 611.52,-702.85\"/>\n",
              "</g>\n",
              "<!-- 140146259436592 -->\n",
              "<g id=\"node41\" class=\"node\">\n",
              "<title>140146259436592</title>\n",
              "<polygon fill=\"lightblue\" stroke=\"black\" points=\"765,-823 658,-823 658,-793 765,-793 765,-823\"/>\n",
              "<text text-anchor=\"middle\" x=\"711.5\" y=\"-811\" font-family=\"monospace\" font-size=\"10.00\">pipeline.7.bias</text>\n",
              "<text text-anchor=\"middle\" x=\"711.5\" y=\"-800\" font-family=\"monospace\" font-size=\"10.00\"> (50)</text>\n",
              "</g>\n",
              "<!-- 140146259436592&#45;&gt;140146259409504 -->\n",
              "<g id=\"edge39\" class=\"edge\">\n",
              "<title>140146259436592&#45;&gt;140146259409504</title>\n",
              "<path fill=\"none\" stroke=\"black\" d=\"M710.05,-792.84C709.27,-785.21 708.29,-775.7 707.44,-767.45\"/>\n",
              "<polygon fill=\"black\" stroke=\"black\" points=\"710.9,-766.86 706.4,-757.27 703.94,-767.57 710.9,-766.86\"/>\n",
              "</g>\n",
              "<!-- 140146259408208 -->\n",
              "<g id=\"node42\" class=\"node\">\n",
              "<title>140146259408208</title>\n",
              "<polygon fill=\"lightgrey\" stroke=\"black\" points=\"723,-509.5 646,-509.5 646,-490.5 723,-490.5 723,-509.5\"/>\n",
              "<text text-anchor=\"middle\" x=\"684.5\" y=\"-497.5\" font-family=\"monospace\" font-size=\"10.00\">TBackward0</text>\n",
              "</g>\n",
              "<!-- 140146259408208&#45;&gt;140146259408352 -->\n",
              "<g id=\"edge40\" class=\"edge\">\n",
              "<title>140146259408208&#45;&gt;140146259408352</title>\n",
              "<path fill=\"none\" stroke=\"black\" d=\"M673.98,-490.37C661.42,-480.06 640.19,-462.65 624.9,-450.09\"/>\n",
              "<polygon fill=\"black\" stroke=\"black\" points=\"627.05,-447.34 617.1,-443.7 622.61,-452.75 627.05,-447.34\"/>\n",
              "</g>\n",
              "<!-- 140146259402928 -->\n",
              "<g id=\"node43\" class=\"node\">\n",
              "<title>140146259402928</title>\n",
              "<polygon fill=\"lightgrey\" stroke=\"black\" points=\"795,-575.5 694,-575.5 694,-556.5 795,-556.5 795,-575.5\"/>\n",
              "<text text-anchor=\"middle\" x=\"744.5\" y=\"-563.5\" font-family=\"monospace\" font-size=\"10.00\">AccumulateGrad</text>\n",
              "</g>\n",
              "<!-- 140146259402928&#45;&gt;140146259408208 -->\n",
              "<g id=\"edge41\" class=\"edge\">\n",
              "<title>140146259402928&#45;&gt;140146259408208</title>\n",
              "<path fill=\"none\" stroke=\"black\" d=\"M736.41,-556.37C727.07,-546.4 711.49,-529.79 699.84,-517.36\"/>\n",
              "<polygon fill=\"black\" stroke=\"black\" points=\"702.24,-514.81 692.85,-509.91 697.13,-519.59 702.24,-514.81\"/>\n",
              "</g>\n",
              "<!-- 140146259436672 -->\n",
              "<g id=\"node44\" class=\"node\">\n",
              "<title>140146259436672</title>\n",
              "<polygon fill=\"lightblue\" stroke=\"black\" points=\"807,-647 682,-647 682,-617 807,-617 807,-647\"/>\n",
              "<text text-anchor=\"middle\" x=\"744.5\" y=\"-635\" font-family=\"monospace\" font-size=\"10.00\">pipeline.11.weight</text>\n",
              "<text text-anchor=\"middle\" x=\"744.5\" y=\"-624\" font-family=\"monospace\" font-size=\"10.00\"> (512, 450)</text>\n",
              "</g>\n",
              "<!-- 140146259436672&#45;&gt;140146259402928 -->\n",
              "<g id=\"edge42\" class=\"edge\">\n",
              "<title>140146259436672&#45;&gt;140146259402928</title>\n",
              "<path fill=\"none\" stroke=\"black\" d=\"M744.5,-616.8C744.5,-607.7 744.5,-595.79 744.5,-585.9\"/>\n",
              "<polygon fill=\"black\" stroke=\"black\" points=\"748,-585.84 744.5,-575.84 741,-585.84 748,-585.84\"/>\n",
              "</g>\n",
              "<!-- 140146259404608 -->\n",
              "<g id=\"node45\" class=\"node\">\n",
              "<title>140146259404608</title>\n",
              "<polygon fill=\"lightgrey\" stroke=\"black\" points=\"749,-377.5 672,-377.5 672,-358.5 749,-358.5 749,-377.5\"/>\n",
              "<text text-anchor=\"middle\" x=\"710.5\" y=\"-365.5\" font-family=\"monospace\" font-size=\"10.00\">TBackward0</text>\n",
              "</g>\n",
              "<!-- 140146259404608&#45;&gt;140146259402592 -->\n",
              "<g id=\"edge43\" class=\"edge\">\n",
              "<title>140146259404608&#45;&gt;140146259402592</title>\n",
              "<path fill=\"none\" stroke=\"black\" d=\"M699.98,-358.37C687.42,-348.06 666.19,-330.65 650.9,-318.09\"/>\n",
              "<polygon fill=\"black\" stroke=\"black\" points=\"653.05,-315.34 643.1,-311.7 648.61,-320.75 653.05,-315.34\"/>\n",
              "</g>\n",
              "<!-- 140146259395584 -->\n",
              "<g id=\"node46\" class=\"node\">\n",
              "<title>140146259395584</title>\n",
              "<polygon fill=\"lightgrey\" stroke=\"black\" points=\"828,-443.5 727,-443.5 727,-424.5 828,-424.5 828,-443.5\"/>\n",
              "<text text-anchor=\"middle\" x=\"777.5\" y=\"-431.5\" font-family=\"monospace\" font-size=\"10.00\">AccumulateGrad</text>\n",
              "</g>\n",
              "<!-- 140146259395584&#45;&gt;140146259404608 -->\n",
              "<g id=\"edge44\" class=\"edge\">\n",
              "<title>140146259395584&#45;&gt;140146259404608</title>\n",
              "<path fill=\"none\" stroke=\"black\" d=\"M768.46,-424.37C757.93,-414.31 740.31,-397.48 727.26,-385.01\"/>\n",
              "<polygon fill=\"black\" stroke=\"black\" points=\"729.47,-382.28 719.82,-377.91 724.64,-387.34 729.47,-382.28\"/>\n",
              "</g>\n",
              "<!-- 140146259436832 -->\n",
              "<g id=\"node47\" class=\"node\">\n",
              "<title>140146259436832</title>\n",
              "<polygon fill=\"lightblue\" stroke=\"black\" points=\"866,-515 741,-515 741,-485 866,-485 866,-515\"/>\n",
              "<text text-anchor=\"middle\" x=\"803.5\" y=\"-503\" font-family=\"monospace\" font-size=\"10.00\">pipeline.13.weight</text>\n",
              "<text text-anchor=\"middle\" x=\"803.5\" y=\"-492\" font-family=\"monospace\" font-size=\"10.00\"> (128, 512)</text>\n",
              "</g>\n",
              "<!-- 140146259436832&#45;&gt;140146259395584 -->\n",
              "<g id=\"edge45\" class=\"edge\">\n",
              "<title>140146259436832&#45;&gt;140146259395584</title>\n",
              "<path fill=\"none\" stroke=\"black\" d=\"M797.73,-484.8C793.95,-475.5 788.99,-463.27 784.92,-453.26\"/>\n",
              "<polygon fill=\"black\" stroke=\"black\" points=\"788.1,-451.79 781.09,-443.84 781.61,-454.43 788.1,-451.79\"/>\n",
              "</g>\n",
              "<!-- 140146259409312 -->\n",
              "<g id=\"node48\" class=\"node\">\n",
              "<title>140146259409312</title>\n",
              "<polygon fill=\"lightgrey\" stroke=\"black\" points=\"808,-251 731,-251 731,-232 808,-232 808,-251\"/>\n",
              "<text text-anchor=\"middle\" x=\"769.5\" y=\"-239\" font-family=\"monospace\" font-size=\"10.00\">TBackward0</text>\n",
              "</g>\n",
              "<!-- 140146259409312&#45;&gt;140146259399760 -->\n",
              "<g id=\"edge46\" class=\"edge\">\n",
              "<title>140146259409312&#45;&gt;140146259399760</title>\n",
              "<path fill=\"none\" stroke=\"black\" d=\"M747.49,-231.98C725.05,-223.3 690.02,-209.75 664.51,-199.88\"/>\n",
              "<polygon fill=\"black\" stroke=\"black\" points=\"665.5,-196.51 654.91,-196.17 662.98,-203.04 665.5,-196.51\"/>\n",
              "</g>\n",
              "<!-- 140146259408448 -->\n",
              "<g id=\"node49\" class=\"node\">\n",
              "<title>140146259408448</title>\n",
              "<polygon fill=\"lightgrey\" stroke=\"black\" points=\"854,-311.5 753,-311.5 753,-292.5 854,-292.5 854,-311.5\"/>\n",
              "<text text-anchor=\"middle\" x=\"803.5\" y=\"-299.5\" font-family=\"monospace\" font-size=\"10.00\">AccumulateGrad</text>\n",
              "</g>\n",
              "<!-- 140146259408448&#45;&gt;140146259409312 -->\n",
              "<g id=\"edge47\" class=\"edge\">\n",
              "<title>140146259408448&#45;&gt;140146259409312</title>\n",
              "<path fill=\"none\" stroke=\"black\" d=\"M798.48,-292.37C793.56,-283.9 785.91,-270.74 779.71,-260.07\"/>\n",
              "<polygon fill=\"black\" stroke=\"black\" points=\"782.59,-258.05 774.54,-251.17 776.54,-261.57 782.59,-258.05\"/>\n",
              "</g>\n",
              "<!-- 140146259436992 -->\n",
              "<g id=\"node50\" class=\"node\">\n",
              "<title>140146259436992</title>\n",
              "<polygon fill=\"lightblue\" stroke=\"black\" points=\"892,-383 767,-383 767,-353 892,-353 892,-383\"/>\n",
              "<text text-anchor=\"middle\" x=\"829.5\" y=\"-371\" font-family=\"monospace\" font-size=\"10.00\">pipeline.15.weight</text>\n",
              "<text text-anchor=\"middle\" x=\"829.5\" y=\"-360\" font-family=\"monospace\" font-size=\"10.00\"> (26, 128)</text>\n",
              "</g>\n",
              "<!-- 140146259436992&#45;&gt;140146259408448 -->\n",
              "<g id=\"edge48\" class=\"edge\">\n",
              "<title>140146259436992&#45;&gt;140146259408448</title>\n",
              "<path fill=\"none\" stroke=\"black\" d=\"M823.73,-352.8C819.95,-343.5 814.99,-331.27 810.92,-321.26\"/>\n",
              "<polygon fill=\"black\" stroke=\"black\" points=\"814.1,-319.79 807.09,-311.84 807.61,-322.43 814.1,-319.79\"/>\n",
              "</g>\n",
              "</g>\n",
              "</svg>\n"
            ],
            "text/plain": [
              "<graphviz.graphs.Digraph at 0x7f7658023eb0>"
            ]
          },
          "execution_count": 19,
          "metadata": {},
          "output_type": "execute_result"
        }
      ],
      "source": [
        "#---\n",
        "X, y = next(iter(data_loader_train))\n",
        "\n",
        "scores = model(X)\n",
        "loss_fn = nn.CrossEntropyLoss()\n",
        "loss = loss_fn(scores, y)\n",
        "make_dot(loss, params=dict(model.named_parameters()))\n",
        "#---"
      ]
    },
    {
      "cell_type": "markdown",
      "metadata": {
        "id": "iCHyn5VUl329"
      },
      "source": [
        "This model has (many) more parameters than the logistic regression model. The increased depth, as well as the use of convolutional layers, give it *potential* to usefully leverage the spatial structure of the predictor data.\n",
        "\n",
        "Let's see how it does! Note that the following experiment may not be reproducible; nonconvexity of the empirical risk means that the results we achieve may depend strongly on the initial guess for the parameters used by the optimizer."
      ]
    },
    {
      "cell_type": "code",
      "execution_count": 20,
      "metadata": {
        "colab": {
          "base_uri": "https://localhost:8080/"
        },
        "id": "mv4Jzpcol329",
        "outputId": "90e58bde-c544-4d5d-c9cc-365d8259fc3a"
      },
      "outputs": [
        {
          "name": "stdout",
          "output_type": "stream",
          "text": [
            "Epoch 0: validation accuracy = 0.346\n",
            "Epoch 1: validation accuracy = 0.775\n",
            "Epoch 2: validation accuracy = 0.849\n",
            "Epoch 3: validation accuracy = 0.877\n",
            "Epoch 4: validation accuracy = 0.878\n"
          ]
        }
      ],
      "source": [
        "#---\n",
        "train(model, k_epochs = 5,  lr = 0.01, evaluate_after_epoch = True, momentum = 0.9)\n",
        "#---"
      ]
    },
    {
      "cell_type": "markdown",
      "metadata": {
        "id": "3HThXP6cVgr7"
      },
      "source": [
        "Although this model takes *much* longer to complete a single epoch, it is also able to achieve much higher validation accuracy than the pure logistic regression model (which, as you'll recall from our previous work on this data set, leveled out around 67%)."
      ]
    },
    {
      "cell_type": "markdown",
      "metadata": {
        "id": "X8Aa-tWUY1h6"
      },
      "source": [
        "## Transfer Learning\n",
        "\n",
        "*Transfer learning* is a fancy phrase describing the simple technique of using a pre-existing model and tweaking it slightly to be suitable for your task. This is most frequently done with largescale models that couldn't practically be fully trained on the available computing power. The theory is that a large, powerful model for e.g. image classification on some general image classification data set may have learned a useful set of hidden features that may have generic utility for other image classification tasks.\n",
        "\n",
        "Let's use `ImageNet`, a well-known class of models trained for image classification tasks. `torch.models` allows you to easily create an instance of an ImageNet model:\n"
      ]
    },
    {
      "cell_type": "code",
      "execution_count": 60,
      "metadata": {
        "id": "OYMsmeeRbxvU"
      },
      "outputs": [],
      "source": [
        "#---\n",
        "model = models.resnet18(weights='IMAGENET1K_V1')\n",
        "#---"
      ]
    },
    {
      "cell_type": "markdown",
      "metadata": {
        "id": "Ua1wmQ86gZdP"
      },
      "source": [
        "Let's take a look at the structure of this model. Note that the input shape is `(3, 28, 28)` because `ImageNet` is trained on color images with three RGB color channels."
      ]
    },
    {
      "cell_type": "code",
      "execution_count": 61,
      "metadata": {
        "colab": {
          "base_uri": "https://localhost:8080/"
        },
        "id": "XSfmmpqtgbU7",
        "outputId": "75a55380-92f7-45ef-e396-71aec1f5423f"
      },
      "outputs": [
        {
          "name": "stdout",
          "output_type": "stream",
          "text": [
            "----------------------------------------------------------------\n",
            "        Layer (type)               Output Shape         Param #\n",
            "================================================================\n",
            "            Conv2d-1           [-1, 64, 14, 14]           9,408\n",
            "       BatchNorm2d-2           [-1, 64, 14, 14]             128\n",
            "              ReLU-3           [-1, 64, 14, 14]               0\n",
            "         MaxPool2d-4             [-1, 64, 7, 7]               0\n",
            "            Conv2d-5             [-1, 64, 7, 7]          36,864\n",
            "       BatchNorm2d-6             [-1, 64, 7, 7]             128\n",
            "              ReLU-7             [-1, 64, 7, 7]               0\n",
            "            Conv2d-8             [-1, 64, 7, 7]          36,864\n",
            "       BatchNorm2d-9             [-1, 64, 7, 7]             128\n",
            "             ReLU-10             [-1, 64, 7, 7]               0\n",
            "       BasicBlock-11             [-1, 64, 7, 7]               0\n",
            "           Conv2d-12             [-1, 64, 7, 7]          36,864\n",
            "      BatchNorm2d-13             [-1, 64, 7, 7]             128\n",
            "             ReLU-14             [-1, 64, 7, 7]               0\n",
            "           Conv2d-15             [-1, 64, 7, 7]          36,864\n",
            "      BatchNorm2d-16             [-1, 64, 7, 7]             128\n",
            "             ReLU-17             [-1, 64, 7, 7]               0\n",
            "       BasicBlock-18             [-1, 64, 7, 7]               0\n",
            "           Conv2d-19            [-1, 128, 4, 4]          73,728\n",
            "      BatchNorm2d-20            [-1, 128, 4, 4]             256\n",
            "             ReLU-21            [-1, 128, 4, 4]               0\n",
            "           Conv2d-22            [-1, 128, 4, 4]         147,456\n",
            "      BatchNorm2d-23            [-1, 128, 4, 4]             256\n",
            "           Conv2d-24            [-1, 128, 4, 4]           8,192\n",
            "      BatchNorm2d-25            [-1, 128, 4, 4]             256\n",
            "             ReLU-26            [-1, 128, 4, 4]               0\n",
            "       BasicBlock-27            [-1, 128, 4, 4]               0\n",
            "           Conv2d-28            [-1, 128, 4, 4]         147,456\n",
            "      BatchNorm2d-29            [-1, 128, 4, 4]             256\n",
            "             ReLU-30            [-1, 128, 4, 4]               0\n",
            "           Conv2d-31            [-1, 128, 4, 4]         147,456\n",
            "      BatchNorm2d-32            [-1, 128, 4, 4]             256\n",
            "             ReLU-33            [-1, 128, 4, 4]               0\n",
            "       BasicBlock-34            [-1, 128, 4, 4]               0\n",
            "           Conv2d-35            [-1, 256, 2, 2]         294,912\n",
            "      BatchNorm2d-36            [-1, 256, 2, 2]             512\n",
            "             ReLU-37            [-1, 256, 2, 2]               0\n",
            "           Conv2d-38            [-1, 256, 2, 2]         589,824\n",
            "      BatchNorm2d-39            [-1, 256, 2, 2]             512\n",
            "           Conv2d-40            [-1, 256, 2, 2]          32,768\n",
            "      BatchNorm2d-41            [-1, 256, 2, 2]             512\n",
            "             ReLU-42            [-1, 256, 2, 2]               0\n",
            "       BasicBlock-43            [-1, 256, 2, 2]               0\n",
            "           Conv2d-44            [-1, 256, 2, 2]         589,824\n",
            "      BatchNorm2d-45            [-1, 256, 2, 2]             512\n",
            "             ReLU-46            [-1, 256, 2, 2]               0\n",
            "           Conv2d-47            [-1, 256, 2, 2]         589,824\n",
            "      BatchNorm2d-48            [-1, 256, 2, 2]             512\n",
            "             ReLU-49            [-1, 256, 2, 2]               0\n",
            "       BasicBlock-50            [-1, 256, 2, 2]               0\n",
            "           Conv2d-51            [-1, 512, 1, 1]       1,179,648\n",
            "      BatchNorm2d-52            [-1, 512, 1, 1]           1,024\n",
            "             ReLU-53            [-1, 512, 1, 1]               0\n",
            "           Conv2d-54            [-1, 512, 1, 1]       2,359,296\n",
            "      BatchNorm2d-55            [-1, 512, 1, 1]           1,024\n",
            "           Conv2d-56            [-1, 512, 1, 1]         131,072\n",
            "      BatchNorm2d-57            [-1, 512, 1, 1]           1,024\n",
            "             ReLU-58            [-1, 512, 1, 1]               0\n",
            "       BasicBlock-59            [-1, 512, 1, 1]               0\n",
            "           Conv2d-60            [-1, 512, 1, 1]       2,359,296\n",
            "      BatchNorm2d-61            [-1, 512, 1, 1]           1,024\n",
            "             ReLU-62            [-1, 512, 1, 1]               0\n",
            "           Conv2d-63            [-1, 512, 1, 1]       2,359,296\n",
            "      BatchNorm2d-64            [-1, 512, 1, 1]           1,024\n",
            "             ReLU-65            [-1, 512, 1, 1]               0\n",
            "       BasicBlock-66            [-1, 512, 1, 1]               0\n",
            "AdaptiveAvgPool2d-67            [-1, 512, 1, 1]               0\n",
            "           Linear-68                 [-1, 1000]         513,000\n",
            "================================================================\n",
            "Total params: 11,689,512\n",
            "Trainable params: 11,689,512\n",
            "Non-trainable params: 0\n",
            "----------------------------------------------------------------\n",
            "Input size (MB): 0.01\n",
            "Forward/backward pass size (MB): 1.10\n",
            "Params size (MB): 44.59\n",
            "Estimated Total Size (MB): 45.70\n",
            "----------------------------------------------------------------\n"
          ]
        }
      ],
      "source": [
        "#---\n",
        "INPUT_SHAPE = (3, 28, 28)\n",
        "model = model.to(device)\n",
        "summary(model, INPUT_SHAPE)\n",
        "#---"
      ]
    },
    {
      "cell_type": "markdown",
      "metadata": {
        "id": "MT6Hbro92qDs"
      },
      "source": [
        "You may notice a problem: this model is trained to classify images into one of 1000 categories, but we only have 26! This means that we need to modify the output layer. Fortunately, this is not hard to do. The output layer in `ImageNet` has name `fc`, and we can simply swap it out for a different output layer with the correct number of outputs."
      ]
    },
    {
      "cell_type": "code",
      "execution_count": 63,
      "metadata": {
        "id": "DIXiOQn92mDu"
      },
      "outputs": [],
      "source": [
        "#---\n",
        "num_ftrs = model.fc.in_features\n",
        "model.fc = nn.Linear(num_ftrs, 26)\n",
        "#---"
      ]
    },
    {
      "cell_type": "markdown",
      "metadata": {
        "id": "VhLpmDM028Wx"
      },
      "source": [
        "If we check our model again, we'll see that we now have the right number of outputs:"
      ]
    },
    {
      "cell_type": "code",
      "execution_count": 65,
      "metadata": {
        "colab": {
          "base_uri": "https://localhost:8080/"
        },
        "id": "2k00jitB2_Mb",
        "outputId": "c08d031f-ef5f-4606-d86c-00914ddc2c4b"
      },
      "outputs": [
        {
          "name": "stdout",
          "output_type": "stream",
          "text": [
            "----------------------------------------------------------------\n",
            "        Layer (type)               Output Shape         Param #\n",
            "================================================================\n",
            "            Conv2d-1           [-1, 64, 14, 14]           9,408\n",
            "       BatchNorm2d-2           [-1, 64, 14, 14]             128\n",
            "              ReLU-3           [-1, 64, 14, 14]               0\n",
            "         MaxPool2d-4             [-1, 64, 7, 7]               0\n",
            "            Conv2d-5             [-1, 64, 7, 7]          36,864\n",
            "       BatchNorm2d-6             [-1, 64, 7, 7]             128\n",
            "              ReLU-7             [-1, 64, 7, 7]               0\n",
            "            Conv2d-8             [-1, 64, 7, 7]          36,864\n",
            "       BatchNorm2d-9             [-1, 64, 7, 7]             128\n",
            "             ReLU-10             [-1, 64, 7, 7]               0\n",
            "       BasicBlock-11             [-1, 64, 7, 7]               0\n",
            "           Conv2d-12             [-1, 64, 7, 7]          36,864\n",
            "      BatchNorm2d-13             [-1, 64, 7, 7]             128\n",
            "             ReLU-14             [-1, 64, 7, 7]               0\n",
            "           Conv2d-15             [-1, 64, 7, 7]          36,864\n",
            "      BatchNorm2d-16             [-1, 64, 7, 7]             128\n",
            "             ReLU-17             [-1, 64, 7, 7]               0\n",
            "       BasicBlock-18             [-1, 64, 7, 7]               0\n",
            "           Conv2d-19            [-1, 128, 4, 4]          73,728\n",
            "      BatchNorm2d-20            [-1, 128, 4, 4]             256\n",
            "             ReLU-21            [-1, 128, 4, 4]               0\n",
            "           Conv2d-22            [-1, 128, 4, 4]         147,456\n",
            "      BatchNorm2d-23            [-1, 128, 4, 4]             256\n",
            "           Conv2d-24            [-1, 128, 4, 4]           8,192\n",
            "      BatchNorm2d-25            [-1, 128, 4, 4]             256\n",
            "             ReLU-26            [-1, 128, 4, 4]               0\n",
            "       BasicBlock-27            [-1, 128, 4, 4]               0\n",
            "           Conv2d-28            [-1, 128, 4, 4]         147,456\n",
            "      BatchNorm2d-29            [-1, 128, 4, 4]             256\n",
            "             ReLU-30            [-1, 128, 4, 4]               0\n",
            "           Conv2d-31            [-1, 128, 4, 4]         147,456\n",
            "      BatchNorm2d-32            [-1, 128, 4, 4]             256\n",
            "             ReLU-33            [-1, 128, 4, 4]               0\n",
            "       BasicBlock-34            [-1, 128, 4, 4]               0\n",
            "           Conv2d-35            [-1, 256, 2, 2]         294,912\n",
            "      BatchNorm2d-36            [-1, 256, 2, 2]             512\n",
            "             ReLU-37            [-1, 256, 2, 2]               0\n",
            "           Conv2d-38            [-1, 256, 2, 2]         589,824\n",
            "      BatchNorm2d-39            [-1, 256, 2, 2]             512\n",
            "           Conv2d-40            [-1, 256, 2, 2]          32,768\n",
            "      BatchNorm2d-41            [-1, 256, 2, 2]             512\n",
            "             ReLU-42            [-1, 256, 2, 2]               0\n",
            "       BasicBlock-43            [-1, 256, 2, 2]               0\n",
            "           Conv2d-44            [-1, 256, 2, 2]         589,824\n",
            "      BatchNorm2d-45            [-1, 256, 2, 2]             512\n",
            "             ReLU-46            [-1, 256, 2, 2]               0\n",
            "           Conv2d-47            [-1, 256, 2, 2]         589,824\n",
            "      BatchNorm2d-48            [-1, 256, 2, 2]             512\n",
            "             ReLU-49            [-1, 256, 2, 2]               0\n",
            "       BasicBlock-50            [-1, 256, 2, 2]               0\n",
            "           Conv2d-51            [-1, 512, 1, 1]       1,179,648\n",
            "      BatchNorm2d-52            [-1, 512, 1, 1]           1,024\n",
            "             ReLU-53            [-1, 512, 1, 1]               0\n",
            "           Conv2d-54            [-1, 512, 1, 1]       2,359,296\n",
            "      BatchNorm2d-55            [-1, 512, 1, 1]           1,024\n",
            "           Conv2d-56            [-1, 512, 1, 1]         131,072\n",
            "      BatchNorm2d-57            [-1, 512, 1, 1]           1,024\n",
            "             ReLU-58            [-1, 512, 1, 1]               0\n",
            "       BasicBlock-59            [-1, 512, 1, 1]               0\n",
            "           Conv2d-60            [-1, 512, 1, 1]       2,359,296\n",
            "      BatchNorm2d-61            [-1, 512, 1, 1]           1,024\n",
            "             ReLU-62            [-1, 512, 1, 1]               0\n",
            "           Conv2d-63            [-1, 512, 1, 1]       2,359,296\n",
            "      BatchNorm2d-64            [-1, 512, 1, 1]           1,024\n",
            "             ReLU-65            [-1, 512, 1, 1]               0\n",
            "       BasicBlock-66            [-1, 512, 1, 1]               0\n",
            "AdaptiveAvgPool2d-67            [-1, 512, 1, 1]               0\n",
            "           Linear-68                   [-1, 26]          13,338\n",
            "================================================================\n",
            "Total params: 11,189,850\n",
            "Trainable params: 11,189,850\n",
            "Non-trainable params: 0\n",
            "----------------------------------------------------------------\n",
            "Input size (MB): 0.01\n",
            "Forward/backward pass size (MB): 1.09\n",
            "Params size (MB): 42.69\n",
            "Estimated Total Size (MB): 43.78\n",
            "----------------------------------------------------------------\n"
          ]
        }
      ],
      "source": [
        "#---\n",
        "model = model.to(device)\n",
        "summary(model, INPUT_SHAPE)\n",
        "#---"
      ]
    },
    {
      "cell_type": "markdown",
      "metadata": {
        "id": "bg6DzEMs3Gy2"
      },
      "source": [
        "Now we are ready to train our adapted `ImageNet` model for our task. Let's see how we do in just two epochs:  "
      ]
    },
    {
      "cell_type": "code",
      "execution_count": 67,
      "metadata": {
        "colab": {
          "base_uri": "https://localhost:8080/"
        },
        "id": "6phWrXOfzkt_",
        "outputId": "82dfe46d-cc9b-4259-eb9e-9aedb9a3a58f"
      },
      "outputs": [
        {
          "name": "stdout",
          "output_type": "stream",
          "text": [
            "Epoch 0: validation accuracy = 0.975\n",
            "Epoch 1: validation accuracy = 0.974\n"
          ]
        }
      ],
      "source": [
        "#---\n",
        "train(model, k_epochs = 2,  lr = 0.01, evaluate_after_epoch = True, multichannel = True, momentum = 0.9)\n",
        "#---"
      ]
    },
    {
      "cell_type": "markdown",
      "metadata": {
        "id": "Rl1DW4tI3VDE"
      },
      "source": [
        "After just two epochs, we have achieved much higher accuracy on our sign-language classification task than we achieved using any of our previous methods. This is because `ImageNet` is a much more expressive model with a complex architecture and a higher parameter count. Fortunately, however, we didn't have to fully train the model from scratch; we were able to just tweak the model a little bit to customize it for our specific task.\n",
        "\n",
        "There is another variant of transfer learning in which we fix the parameters at the base layers and then only train the parameters in the output layer. This approach can be effective and can be quick to train, but also may perform worse than approaches that modify all the model parameters. We can implement this approach by first downloading a \"clean\" version of `ImageNet`. Then, we'll set the `requires_grad` attribute of each parameter tensor to `False`; this will cause these layers not to be updated during optimization. This approach is often called *fine-tuning*."
      ]
    },
    {
      "cell_type": "code",
      "execution_count": 68,
      "metadata": {
        "id": "z8pPeYZe0umr"
      },
      "outputs": [],
      "source": [
        "#---\n",
        "model = models.resnet18(weights='IMAGENET1K_V1')\n",
        "# no gradients for any of the model parameters, so no updates\n",
        "for param in model.parameters():\n",
        "    param.requires_grad = False\n",
        "\n",
        "# Parameters of newly constructed modules have requires_grad=True by default\n",
        "\n",
        "num_ftrs = model.fc.in_features\n",
        "model.fc = nn.Linear(num_ftrs, 26)\n",
        "model = model.to(device)\n",
        "#---"
      ]
    },
    {
      "cell_type": "code",
      "execution_count": 69,
      "metadata": {
        "colab": {
          "base_uri": "https://localhost:8080/"
        },
        "id": "7K4MNXeo1Dux",
        "outputId": "ecdcd5da-c0a1-4d91-9ce0-149fada07248"
      },
      "outputs": [
        {
          "name": "stdout",
          "output_type": "stream",
          "text": [
            "----------------------------------------------------------------\n",
            "        Layer (type)               Output Shape         Param #\n",
            "================================================================\n",
            "            Conv2d-1           [-1, 64, 14, 14]           9,408\n",
            "       BatchNorm2d-2           [-1, 64, 14, 14]             128\n",
            "              ReLU-3           [-1, 64, 14, 14]               0\n",
            "         MaxPool2d-4             [-1, 64, 7, 7]               0\n",
            "            Conv2d-5             [-1, 64, 7, 7]          36,864\n",
            "       BatchNorm2d-6             [-1, 64, 7, 7]             128\n",
            "              ReLU-7             [-1, 64, 7, 7]               0\n",
            "            Conv2d-8             [-1, 64, 7, 7]          36,864\n",
            "       BatchNorm2d-9             [-1, 64, 7, 7]             128\n",
            "             ReLU-10             [-1, 64, 7, 7]               0\n",
            "       BasicBlock-11             [-1, 64, 7, 7]               0\n",
            "           Conv2d-12             [-1, 64, 7, 7]          36,864\n",
            "      BatchNorm2d-13             [-1, 64, 7, 7]             128\n",
            "             ReLU-14             [-1, 64, 7, 7]               0\n",
            "           Conv2d-15             [-1, 64, 7, 7]          36,864\n",
            "      BatchNorm2d-16             [-1, 64, 7, 7]             128\n",
            "             ReLU-17             [-1, 64, 7, 7]               0\n",
            "       BasicBlock-18             [-1, 64, 7, 7]               0\n",
            "           Conv2d-19            [-1, 128, 4, 4]          73,728\n",
            "      BatchNorm2d-20            [-1, 128, 4, 4]             256\n",
            "             ReLU-21            [-1, 128, 4, 4]               0\n",
            "           Conv2d-22            [-1, 128, 4, 4]         147,456\n",
            "      BatchNorm2d-23            [-1, 128, 4, 4]             256\n",
            "           Conv2d-24            [-1, 128, 4, 4]           8,192\n",
            "      BatchNorm2d-25            [-1, 128, 4, 4]             256\n",
            "             ReLU-26            [-1, 128, 4, 4]               0\n",
            "       BasicBlock-27            [-1, 128, 4, 4]               0\n",
            "           Conv2d-28            [-1, 128, 4, 4]         147,456\n",
            "      BatchNorm2d-29            [-1, 128, 4, 4]             256\n",
            "             ReLU-30            [-1, 128, 4, 4]               0\n",
            "           Conv2d-31            [-1, 128, 4, 4]         147,456\n",
            "      BatchNorm2d-32            [-1, 128, 4, 4]             256\n",
            "             ReLU-33            [-1, 128, 4, 4]               0\n",
            "       BasicBlock-34            [-1, 128, 4, 4]               0\n",
            "           Conv2d-35            [-1, 256, 2, 2]         294,912\n",
            "      BatchNorm2d-36            [-1, 256, 2, 2]             512\n",
            "             ReLU-37            [-1, 256, 2, 2]               0\n",
            "           Conv2d-38            [-1, 256, 2, 2]         589,824\n",
            "      BatchNorm2d-39            [-1, 256, 2, 2]             512\n",
            "           Conv2d-40            [-1, 256, 2, 2]          32,768\n",
            "      BatchNorm2d-41            [-1, 256, 2, 2]             512\n",
            "             ReLU-42            [-1, 256, 2, 2]               0\n",
            "       BasicBlock-43            [-1, 256, 2, 2]               0\n",
            "           Conv2d-44            [-1, 256, 2, 2]         589,824\n",
            "      BatchNorm2d-45            [-1, 256, 2, 2]             512\n",
            "             ReLU-46            [-1, 256, 2, 2]               0\n",
            "           Conv2d-47            [-1, 256, 2, 2]         589,824\n",
            "      BatchNorm2d-48            [-1, 256, 2, 2]             512\n",
            "             ReLU-49            [-1, 256, 2, 2]               0\n",
            "       BasicBlock-50            [-1, 256, 2, 2]               0\n",
            "           Conv2d-51            [-1, 512, 1, 1]       1,179,648\n",
            "      BatchNorm2d-52            [-1, 512, 1, 1]           1,024\n",
            "             ReLU-53            [-1, 512, 1, 1]               0\n",
            "           Conv2d-54            [-1, 512, 1, 1]       2,359,296\n",
            "      BatchNorm2d-55            [-1, 512, 1, 1]           1,024\n",
            "           Conv2d-56            [-1, 512, 1, 1]         131,072\n",
            "      BatchNorm2d-57            [-1, 512, 1, 1]           1,024\n",
            "             ReLU-58            [-1, 512, 1, 1]               0\n",
            "       BasicBlock-59            [-1, 512, 1, 1]               0\n",
            "           Conv2d-60            [-1, 512, 1, 1]       2,359,296\n",
            "      BatchNorm2d-61            [-1, 512, 1, 1]           1,024\n",
            "             ReLU-62            [-1, 512, 1, 1]               0\n",
            "           Conv2d-63            [-1, 512, 1, 1]       2,359,296\n",
            "      BatchNorm2d-64            [-1, 512, 1, 1]           1,024\n",
            "             ReLU-65            [-1, 512, 1, 1]               0\n",
            "       BasicBlock-66            [-1, 512, 1, 1]               0\n",
            "AdaptiveAvgPool2d-67            [-1, 512, 1, 1]               0\n",
            "           Linear-68                   [-1, 26]          13,338\n",
            "================================================================\n",
            "Total params: 11,189,850\n",
            "Trainable params: 13,338\n",
            "Non-trainable params: 11,176,512\n",
            "----------------------------------------------------------------\n",
            "Input size (MB): 0.01\n",
            "Forward/backward pass size (MB): 1.09\n",
            "Params size (MB): 42.69\n",
            "Estimated Total Size (MB): 43.78\n",
            "----------------------------------------------------------------\n"
          ]
        }
      ],
      "source": [
        "#---\n",
        "summary(model, INPUT_SHAPE)\n",
        "#---"
      ]
    },
    {
      "cell_type": "markdown",
      "metadata": {
        "id": "66nUjhdC4Jn8"
      },
      "source": [
        "Note that, although we have the same number of parameters as before, the number of *trainable* parameters is much smaller. This leads to somewhat faster training, albeit with much less impressive results in the validation set. Fine-tuning the final several layers, rather than just the single output layer, may lead to improved performance."
      ]
    },
    {
      "cell_type": "code",
      "execution_count": 70,
      "metadata": {
        "colab": {
          "base_uri": "https://localhost:8080/"
        },
        "id": "G1WNETgw1FtH",
        "outputId": "224764ad-43bf-4b18-adb7-4d12a03b80b4"
      },
      "outputs": [
        {
          "name": "stdout",
          "output_type": "stream",
          "text": [
            "Epoch 0: validation accuracy = 0.450\n",
            "Epoch 1: validation accuracy = 0.470\n",
            "Epoch 2: validation accuracy = 0.483\n",
            "Epoch 3: validation accuracy = 0.479\n",
            "Epoch 4: validation accuracy = 0.484\n"
          ]
        }
      ],
      "source": [
        "#---\n",
        "train(model, k_epochs = 5,  lr = 0.01, evaluate_after_epoch = True, multichannel = True, momentum = 0.9)\n",
        "#---"
      ]
    },
    {
      "cell_type": "markdown",
      "metadata": {
        "id": "qxQxEYurVgr7"
      },
      "source": [
        "## Other Considerations\n",
        "\n",
        "We'll highlight two practical considerations that frequently come up when working with image classification models.\n",
        "\n",
        "### Data Augmentation\n",
        "\n",
        "One very standard technique for improving the ability of image classification models to generalize is to perform *data augmentation*. Data augmentation creates \"new\" data by applying simple transformations to the input images. For example, one kind of data augmentation is to *rotate* the image by a small amount.\n",
        "\n",
        "[You can learn more about Torch's data augmentation capabilities in [the documentation](https://pytorch.org/vision/stable/transforms.html)]{.aside}.\n",
        "\n",
        "Here is an example of applying a data augmentation pipeline to an image. The result is a sequence of new images, which would be reasonably expected to have the same true class label as the original."
      ]
    },
    {
      "cell_type": "code",
      "execution_count": 71,
      "metadata": {
        "colab": {
          "base_uri": "https://localhost:8080/",
          "height": 407
        },
        "id": "vkn_JDflVgr7",
        "outputId": "aa6d1423-96c2-47b0-9aa4-f820133f01f3"
      },
      "outputs": [
        {
          "data": {
            "image/png": "[encoded data removed]",
            "text/plain": [
              "<Figure size 1000x400 with 10 Axes>"
            ]
          },
          "metadata": {},
          "output_type": "display_data"
        }
      ],
      "source": [
        "from torchvision.transforms import v2\n",
        "transforms = v2.Compose([\n",
        "    v2.RandomResizedCrop(size=(24, 24), antialias=True),\n",
        "    v2.RandomHorizontalFlip(p=0.5)\n",
        "    ])\n",
        "\n",
        "cols = 5\n",
        "rows = 2\n",
        "ix = 0\n",
        "\n",
        "fig, axarr = plt.subplots(rows, cols, figsize = (2*cols, 2*rows))\n",
        "for i, ax in enumerate(axarr.ravel()):\n",
        "    transformed = transforms(X_train[ix])\n",
        "    ax.imshow(transformed.detach().cpu()[0], cmap = \"Greys_r\")\n",
        "    ax.axis(\"off\")\n",
        "plt.tight_layout()"
      ]
    },
    {
      "cell_type": "markdown",
      "metadata": {
        "id": "KmKEa0Kq4sZN"
      },
      "source": [
        "Incorporating these \"new\" images as part of the training set could potentially allow models to learn more complex patterns, including the idea that an image which has been flipped or rotated is still representative of the same concept."
      ]
    },
    {
      "cell_type": "markdown",
      "metadata": {
        "id": "bXznTglFVgr8"
      },
      "source": [
        "### Data Loaders from Directories\n",
        "\n",
        "As mentioned above, it can be very helpful to use data loaders to manage the process of reading in data and passing it to your model. This is especially helpful in the case that your data set is too large to fit in RAM; the data loader can read the data from disk and pass it to the model, without ever needing to fit the entirety of data in RAM. You can learn much more about how Torch manages data sets and data loaders in [the docs](https://pytorch.org/docs/stable/data.html#loading-batched-and-non-batched-data)."
      ]
    }
  ],
  "metadata": {
    "accelerator": "GPU",
    "colab": {
      "gpuType": "T4",
      "provenance": []
    },
    "kernelspec": {
      "display_name": "Python 3",
      "name": "python3"
    },
    "language_info": {
      "codemirror_mode": {
        "name": "ipython",
        "version": 3
      },
      "file_extension": ".py",
      "mimetype": "text/x-python",
      "name": "python",
      "nbconvert_exporter": "python",
      "pygments_lexer": "ipython3",
      "version": "3.9.undefined"
    }
  },
  "nbformat": 4,
  "nbformat_minor": 0
}
