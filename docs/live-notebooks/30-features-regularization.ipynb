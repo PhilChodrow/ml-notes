{
 "cells": [
  {
   "cell_type": "raw",
   "execution_count": null,
   "metadata": {},
   "outputs": [],
   "source": [
    "---\n",
    "title: |\n",
    "  Feature Maps, Regularization, and Generalization\n",
    "author: Phil Chodrow\n",
    "bibliography: ../refs.bib\n",
    "format: \n",
    "  html: \n",
    "    code-fold: false\n",
    "    cache: true\n",
    "    callout-appearance: minimal\n",
    "    cap-location: margin\n",
    "---"
   ]
  },
  {
   "cell_type": "markdown",
   "execution_count": null,
   "metadata": {},
   "outputs": [],
   "source": [
    "::: {.hidden}\n",
    "$$\n",
    "\\newcommand{\\R}{\\mathbb{R}}\n",
    "\\newcommand{\\vx}{\\mathbf{x}}\n",
    "\\newcommand{\\vy}{\\mathbf{y}}\n",
    "\\newcommand{\\vz}{\\mathbf{z}}\n",
    "\\newcommand{\\vd}{\\mathbf{d}}\n",
    "\\newcommand{\\mX}{\\mathbf{X}}\n",
    "\\newcommand{\\mR}{\\mathbf{R}}\n",
    "\\newcommand{\\vw}{\\mathbf{w}}\n",
    "\\newcommand{\\vr}{\\mathbf{r}}\n",
    "\\newcommand{\\vzero}{\\mathbf{0}}\n",
    "\\newcommand{\\bracket}[1]{\\langle #1 \\rangle}\n",
    "\\newcommand{\\paren}[1]{\\left( #1 \\right)}\n",
    "\\newcommand{\\one}[1]{\\mathbb{1}\\left[ #1 \\right]}\n",
    "\\newcommand{\\cL}{\\mathcal{L}}\n",
    "\\newcommand{\\cD}{\\mathcal{D}}\n",
    "\\newcommand{\\cM}{\\mathcal{M}}\n",
    "\\newcommand{\\mA}{\\mathbf{A}}\n",
    "\\newcommand{\\vtheta}{\\boldsymbol{\\theta}}\n",
    "\\newcommand{\\norm}[1]{\\lVert #1 \\rVert}\n",
    "\\newcommand{\\abs}[1]{\\lvert #1 \\rvert}\n",
    "\\newcommand{\\prob}[1]{\\mathbb{P}\\left[#1\\right]}\n",
    "\\newcommand{\\E}{\\mathbb{E}}\n",
    "\\newcommand{\\dd}[2]{\\frac{\\partial #1}{\\partial #2}}\n",
    "\n",
    "\\usepackage{amsmath}\n",
    "\\DeclareMathOperator*{\\argmax}{argmax\\;}\n",
    "\\DeclareMathOperator*{\\argmin}{argmin\\;}\n",
    "$$"
   ]
  },
  {
   "cell_type": "code",
   "execution_count": null,
   "metadata": {},
   "outputs": [],
   "source": [
    "#| echo: false\n",
    "from warnings import simplefilter\n",
    "from sklearn.exceptions import ConvergenceWarning\n",
    "simplefilter(\"ignore\", category=ConvergenceWarning)"
   ]
  },
  {
   "cell_type": "markdown",
   "execution_count": null,
   "metadata": {},
   "outputs": [],
   "source": [
    ":::\n",
    "\n",
    "# Quick Recap\n",
    "\n",
    "[Last time](23-gradient-descent.ipynb), we considered the problem of *empirical risk minimization* with a *convex* loss function. We assumed that we had data, a pair $(\\mX, \\vy)$ where \n",
    "\n",
    "- $\\mX \\in \\R^{n\\times p}$ is the *feature matrix*. There are $n$ distinct observations, encoded as rows. Each of the $p$ columns corresponds to a *feature*: something about each observation that we can measure or infer. Each observation is written $\\vx_1, \\vx_2,\\ldots$. \n",
    "$$\n",
    "\\mX = \\left[\\begin{matrix} & - & \\vx_1 & - \\\\ \n",
    "& - & \\vx_2 & - \\\\ \n",
    "& \\vdots & \\vdots & \\vdots \\\\ \n",
    "& - & \\vx_{n} & - \\end{matrix}\\right]\n",
    "$$\n",
    "- $\\vy \\in \\R^{n}$ is the *target vector*. The target vector gives a label, value, or outcome for each observation. \n",
    "\n",
    "Using this data, we defined the empirical risk minimization problem, which had the general form \n",
    "$$\n",
    "\\hat{\\vw} = \\argmin_{\\vw} \\; L(\\vw)\\;, \n",
    "$${#eq-empirical-risk-minimization}\n",
    "where \n",
    "$$\n",
    "L(\\vw) = \\frac{1}{n} \\sum_{i = 1}^n \\ell(\\bracket{\\vw, \\vx_i}, y_i)\\;.\n",
    "$$\n",
    "\n",
    "In our [last lecture](23-gradient-descent.ipynb), we studied how to compute the gradient of $L(\\vw)$ in minimize the empirical risk and find a good value $\\hat{\\vw}$ for the parameter vector. In this lecture we're going to assume that we can cheerfully solve the empirical risk minimization for convex linear models. \n",
    "\n",
    "## Nonlinear Decision Boundaries\n",
    "\n",
    "However, we are still working with an important limitation: for a long time now, we've focused only on *linear* decision boundaries. However, most of the data we care about in practice has *nonlinear* decision boundaries. Here's a dramatic example. For this example, I'm using the implementation of logistic regression from `scikit-learn`. \n",
    "\n",
    "[For the purposes of illustration, today I'm going to be primarily relying on the implementation of logistic regression in `scikit-learn`. Toward the end of the notes, I'll highlight where regularization shows up if you want to implement it in e.g. a `torch` model. I'm also using the `plot_decision_regions` function from the `mlxtend` package, which is a handy plotting utility for visualizing the behavior of our models]{.alert}"
   ]
  },
  {
   "cell_type": "code",
   "execution_count": null,
   "metadata": {},
   "outputs": [],
   "source": [
    "from sklearn.datasets import make_moons, make_circles\n",
    "from mlxtend.plotting import plot_decision_regions\n",
    "from sklearn.linear_model import LogisticRegression\n",
    "from matplotlib import pyplot as plt\n",
    "import numpy as np\n",
    "\n",
    "def viz_decision_regions(model, X_train, y_train, X_test, y_test):  \n",
    "    fig, ax = plt.subplots(1, 2, figsize = (10, 4))\n",
    "\n",
    "    for i, data in enumerate([\"Train\", \"Test\"]):\n",
    "        X = [X_train, X_test][i]\n",
    "        y = [y_train, y_test][i]\n",
    "        plot_decision_regions(X, y, clf = model, ax = ax[i])\n",
    "        score = ax[i].set_title(f\"{data}ing accuracy = {model.score(X, y)}\")\n",
    "        ax[i].set(xlabel = r\"$x_1$\")\n",
    "        if i == 0: \n",
    "            ax[i].set(ylabel = r\"$x_2$\")\n",
    "\n",
    "def plot_weights(plr): \n",
    "    coefs        = plr.named_steps[\"LR\"].coef_.flatten()\n",
    "    frac_zero    = np.isclose(coefs, 0).mean()\n",
    "    mean_coef    = np.abs(coefs).mean()\n",
    "    coefs_sorted = np.sort(coefs)\n",
    "    plt.scatter(np.arange(len(coefs)), coefs_sorted, s = 10, facecolors = \"none\", edgecolors = \"black\")\n",
    "    plt.gca().set(xlabel = \"weight (sorted)\", ylabel = \"weight value\", title = fr\"Mean $|w_i|$ = {mean_coef:.2f}, zero weights = {100*frac_zero:.0f}%\")"
   ]
  },
  {
   "cell_type": "code",
   "execution_count": null,
   "metadata": {},
   "outputs": [],
   "source": [
    "#| echo: false\n",
    "plt.style.use('seaborn-v0_8-whitegrid')\n",
    "np.seterr(all=\"ignore\")"
   ]
  },
  {
   "cell_type": "code",
   "execution_count": null,
   "metadata": {},
   "outputs": [],
   "source": [
    "X_train, y_train = make_circles(200, shuffle = True, noise = 0.1, factor = 0.5)\n",
    "X_test, y_test   = make_circles(200, shuffle = True, noise = 0.1, factor = 0.5)\n",
    "\n",
    "LR = LogisticRegression()\n",
    "LR.fit(X_train, y_train)\n",
    "\n",
    "viz_decision_regions(LR, X_train, y_train, X_test, y_test)"
   ]
  },
  {
   "cell_type": "markdown",
   "execution_count": null,
   "metadata": {},
   "outputs": [],
   "source": [
    "Yikes! \n",
    "\n",
    "Visually this *should* be pretty easy data to classify. But the linear decision boundary isn't the way. \n",
    "\n",
    "::: {.callout-important}\n",
    "\n",
    "Given a point $\\vx$, what information would you find most useful about that point in determining whether it should have label $0$ or $1$ based on this training data? \n",
    ":::\n",
    "\n",
    "## Feature Maps\n",
    "\n",
    "Suppose that we were able to extract from each point its distance from the origin. In 2d, we could take a point $\\vx$ and simply compute \n",
    "\n",
    "$$\n",
    "r^2 = x_1^2 + x_2^2\\;. \n",
    "$$\n",
    "\n",
    "We could then make the classification based on the value of $r^2$. In this data set, it looks like the classification rule that predicts $1$ if $r^2 < 1$ and $0$ otherwise would be a pretty good one. The important insight here is that this is *also* a linear model, with linear predictor function \n",
    "\n",
    "$$\n",
    "\\hat{y} = \\bracket{\\vw, \\phi(\\vx)}\\;,\n",
    "$$\n",
    "\n",
    "and predicted labels $\\mathbb{1}[\\hat{y} < 0]$. \n",
    "\n",
    "where $\\phi(\\vx) = (r^2, 1)$ and $\\vw = (1, -1)$. We could attempt to find a value of the weight vector close to this one using empirical risk minimization using our standard methods -- we just need to transform the feature matrix $\\mX$ first! This means that we can use empirical risk minimization for this problem if we just transform the features $\\mX$ first! We need to compute a matrix $\\mR$ whose $i$th row is $\\vr_i = \\phi(\\vx) = (r^2_i, 1) = (x_{i1}^2 + x_{i2}^2, 1)$, and then use this matrix in place of $\\mX$ for our classification task. \n",
    "\n",
    "The transformation $\\phi: (x_1, x_2) \\mapsto (x_1^2 + x_2^2, 1)$ is an example of a *feature map*. \n",
    "\n",
    "::: {.callout-note}\n",
    "::: {#def-feature-map}\n",
    "\n",
    "Let $\\mX \\in \\R^{n \\times p}$. A *feature map* $\\phi$ is a function $\\phi:\\R^p \\rightarrow \\rightarrow \\R^q$, We call $\\phi(\\vx) in \\R^q$ the *feature vector* corresponding to $\\vx$.  For a given feature map $\\phi$, we define the map $\\Phi:\\R^{n \\times p} \\rightarrow \\R^{n\\times q}$ as \n",
    "\n",
    "$$\n",
    "\\Phi(\\vx) = \\left(\\begin{matrix}\n",
    "     - & \\phi(\\vx_1) & - \\\\\n",
    "     - & \\phi(\\vx_2) & - \\\\\n",
    "     \\vdots & \\vdots & \\vdots \\\\\n",
    "     - & \\phi(\\vx_n) & - \\\\\n",
    "\\end{matrix}\\right)\n",
    "$$\n",
    "\n",
    "We can write \n",
    "\n",
    "$$\n",
    "\\mX = \\Phi(\\vx)\n",
    "$$\n",
    "\n",
    "to say that $\\mX$ is the feature matrix for a data set $\\vx$. \n",
    "\n",
    ":::\n",
    ":::\n",
    "\n",
    "We can think of feature maps in two ways: \n",
    "\n",
    "Feature maps can represent **measurement processes**. For example, maybe I am trying to classify penguins by species, based on physiological measurements. The *real data* is the penguin, and the measurements are how I represent that penguin with numbers. In this case, I might write my feature map as \n",
    "$$\\phi(🐧) = (\\mathrm{height}, \\mathrm{weight}, \\text{bill length})$$\n",
    "Here, $D$ is a set of many penguins $D = \\{🐧_1, 🐧_2, 🐧_3, 🐧_4, 🐧_5, 🐧_6, 🐧_7\\}$, and $d\\in D$ is a specific penguin. \n",
    "The process of transforming an object into a vector via a feature map is often called **vectorization** as well, especially in the context of representing digital data as vectors. We often talk about vectorizing text and images for example; this can be done using feature maps. \n",
    "\n",
    "Feature maps can also represent **data processing**, which is more like our example above. There, we're taking some data that's already a vector and turning it into a DIFFERENT vector that we think will be helpful for our learning task. \n",
    "\n",
    "## Feature Maps and Linear Separability\n",
    "\n",
    "We often think of feature maps as taking us from a space in which the data is **not** linearly separable to a space in which it is. For example, consider the feature map \n",
    "\n",
    "$$\n",
    "\\phi: (x_1, x_2) \\mapsto (x_1^2, x_2^2)\\;. \n",
    "$$\n",
    "\n",
    "This map is sufficient to express the radius information, since we can represent the radius as \n",
    "\n",
    "$$\n",
    "r^2 = \\bracket{(1, 1), (x_1^2, x_2^2)}\\;.\n",
    "$$\n",
    "\n",
    "Let's see how this looks. We'll again show the failed linear separator, and we'll also show a successful separator in a transformed feature space: "
   ]
  },
  {
   "cell_type": "code",
   "execution_count": null,
   "metadata": {},
   "outputs": [],
   "source": [
    "#| code-fold: false\n",
    "fig, axarr = plt.subplots(1, 2, figsize=(8, 4))\n",
    "\n",
    "plot_decision_regions(X_train, y_train, clf = LR, ax = axarr[0])\n",
    "score = axarr[0].set_title(f\"Accuracy = {LR.score(X_train, y_train)}\")\n",
    "\n",
    "LR2 = LogisticRegression()\n",
    "\n",
    "X_ = X_train**2\n",
    "LR2.fit(X_, y_train)\n",
    "plot_decision_regions(X_, y_train, clf = LR2, ax = axarr[1])\n",
    "score = axarr[1].set_title(f\"Feature space\\nAccuracy = {LR2.score(X_, y_train)}\")"
   ]
  },
  {
   "cell_type": "markdown",
   "execution_count": null,
   "metadata": {},
   "outputs": [],
   "source": [
    "Just by fitting the logistic regression model in the feature space, we were able to go from essentially random accuracy to accuracy of nearly 100% on training data. \n",
    "\n",
    "## Feature Maps in Practice\n",
    "\n",
    "Going back to our example of trying to classify the two nested circles, we could just compute the radius. In practice, however, we don't really know which features are going to be most useful, and so we just compute *a set* of features. In our case, the square of the radius is an example of a polynomial of degree 2: \n",
    "$$\n",
    "r^2 = x_1^2 + x_2^2\\;. \n",
    "$$\n",
    "\n",
    "So, instead of just assuming that the radius is definitely the right thing to compute, we more frequently just compute all the monomials of degree 2 or lower. If $\\vx = (x_1, x_2)$, then this is  \n",
    "\n",
    "$$\n",
    "\\phi(\\vx_i) = (1, x_1, x_2, x_1^2, x_2^2, x_1x_2)\\;. \n",
    "$$\n",
    "\n",
    "We then use a linear model to solve the empirical risk minimization problem\n",
    "\n",
    "$$\n",
    "\\hat{\\vw} = \\argmin_{w} \\sum_{i = 1}^n \\ell(\\bracket{\\vw, \\phi(\\vx_i)}, y_i)\\;.\n",
    "$$\n",
    "\n",
    "The important point to keep track of is that the new feature matrix $\\mX' = \\Phi(\\mX)$ generally has a different number of columns from $\\mX$. In this case, for example, $\\mX$ had just 2 columns but $\\Phi(\\mX)$ has 6. This means that $\\hat{\\vw}$ has 6 components, instead of 2! \n",
    "\n",
    "Let's now run logistic regression with degree-2 polynomial features on this data set. The most convenient way to make this happen in the `scikit-learn` framework is with at `Pipeline`. The `Pipeline` first applies the feature map and then calls the model during both fitting and evaluation. We'll wrap the pipeline in a simple function for easy reuse. "
   ]
  },
  {
   "cell_type": "code",
   "execution_count": null,
   "metadata": {},
   "outputs": [],
   "source": [
    "from sklearn.preprocessing import PolynomialFeatures\n",
    "from sklearn.pipeline import Pipeline\n",
    "\n",
    "def poly_LR(degree, **kwargs):\n",
    "    plr = Pipeline([(\"poly\", PolynomialFeatures(degree = degree)),\n",
    "                    (\"LR\", LogisticRegression(**kwargs))])\n",
    "    return plr"
   ]
  },
  {
   "cell_type": "markdown",
   "execution_count": null,
   "metadata": {},
   "outputs": [],
   "source": [
    "Now our decision boundary is much more successful: "
   ]
  },
  {
   "cell_type": "code",
   "execution_count": null,
   "metadata": {},
   "outputs": [],
   "source": [
    "\n",
    "viz_decision_regions(plr, X_train, y_train, X_test, y_test)"
   ]
  },
  {
   "cell_type": "markdown",
   "execution_count": null,
   "metadata": {},
   "outputs": [],
   "source": [
    "Let's check the coefficients of the model: "
   ]
  },
  {
   "cell_type": "code",
   "execution_count": null,
   "metadata": {},
   "outputs": [],
   "source": [
    "plr.named_steps[\"LR\"].coef_.round(2)"
   ]
  },
  {
   "cell_type": "markdown",
   "execution_count": null,
   "metadata": {},
   "outputs": [],
   "source": [
    "Notice that two coefficients are much larger than the others, and approximately equal. These are the coefficients for the features $x_1^2$ and $x_2^2$. The fact that these are approximately equal means that our model is very close to using the square radius $r^2 = x_1^2 + x_2^2$ as a learned feature for this data, just like we'd expect. The benefit is that we didn't have to hard-code that in; the model just detected on its own the right pattern to find. \n",
    "\n",
    "Part of the reason this might be beneficial is that for some data sets, we might not really know what specific features we should try. For example, here's another one where a linear classifier doesn't do so great (degree 1 corresponds to no transformation of the features). We'll keep using this example as we go, and so we'll generate both a training and a test set.  "
   ]
  },
  {
   "cell_type": "code",
   "execution_count": null,
   "metadata": {},
   "outputs": [],
   "source": [
    "np.random.seed(123)\n",
    "X_train, y_train = make_moons(200, shuffle = True, noise = 0.3)\n",
    "X_test, y_test   = make_moons(200, shuffle = True, noise = 0.3)\n",
    "\n",
    "\n",
    "\n",
    "viz_decision_regions(plr, X_train, y_train, X_test, y_test)"
   ]
  },
  {
   "cell_type": "markdown",
   "execution_count": null,
   "metadata": {},
   "outputs": [],
   "source": [
    "It's not as obvious that we should use the radius or any other specific feature for our feature map. Fortunately we don't need to think too much about it -- we can just increase the degree and let the model figure things out: "
   ]
  },
  {
   "cell_type": "code",
   "execution_count": null,
   "metadata": {},
   "outputs": [],
   "source": [
    "\n",
    "\n",
    "viz_decision_regions(plr, X_train, y_train, X_test, y_test)"
   ]
  },
  {
   "cell_type": "markdown",
   "execution_count": null,
   "metadata": {},
   "outputs": [],
   "source": [
    "Much nicer! \n",
    "\n",
    "## Generalization, Feature Selection, Regularization\n",
    "\n",
    "So, why don't we just use as many features as it takes to get perfect accuracy on the training data? Here's an example where we get perfect accuracy on the training data: "
   ]
  },
  {
   "cell_type": "code",
   "execution_count": null,
   "metadata": {},
   "outputs": [],
   "source": [
    "\n",
    "\n",
    "viz_decision_regions(plr, X_train, y_train, X_test, y_test)"
   ]
  },
  {
   "cell_type": "markdown",
   "execution_count": null,
   "metadata": {},
   "outputs": [],
   "source": [
    "I've had to change some parameters to the `LogisticRegression` in order to ensure that it fully ran the optimization procedure for this many polynomials. \n",
    "\n",
    "The problem here is that, although this classifier might achieve perfect *training* accuracy, it doesn't really look like it's captured \"the right\" pattern. This is why this classifier makes many more mistakes on the test data, even though it had much higher training accuracy. We have *overfit*: our model was so flexible that it was able to learn both some *real* patterns that we wanted it to learn and some *noise* that we didn't. As a result, when it made a prediction on new data, the model's predictions were imperfect, reflecting the noise it learned in the training process. \n",
    "\n",
    "In machine learning practice, we don't actually *want* our models to get perfect scores on the training data -- we want them to ***generalize*** to new instances of unseen data. Overfitting is one way in which a model can fail to generalize. \n",
    "\n",
    "Let's do an experiment in which we see what happens to the model's generalization ability when we increase the number of polynomial features: \n"
   ]
  },
  {
   "cell_type": "code",
   "execution_count": null,
   "metadata": {},
   "outputs": [],
   "source": [
    "#| code-fold: true\n",
    "\n",
    "import pandas as pd\n",
    "np.random.seed()\n",
    "\n",
    "degs = range(0, 11)\n",
    "\n",
    "df = pd.DataFrame({\"deg\": [], \"train\" : [], \"test\" : []})\n",
    "\n",
    "for rep in range(10):\n",
    "    X_train_, y_train_ = make_moons(100, shuffle = True, noise = .4)\n",
    "    X_test_, y_test_ = make_moons(100, shuffle = True, noise = .4)\n",
    "\n",
    "    for deg in degs:\n",
    "        plr_ = poly_LR(degree = deg, penalty = \"none\", max_iter = int(1e3))\n",
    "        plr_.fit(X_train_, y_train_)\n",
    "        to_add = pd.DataFrame({\"deg\" : [deg],\n",
    "                               \"train\" : [plr_.score(X_train_, y_train_)],\n",
    "                               \"test\" : [plr_.score(X_test_, y_test_)]})\n",
    "\n",
    "        df = pd.concat((df, to_add))\n",
    "\n",
    "        \n",
    "means = df.groupby(\"deg\").mean().reset_index()\n",
    "\n",
    "plt.plot(means[\"deg\"], means[\"train\"], label = \"training\")\n",
    "plt.plot(means[\"deg\"], means[\"test\"], label = \"validation\")\n",
    "plt.legend()\n",
    "labs = plt.gca().set(xlabel = \"Degree of polynomial feature\",\n",
    "              ylabel = \"Accuracy (mean over 20 runs)\")"
   ]
  },
  {
   "cell_type": "markdown",
   "execution_count": null,
   "metadata": {},
   "outputs": [],
   "source": [
    "We observe that there is an optimal number of features for which the model is most able to generalize: around 3 or so. More features than that is actually *harmful* to the model's predictive performance. \n",
    "\n",
    "So, one way to promote generalization is to try to find \"the right\" or \"the right number\" of features and use them for prediction. This problem is often called **feature selection** and can be done with cross-validation. \n",
    "\n",
    "Another common approach to avoid overfitting is called *regularization*. Regularization proceeds from the insight that wiggly decision boundaries often come from *large entries in the weight vector $\\vw$*. Let's check this for the degree-15 polynomial features model that we trained previously: "
   ]
  },
  {
   "cell_type": "code",
   "execution_count": null,
   "metadata": {},
   "outputs": [],
   "source": []
  },
  {
   "cell_type": "markdown",
   "execution_count": null,
   "metadata": {},
   "outputs": [],
   "source": [
    "Yikes! Not only are there *many* weights, but many of them are extremely large. \n",
    "\n",
    "Can we fix this? In regularization, we add a term to the empirical risk objective function that encourages entries of $\\mathbf{w}$ to be small. We  consider the modified objective function \n",
    "$$\n",
    "L'(\\vw) = L(\\vw) + \\lambda R(\\vw)\\;,\n",
    "$$\n",
    "\n",
    "where $\\lambda$ is a *regularization strength* and $R(\\vw)$ is a *regularization function* that aims to shrink the entries of $\\vw$ in some way. Common choices of regularization function include the square Euclidean norm $R(\\vw) = \\norm{\\vw}_2^2 = \\sum_{j = 1}^p w_i^2$ and the $\\ell_1$ norm $R(\\vw) = \\sum_{j = 1}^p \\abs{w_j}$. To see regularization in action, let's go back to our logistic regression model with a large number of polynomial features. We can see the presence of overfitting in the excessive \"wiggliness\" of the decision boundary. [If $\\vx$ is defined in such a way that it has a constant column (e.g. $x_{in} = 1$ for all $n$), then it is important  *not to regularize the entries of $\\vw$ that correspond to the constant column*. ]{.aside}\n",
    "\n",
    "Fortunately for us, we can actually use regularization directly from inside the `scikit-learn` implementation of `LogisticRegression`. We specify the penalty (the $\\ell_1$ regularization), the strength of the penalty (in the `scikit-learn` implementation, you specify $C = \\frac{1}{\\lambda}$ so that larger $C$ means less regularization) and the optimization solver (not all solvers work with all penalties).  \n",
    "\n",
    "This model did much better on the test data than the overfit model. "
   ]
  },
  {
   "cell_type": "code",
   "execution_count": null,
   "metadata": {},
   "outputs": [],
   "source": [
    "\n",
    "viz_decision_regions(plr, X_train, y_train, X_test, y_test)"
   ]
  },
  {
   "cell_type": "markdown",
   "execution_count": null,
   "metadata": {},
   "outputs": [],
   "source": [
    "One reason for this success is that the entries of the weight vector are now much smaller: "
   ]
  },
  {
   "cell_type": "code",
   "execution_count": null,
   "metadata": {},
   "outputs": [],
   "source": []
  },
  {
   "cell_type": "markdown",
   "execution_count": null,
   "metadata": {},
   "outputs": [],
   "source": [
    "In fact, we can even force some of the coefficients of the weight vector to be exactly 0. This is achieved through the use of the $\\ell_1$ regularization term $R(\\vw) = \\sum_{j = 1}^p \\abs{w_j}$. "
   ]
  },
  {
   "cell_type": "code",
   "execution_count": null,
   "metadata": {},
   "outputs": [],
   "source": [
    "\n",
    "viz_decision_regions(plr, X_train, y_train, X_test, y_test)"
   ]
  },
  {
   "cell_type": "markdown",
   "execution_count": null,
   "metadata": {},
   "outputs": [],
   "source": [
    "How do the weights look now?"
   ]
  },
  {
   "cell_type": "code",
   "execution_count": null,
   "metadata": {},
   "outputs": [],
   "source": []
  },
  {
   "cell_type": "markdown",
   "execution_count": null,
   "metadata": {},
   "outputs": [],
   "source": [
    "The benefit of having many weights exactly equal to zero is that it is not necessary to even *compute* the relevant features in order to make a prediction -- we're just going to multiply them by zero later! \n",
    "\n",
    "\n",
    "## Gradients of Regularizers\n",
    "\n",
    "Suppose that we wish to solve the regularized empirical minimization problem with features: \n",
    "\n",
    "$$\n",
    "\\begin{aligned}\n",
    "    \\hat{\\vw} &= L'(\\vw) \\\\ \n",
    "              &= \\argmin_{\\vw} L(\\vw) + \\lambda R(\\vw) \\\\ \n",
    "              &= \\argmin_{\\vw} \\frac{1}{n}\\sum_{i = 1}^n \\ell(\\bracket{\\vw, \\phi(\\vx_i)}) + \\lambda R(\\vw)\\;,\n",
    "\\end{aligned}\n",
    "$$\n",
    "\n",
    "where $R(\\vw)$ is the regularization term. The gradient of the regularization term. The gradient of this expression is \n",
    "\n",
    "$$\n",
    "\\begin{aligned}\n",
    "    \\nabla L'(\\vw) = \\nabla L(\\vw) + \\lambda \\nabla R(\\vw)\\;.  \n",
    "\\end{aligned}\n",
    "$$\n",
    "So, to compute the gradient of the regularized empirical risk, we just need the gradient of (a) the standard unregularized empirical risk and the regularization term. Here are two examples of gradients for the regularization term. Suppose that $w_i$ is the coefficient of the constant feature in $\\vw$, and let $\\vw_{-i}$ be the vector of entries of $\\vw$ *excluding $w_i$*. [Usually, data processing pipelines are set up so that $i = 1$ or $i = n$.]{.aside} Then, the gradients for the two most common regularization terms are given by the derivatives:  \n",
    "\n",
    "$$\n",
    "\\begin{aligned}\n",
    "    R(\\vw) &= \\lVert \\vw_{-i} \\rVert_2^2 = \\sum_{j \\neq i} w_j^2\\;, &\\quad \\frac{\\partial R(\\vw)}{\\partial w_j} &= \\begin{cases}\n",
    "        0 &\\quad j = i \\\\ \n",
    "        2w_j  &\\quad j \\neq i \\end{cases} &\\quad \\text{($\\ell_2$ regularization)} \\\\ \n",
    "    R(\\vw) &= \\lVert \\vw_{-i} \\rVert_{1} = \\sum_{j \\neq i} \\abs{w_j}\\;, &\\quad \\frac{\\partial R(\\vw)}{\\partial w_j} &= \\begin{cases}\n",
    "        0 &\\quad j = i \\\\ \n",
    "        \\mathrm{sign}(w_j)  &\\quad j \\neq i, w_j \\neq 0 \\\\ \n",
    "        0  &\\quad j \\neq i, w_j = 0\n",
    "         \\end{cases} &\\quad \\text{($\\ell_1$ regularization)}\n",
    "\\end{aligned}\n",
    "$$\n",
    "\n",
    "*Technically,* the derivative of $\\abs{w_j}$ is not defined when $w_j = 0$. It is ok to pretend that it is and equal to zero for the purposes of optimization due to the theory of [subdifferentials](https://en.wikipedia.org/wiki/Subderivative). \n",
    "\n",
    "\n",
    "\n",
    "## Reflecting on Empirical Risk Minimization \n",
    "\n",
    "We have now introduced all the fundamental features of modern empirical risk minimization for training machine learning models. We aim to find a weight vector $\\hat{\\vw}$ that solves the problem\n",
    "\n",
    "$$\n",
    "\\begin{aligned}\n",
    "    \\hat{\\vw} = \\argmin_{\\vw} \\frac{1}{n} \\sum_{i = 1}^n \\ell (\\bracket{\\vw, \\phi(\\vx_i), y_i}) + \\lambda R(\\vw)\\;. \n",
    "\\end{aligned}\n",
    "$${#eq-regularized-erm}\n",
    "\n",
    "Until roughly 2005 or so, @eq-regularized-erm was the state of the art for a wide array of classification and regression problems. Common questions would include: \n",
    "\n",
    "1. What *loss functions* $\\ell$ should be used for model scoring? \n",
    "2. What *feature maps* $\\phi$ should be used for extracting useful features from the data? \n",
    "3. What *regularization terms* should be used to guard against overfitting? \n",
    "\n",
    "[It's not the case that all of machine learning fit into this framework; important supervised techniques that don't fall into this category include probabilistic machine learning and tree-based methods like decision trees and random forests.]{.aside}\n"
   ]
  }
 ],
 "metadata": {
  "kernelspec": {
   "display_name": "Python 3 (ipykernel)",
   "language": "python",
   "name": "python3"
  }
 },
 "nbformat": 4,
 "nbformat_minor": 4
}
