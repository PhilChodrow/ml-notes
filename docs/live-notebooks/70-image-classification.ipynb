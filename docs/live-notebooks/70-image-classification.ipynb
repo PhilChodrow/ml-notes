{
 "cells": [
  {
   "cell_type": "markdown",
   "execution_count": null,
   "metadata": {
    "id": "z7s_hnQ2l325"
   },
   "outputs": [],
   "source": [
    "# Deep Image Classification\n",
    "\n",
    "In this set of lecture notes, we'll work through an applied case study of deep learning for image classification. Like [our last adventure with an image classification task](51-vectorization.ipynb), we'll focus on sign-language classification using convolutional kernels. This time, however, we won't take the kernels as given. Instead, we'll attempt to optimize the kernels as part of the learning process.\n",
    "\n",
    "Along the way, we'll also study some of the practicalities of working with larger models in torch, including model inspection, GPU acceleration, and data set management."
   ]
  },
  {
   "cell_type": "code",
   "execution_count": null,
   "metadata": {
    "colab": {
     "base_uri": "https://localhost:8080/"
    },
    "id": "wBq0PcrEl326",
    "outputId": "775c524d-6dcd-4dda-bd85-62ccbfb259f9"
   },
   "outputs": [],
   "source": [
    "import torch\n",
    "import pandas as pd\n",
    "from matplotlib import pyplot as plt\n",
    "import matplotlib.ticker as mtick\n",
    "from torch.nn import Conv2d, MaxPool2d, Parameter\n",
    "from torch.nn.functional import relu\n",
    "from sklearn.metrics import confusion_matrix"
   ]
  },
  {
   "cell_type": "markdown",
   "execution_count": null,
   "metadata": {},
   "outputs": [],
   "source": [
    "## A Note On Chips \n",
    "\n",
    "As we've seen from the last several lectures, deep learning models involve a **lot** of linear algebra in order to compute predictions and gradients. This means that deep models, even more than many other machine learning models, strongly benefit from hardware that is good at doing linear algebra *fast*. As it happens, graphics processing units (GPUs) are very, very good at fast linear algebra. [The reason that GPUs are so good at this is that they were originally optimized for rendering complex graphics in e.g. animation and video games, and this involves lots of linear algebra.]{.aside} So, it's very helpful when running our models to have access to GPUs; using a GPU can often result in up to 10x speedups. While some folks can use GPUs on their personal laptops, another common option for learning purposes is to use a cloud-hosted GPU. My personal recommendation is Google Colab, and I'll supply links that allow you to open lecture notes in Colab and use their GPU runtimes. \n",
    "\n",
    "The following torch code checks whether there is a GPU available to Python, and if so, sets a variable called `device` to log this fact. We'll make sure that both our data and our models fully live on the same device when doing model training. "
   ]
  },
  {
   "cell_type": "code",
   "execution_count": null,
   "metadata": {},
   "outputs": [],
   "source": [
    "device = \"cuda\" if torch.cuda.is_available() else \"cpu\"\n",
    "print(f\"Running on {device}.\")"
   ]
  },
  {
   "cell_type": "markdown",
   "execution_count": null,
   "metadata": {},
   "outputs": [],
   "source": [
    "Now let's acquire our data and convert it into a tensor format. We'll continue to work on the [Sign Language MNIST](https://www.kaggle.com/datasets/datamunge/sign-language-mnist) data set, which I retrieved from Kaggle. Our aim is still to train a model that can predict the letter represented by an image of a hand gesture. "
   ]
  },
  {
   "cell_type": "code",
   "execution_count": null,
   "metadata": {
    "id": "k4VUxE3RmWK-"
   },
   "outputs": [],
   "source": [
    "train_url = \"https://raw.githubusercontent.com/PhilChodrow/ml-notes/main/data/sign-language-mnist/sign_mnist_train.csv\"\n",
    "test_url = \"https://raw.githubusercontent.com/PhilChodrow/ml-notes/main/data/sign-language-mnist/sign_mnist_test.csv\"\n",
    "\n",
    "df_train = pd.read_csv(train_url)\n",
    "df_val   = pd.read_csv(test_url)\n",
    "\n",
    "def prep_data(df):\n",
    "    n, p = df.shape[0], df.shape[1] - 1\n",
    "    y = torch.tensor(df[\"label\"].values)\n",
    "    X = df.drop([\"label\"], axis = 1)\n",
    "    X = torch.tensor(X.values)\n",
    "    X = torch.reshape(X, (n, 1, 28, 28))\n",
    "    X = X / 255\n",
    "\n",
    "    # important: move the data to GPU if available\n",
    "    X, y = X.to(device), y.to(device)\n",
    "    \n",
    "    return X, y\n",
    "\n",
    "X_train, y_train = prep_data(df_train)\n",
    "X_val, y_val     = prep_data(df_val)"
   ]
  },
  {
   "cell_type": "markdown",
   "execution_count": null,
   "metadata": {},
   "outputs": [],
   "source": [
    "Like last time, our data is essentially a big stack of images: "
   ]
  },
  {
   "cell_type": "code",
   "execution_count": null,
   "metadata": {},
   "outputs": [],
   "source": [
    "X_train.size() # (num_images, num_color_channels, num_vertical_pixels, num_horizontal_pixels)"
   ]
  },
  {
   "cell_type": "markdown",
   "execution_count": null,
   "metadata": {},
   "outputs": [],
   "source": [
    "Here are a few excerpts from the data. "
   ]
  },
  {
   "cell_type": "code",
   "execution_count": null,
   "metadata": {
    "colab": {
     "base_uri": "https://localhost:8080/",
     "height": 718
    },
    "id": "XYMpmt6Ql327",
    "outputId": "94b6409e-0d0f-4d71-8c96-cf27d8da8c85"
   },
   "outputs": [],
   "source": [
    "ALPHABET = \"ABCDEFGHIJKLMNOPQRSTUVWXYZ\"\n",
    "\n",
    "def show_images(X, y, rows, cols, channel = 0):\n",
    "\n",
    "    fig, axarr = plt.subplots(rows, cols, figsize = (2*cols, 2*rows))\n",
    "    for i, ax in enumerate(axarr.ravel()):\n",
    "        ax.imshow(X[i, channel].detach().cpu(), cmap = \"Greys_r\")\n",
    "        ax.set(title = f\"{ALPHABET[y[i]]}\")\n",
    "        ax.axis(\"off\")\n",
    "    plt.tight_layout()\n",
    "\n",
    "show_images(X_train, y_train, 5, 5)"
   ]
  },
  {
   "cell_type": "markdown",
   "execution_count": null,
   "metadata": {},
   "outputs": [],
   "source": [
    "## Data Loaders \n",
    "\n",
    "A *data loader* is an iterator that allows us to retrieve small pieces (\"batches\") of the data set. This is very convenient for stochastic gradient descent -- we get the piece of the data that we want, compute the loss, compute the gradients, take an optimization step, and then get the next piece of data. Let's put both our training and validation sets into data loaders. "
   ]
  },
  {
   "cell_type": "code",
   "execution_count": null,
   "metadata": {
    "id": "_h7FmTtbl327"
   },
   "outputs": [],
   "source": [
    "data_loader_train = torch.utils.data.DataLoader(\n",
    "    torch.utils.data.TensorDataset(X_train, y_train),\n",
    "    batch_size = 32,\n",
    "    shuffle = True\n",
    ")\n",
    "\n",
    "data_loader_val = torch.utils.data.DataLoader(\n",
    "    torch.utils.data.TensorDataset(X_val, y_val),\n",
    "    batch_size = 32,\n",
    "    shuffle = True\n",
    ")"
   ]
  },
  {
   "cell_type": "markdown",
   "execution_count": null,
   "metadata": {},
   "outputs": [],
   "source": [
    "Here's an example of retrieving a batch of training data from the training data loader: "
   ]
  },
  {
   "cell_type": "code",
   "execution_count": null,
   "metadata": {},
   "outputs": [],
   "source": []
  },
  {
   "cell_type": "markdown",
   "execution_count": null,
   "metadata": {},
   "outputs": [],
   "source": [
    "We most frequently work with data loaders via loops: \n",
    "\n",
    "```python\n",
    "for X, y in data_loader_train: \n",
    "    #...\n",
    "```\n",
    "\n",
    "An additional benefit of data loaders is that they can perform arbitrary operations in order to return data batches, including reading files from disk. So, if your overall data set is too large to hold in memory, you can write a custom data loader that reads in a batch of files, operates on them in some way, and returns the result to you as a tensor. "
   ]
  },
  {
   "cell_type": "markdown",
   "execution_count": null,
   "metadata": {
    "id": "YzTbZ-5il327"
   },
   "outputs": [],
   "source": [
    "### Interlude: Multiclass Classification\n",
    "\n",
    "We're actually now making our first formal study of a multiclass classification problem, in which we are trying to distinguish data observations into more than two possible categories. Whereas before we didn't really comment on the specific structure of this problem, here we need to build up a model from scratch and therefore need to understand how it works!\n",
    "\n",
    "Typically, classification models return a score *for each class*. Then, the class with the highest score is usually considered to be the model's prediction. This means that the score function should actually return a *vector* of scores for each data observation.\n",
    "\n",
    "In order to make this happen for a single-layer model, we move from a matrix-vector multiplication $\\mathbf{X}\\mathbf{w}$ to a matrix-matrix multiplication $\\mathbf{X}\\mathbf{W}$, where $\\mathbf{W} \\in \\mathbb{R}^{p \\times r}$ has number of rows equal to the number of features and number of columns equal to the number of classes.\n",
    "\n",
    "More generally, we can define our model in any way we like, as long as it returns a vector of scores for each data observation.\n",
    "\n",
    "It is also necessary to modify the loss function for classification models. Instead of the binary cross entropy, we need to define a multiclass generalization. The most common choice of per-observation loss function between a vector of class scores $\\mathbf{s} \\in \\mathbb{R}^r$ and the true label $y_i$ is\n",
    "\n",
    "$$\n",
    "\\ell(\\mathbf{s}_i, y_i) = \\sum_{j = 1}^r \\mathbb{1}[y_i = j]\\log\\left(\\frac{e^{s_{ij}}}{\\sum_{k = 1}^r e^{s_{ik}}}\\right)\n",
    "$$\n",
    "\n",
    "The function\n",
    "\n",
    "$$\n",
    "\\mathrm{softmax}(\\mathbf{s}) = \\left(\\begin{matrix}\n",
    "    \\frac{e^{s_1}}{\\sum_{j = 1}^r e^{s_j}} \\\\\n",
    "    \\frac{e^{s_2}}{\\sum_{j = 1}^r e^{s_j}} \\\\\n",
    "    \\vdots \\\\\n",
    "    \\frac{e^{s_r}}{\\sum_{j = 1}^r e^{s_j}}\n",
    "    \\end{matrix}\\right)\n",
    "$$\n",
    "\n",
    "is a generalization of the logistic sigmoid function to the multiclass setting. It is called the softmax function because it has a tendency to accentuate the largest value in the vector $\\mathbf{s}$. With this notation, we can write the cross-entropy loss as\n",
    "\n",
    "$$\n",
    "\\ell(\\mathbf{s}_i, y_i) = \\sum_{j = 1}^r \\mathbb{1}[y_i = j]\\log \\mathrm{softmax}(\\mathbf{s}_i)_j\\;.\n",
    "$$\n",
    "\n",
    "Summing the per-observation loss over all data points gives the empirical risk to be minimized.\n",
    "\n",
    "## A First Linear Model\n",
    "\n",
    "Let's implement a linear model with the multiclass cross entropy. This first model is equivalent to multiclass logistic regression.\n"
   ]
  },
  {
   "cell_type": "code",
   "execution_count": null,
   "metadata": {
    "id": "cWns5Co4l327"
   },
   "outputs": [],
   "source": [
    "import torch.nn as nn\n",
    "import torch.nn.functional as F\n",
    "\n",
    "\n"
   ]
  },
  {
   "cell_type": "markdown",
   "execution_count": null,
   "metadata": {
    "id": "6oH7DdVal328"
   },
   "outputs": [],
   "source": [
    "The `forward` method computes a matrix of scores. Each row of this matrix gives the scores for a single observation:"
   ]
  },
  {
   "cell_type": "code",
   "execution_count": null,
   "metadata": {
    "colab": {
     "base_uri": "https://localhost:8080/"
    },
    "id": "Mekmhbnnl328",
    "outputId": "ea0d1033-fb40-463e-c652-c7053770a18b"
   },
   "outputs": [],
   "source": []
  },
  {
   "cell_type": "markdown",
   "execution_count": null,
   "metadata": {
    "id": "Ayk8nwPnl328"
   },
   "outputs": [],
   "source": [
    "The `predict` method just computes these scores and returns the column index of the largest score in each column."
   ]
  },
  {
   "cell_type": "code",
   "execution_count": null,
   "metadata": {
    "colab": {
     "base_uri": "https://localhost:8080/"
    },
    "id": "dZA2oI7Qmj4O",
    "outputId": "7470e1ed-bf62-48f4-f30f-686f1e6de388"
   },
   "outputs": [],
   "source": []
  },
  {
   "cell_type": "markdown",
   "execution_count": null,
   "metadata": {
    "id": "eqZzdF39l328"
   },
   "outputs": [],
   "source": [
    "It's very useful to get in the habit of *inspecting* your models in order to understand how they are organized and how many parameters need to be trained. One convenient way to do this is with the `summary` function provided by the `torchsummary` package. This function requires that we input the dimensions of a single observation:"
   ]
  },
  {
   "cell_type": "code",
   "execution_count": null,
   "metadata": {
    "colab": {
     "base_uri": "https://localhost:8080/"
    },
    "id": "i8e6340Pl328",
    "outputId": "7651c8e9-02a7-48b4-81d7-bf43056765fc"
   },
   "outputs": [],
   "source": []
  },
  {
   "cell_type": "markdown",
   "execution_count": null,
   "metadata": {
    "id": "as-o5lrhl328"
   },
   "outputs": [],
   "source": [
    "Even this simple multiclass logistic model has over 20,000 parameters to train! Note that the output shape matches the number of possible class labels in the data. \n",
    "\n",
    "Let's first implement a function to evaluate the model:"
   ]
  },
  {
   "cell_type": "code",
   "execution_count": null,
   "metadata": {
    "id": "L-gH-qBLl328"
   },
   "outputs": [],
   "source": [
    "#---\n",
    "def evaluate(model):\n",
    "    \n",
    "    # count the number of total observations and correct predictions\n",
    "    total = 0\n",
    "    total_correct = 0\n",
    "    \n",
    "    \n",
    "    # loop through the data loader\n",
    "    for X, y in data_loader_val:\n",
    "        \n",
    "        # move the data to the device (ideally, to gpu)\n",
    "        X, y = X.to(device), y.to(device)\n",
    "\n",
    "        # compute the predictions\n",
    "        scores = model.forward(X)\n",
    "        y_pred =  torch.argmax(scores, dim = 1)\n",
    "        \n",
    "        # update the total and the number of correct predictions\n",
    "        total += X.size(0)\n",
    "        total_correct += (y_pred == y).sum().item()\n",
    "    \n",
    "    print(f\"validation accuracy = {total_correct / total:.3f}\")\n",
    "#--"
   ]
  },
  {
   "cell_type": "code",
   "execution_count": null,
   "metadata": {},
   "outputs": [],
   "source": [
    "evaluate(model)"
   ]
  },
  {
   "cell_type": "markdown",
   "execution_count": null,
   "metadata": {},
   "outputs": [],
   "source": [
    "\n",
    "Obviously our model does not do very well on the validation data, since it's not trained yet. \n",
    "\n",
    "Let's therefore implement a simple training loop. This loop will include provisions to train the model while also calling the previous function to update us on the  accuracy on the validation set."
   ]
  },
  {
   "cell_type": "code",
   "execution_count": null,
   "metadata": {},
   "outputs": [],
   "source": [
    "import torch.optim as optim\n",
    "def train(model, k_epochs = 1, print_every = 2000, evaluate_after_epoch = True, **opt_kwargs):\n",
    "    \n",
    "    "
   ]
  },
  {
   "cell_type": "code",
   "execution_count": null,
   "metadata": {
    "colab": {
     "base_uri": "https://localhost:8080/"
    },
    "id": "xoDFkdg1l328",
    "outputId": "eb6d3f38-3e29-4924-baec-64e80c4aff4f"
   },
   "outputs": [],
   "source": [
    "train(model, k_epochs = 30, lr = 0.001, evaluate_after_epoch = True)"
   ]
  },
  {
   "cell_type": "markdown",
   "execution_count": null,
   "metadata": {
    "id": "RK5rfVCll328"
   },
   "outputs": [],
   "source": [
    "## Convolutional Models\n",
    "\n",
    "Our favorite logistic regression is a great algorithm, but there is lots of room to improve! Last time we studied this data set, we used convolutional kernels extract more helpful features from the data before finally plugging those features into a logistic regression model. Convolutional kernels offer structured transformations that can accentuate certain features of images: \n",
    "\n",
    "![](https://d2l.ai/_images/correlation.svg)\n",
    "\n",
    "*Image from [Dive Into Deep Learning](https://d2l.ai/chapter_convolutional-neural-networks/conv-layer.html)*\n",
    "\n",
    "We sandwiched those convolutional layers between pooling and ReLU activation layers. This time, instead of treating these kernels as given, we are going to learn them as part of the optimization routine.\n",
    "\n",
    "*Starting from this point in the notes, it is strongly recommended to run this code with a GPU available, such as in Google Colab*."
   ]
  },
  {
   "cell_type": "code",
   "execution_count": null,
   "metadata": {},
   "outputs": [],
   "source": [
    "import torch.nn as nn\n",
    "from  torch.nn import ReLU\n",
    "\n"
   ]
  },
  {
   "cell_type": "markdown",
   "execution_count": null,
   "metadata": {
    "id": "vNR75TQHl329"
   },
   "outputs": [],
   "source": [
    "What does this model look like?"
   ]
  },
  {
   "cell_type": "code",
   "execution_count": null,
   "metadata": {
    "colab": {
     "base_uri": "https://localhost:8080/"
    },
    "id": "AZDWl0gXl329",
    "outputId": "9fcdd773-afd4-4952-a6e4-300fb22cf65c"
   },
   "outputs": [],
   "source": [
    "summary(model, input_size=(1, 28, 28))"
   ]
  },
  {
   "cell_type": "markdown",
   "execution_count": null,
   "metadata": {
    "id": "iCHyn5VUl329"
   },
   "outputs": [],
   "source": [
    "This model has (many) more parameters than the logistic regression model. The increased depth, as well as the use of convolutional layers, give it *potential* to usefully leverage the spatial structure of the predictor data. "
   ]
  },
  {
   "cell_type": "code",
   "execution_count": null,
   "metadata": {
    "colab": {
     "base_uri": "https://localhost:8080/"
    },
    "id": "mv4Jzpcol329",
    "outputId": "5dab17a0-dd3e-4967-9b93-07c8a01edaee"
   },
   "outputs": [],
   "source": [
    "train(model, k_epochs = 30,  lr = 0.01, evaluate_after_epoch = True, momentum = 0.9)"
   ]
  },
  {
   "cell_type": "markdown",
   "execution_count": null,
   "metadata": {},
   "outputs": [],
   "source": [
    "Although this model takes *much* longer to complete a single epoch, it is also able to achieve much higher validation accuracy than the pure logistic regression model (which, as you'll recall from our previous work on this data set, leveled out around 67%). "
   ]
  },
  {
   "cell_type": "markdown",
   "execution_count": null,
   "metadata": {},
   "outputs": [],
   "source": [
    "## Other Considerations \n",
    "\n",
    "We'll highlight two practical considerations that frequently come up when working with image classification models. \n",
    "\n",
    "### Data Augmentation\n",
    "\n",
    "One very standard technique for improving the ability of image classification models to generalize is to perform *data augmentation*. Data augmentation creates \"new\" data by applying simple transformations to the input images. For example, one kind of data augmentation is to *rotate* the image by a small amount. \n",
    "\n",
    "[You can learn more about Torch's data augmentation capabilities in [the documentation](https://pytorch.org/vision/stable/transforms.html)]{.aside}.\n",
    "\n",
    "Here is an example of applying a data augmentation pipeline to an image. The result is a sequence of new images, which would be reasonably expected to have the same true class label as the original. "
   ]
  },
  {
   "cell_type": "code",
   "execution_count": null,
   "metadata": {},
   "outputs": [],
   "source": [
    "from torchvision.transforms import v2\n",
    "transforms = v2.Compose([\n",
    "    v2.RandomResizedCrop(size=(24, 24), antialias=True),\n",
    "    v2.RandomHorizontalFlip(p=0.5)\n",
    "    ])\n",
    "\n",
    "cols = 5\n",
    "rows = 2\n",
    "ix = 0\n",
    "\n",
    "fig, axarr = plt.subplots(rows, cols, figsize = (2*cols, 2*rows))\n",
    "for i, ax in enumerate(axarr.ravel()):\n",
    "    transformed = transforms(X_train[ix])\n",
    "    ax.imshow(transformed.detach().cpu()[0], cmap = \"Greys_r\")\n",
    "    ax.axis(\"off\")\n",
    "plt.tight_layout()"
   ]
  },
  {
   "cell_type": "markdown",
   "execution_count": null,
   "metadata": {},
   "outputs": [],
   "source": [
    "### Data Loaders from Directories\n",
    "\n",
    "As mentioned above, it can be very helpful to use data loaders to manage the process of reading in data and passing it to your model. This is especially helpful in the case that your data set is too large to fit in RAM; the data loader can read the data from disk and pass it to the model, without ever needing to fit the entirety of data in RAM. You can learn much more about how Torch manages data sets and data loaders in [the docs](https://pytorch.org/docs/stable/data.html#loading-batched-and-non-batched-data)."
   ]
  }
 ],
 "metadata": {
  "accelerator": "GPU",
  "colab": {
   "gpuType": "T4",
   "provenance": []
  },
  "kernelspec": {
   "display_name": "Python 3",
   "name": "python3"
  },
  "language_info": {
   "codemirror_mode": {
    "name": "ipython",
    "version": 3
   },
   "file_extension": ".py",
   "mimetype": "text/x-python",
   "name": "python",
   "nbconvert_exporter": "python",
   "pygments_lexer": "ipython3",
   "version": "3.9.15"
  }
 },
 "nbformat": 4,
 "nbformat_minor": 0
}
