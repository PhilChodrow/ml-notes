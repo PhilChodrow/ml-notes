{
 "cells": [
  {
   "cell_type": "raw",
   "metadata": {},
   "source": [
    "---\n",
    "code-fold: true\n",
    "code-summary: \"Show code\"\n",
    "---"
   ]
  },
  {
   "cell_type": "markdown",
   "metadata": {},
   "source": [
    "# Data, Patterns, and Models\n",
    "\n",
    "Broadly, machine learning is the science and practice of building algorithms that learn patterns from data. Here are two synthetic examples of data in which there is some kind visually clear pattern in the data. In the first example (@fig-examples-1), we can see that there is a relationship between two quantitative variables, $x$ and $y$. If someone told is the value of $x$, then we would likely be able to make a reasonable prediction about the value of the number $y$. This is an example of a **regression** task. In the second example (@fig-examples-2), we can observe a relation between the location of each data point in 2d space and a color, which could represent a category or class. If someone told us the location of the point in 2d space, we would likely be able to say which of the two classes it belonged to. This is an example of a **classification** task. "
   ]
  },
  {
   "cell_type": "code",
   "execution_count": null,
   "metadata": {},
   "outputs": [],
   "source": [
    "#| label: fig-examples\n",
    "#| fig-cap: \"Examples of data with visualizable patterns.\"\n",
    "#| fig-subcap: \n",
    "#|   - \"Example data in which we can seek a pattern in the value of $y$ based on the value of $x$. This task is called  **regression**.\"\n",
    "#|   - \"Example data in which we can seek a pattern in the **category** of a data point (represented by color) based on the value of two variables, $x_1$ and $x_2$. This task is called **classification.**\"\n",
    "#| layout-ncol: 2\n",
    "\n",
    "import numpy as np\n",
    "from matplotlib import pyplot as plt\n",
    "\n",
    "plt.style.use(\"seaborn-v0_8-whitegrid\")\n",
    "\n",
    "def plot_fig(pattern = False):\n",
    "\n",
    "    # panel 1: regression\n",
    "\n",
    "    noise = 0.3\n",
    "\n",
    "    x = np.arange(0, np.pi, 0.01)\n",
    "    y = 2*np.sin(x) + 0.5\n",
    "    y_noise = y + np.random.normal(0.0, noise, size = (len(x),))\n",
    "\n",
    "    plt.scatter(x, y_noise, s = 20,  facecolors='none', edgecolors = \"darkgrey\", label = \"data\")\n",
    "    if pattern: \n",
    "        plt.plot(x, y, label = \"pattern\", linestyle = \"--\", color = \"black\", zorder = 10)\n",
    "    plt.gca().set(xlabel = r\"$x$\", ylabel = r\"$y$\")\n",
    "    plt.gca().set_xlim(-0, np.pi)\n",
    "    plt.gca().set_ylim(-0, np.pi)\n",
    "    plt.gca().set_aspect('equal')\n",
    "    plt.legend()\n",
    "    plt.show()\n",
    "\n",
    "    # panel 2: classification\n",
    "\n",
    "    noise = 0.2\n",
    "    n_points = 300\n",
    "\n",
    "    for i in range(2):\n",
    "        x = i + np.random.normal(0.0, noise, size = n_points)\n",
    "        y = i + np.random.normal(0.0, noise, size = n_points)\n",
    "    \n",
    "        plt.scatter(x, y, s = 20,  c = i*(np.zeros_like(x) + 1), facecolors = \"none\", edgecolors = \"darkgrey\", cmap = \"BrBG\", label = f\"Category {i+1}\", vmin = -1, vmax = 2)\n",
    "\n",
    "    if pattern: \n",
    "        plt.plot([-0.5, 1.5], [1.5, -0.5], label = \"pattern\", linestyle = \"--\", color = \"black\", zorder = 10)\n",
    "    plt.legend()\n",
    "    plt.gca().set(xlabel = r\"$x_1$\", ylabel = r\"$x_2$\")\n",
    "    plt.gca().set_xlim(-1.0, 2.0)\n",
    "    plt.gca().set_ylim(-1.0, 2.0)\n",
    "    plt.gca().set_aspect('equal')\n",
    "    plt.show()\n",
    "\n",
    "plot_fig()"
   ]
  },
  {
   "cell_type": "markdown",
   "metadata": {},
   "source": [
    "In examples like these, it's often possible for us to just use our eyes and spatial reasoning in order to make a reasonable prediction. \n",
    "\n",
    "How do we encode this knowledge mathematically, in a way that a computer can understand and use? In each of the two cases, we can express the pattern in the data **as a mathematical function**. \n",
    "\n",
    "- In the regression example (@fig-examples-1), we can encode the pattern in the data as a function $f:\\mathbb{R} \\rightarrow \\mathbb{R}$ that accepts a value of $x$ and returns a modeled or predicted value of $y$. Such a function is shown in @fig-examples-with-patterns-1. The function $f$ is our *predictive model*. We often write $y \\approx f(x)$ to express the qualitative idea that $f$ models the relationship between $x$ and $y$ in a given data set. We'll learn how to make this idea much more precise when we study empirical risk minimization later in the notes. \n",
    "- In the classification example (@fig-examples-2), we can again encode the pattern in the data as a function. This time, our model is going to describe an estimated **boundary* between the two classes of points. In this example, a linear boundary is pretty good. The plot shows the plot of the linear equation  $x_2 = g(x_1) = 1 - x_1$. Later in the course, it will be convenient to instead write this equation in the equivalent form $\\langle \\mathbf{x}, \\mathbf{w} \\rangle = 0$, where $\\mathbf{x} = (x_1, x_2, 1)^T$ and $\\mathbf{w} = (1, 1, -1)^T$.  \n"
   ]
  },
  {
   "cell_type": "code",
   "execution_count": null,
   "metadata": {},
   "outputs": [],
   "source": [
    "#| label: fig-examples-with-patterns\n",
    "#| fig-cap: \"Examples of patterns in data.\"\n",
    "#| fig-subcap: \n",
    "#|   - \"As above, with a plot of the function $f(x) = 2\\\\sin{x} + \\\\frac{1}{2}$.\"\n",
    "#|   - \"As above, with a plot of the function $g(x_1) = 1 - x_1$. This plot is the same as the affine subspace defined by the equation $x_1 + x_2 = 1$.\"\n",
    "#| layout-ncol: 2\n",
    "plot_fig(pattern = True)"
   ]
  },
  {
   "cell_type": "markdown",
   "metadata": {},
   "source": [
    "## Supervised Learning\n",
    "\n",
    "Our focus in these notes is almost exclusively on *supervised* learning. In supervised learning, we are able to view some attributes or features of a data point, which we call **predictors**. Traditionally, we collect these attributes into a vector called $\\mathbf{x}$. Each data point then has a **target**, which could be either a scalar number or a categorical label. Traditionally, the target is named $y$. We aim to predict the target based on the predictors using a **model**, which is a function $f$. The result of applying the model $f$ to the predictors $\\mathbf{x}$ is our **prediction** or **predicted target** $f(\\mathbf{x})$, to which we often give the name $\\hat{y}$. Our goal is to choose $f$ such that the predicted target $\\hat{y}$ is equal to, or at least close to, the true target $y$. We could summarize this with the heuristic statement: \n",
    "\n",
    "$$\n",
    "\\begin{aligned}\n",
    "    \\text{``}f(\\mathbf{x}) = \\hat{y} \\approx y\\;.\\text{''}\n",
    "\\end{aligned}\n",
    "$$\n",
    "\n",
    "How we interpret this heuristic statement depends on context. In regression problems, this statement typically means \"$\\hat{y}$ is usually close to $y$\", while in classification problems this statement usually means that \"$\\hat{y} = y$ exactly most or all of the time.\" \n",
    "\n",
    "In our regression example from above, we can think of a function $f:\\mathbb{R}\\rightarrow \\mathbb{R}$ that maps the predictor $x$ to the prediction $\\hat{y}$. In the case of classification, things are a little more complicated. Although the function $g(x_1) = 1 - x_1$ is visually very relevant, that function is not itself the model we use for prediction. Instead, our prediction function should return one classification label for points on one side of the line defined by that function, and a different label for points on the other side. If we say that blue points are labeled $0$ and brown points are labeled $1$, then our predictor function can be written $f:\\mathbb{R}^2 \\rightarrow \\{0, 1\\}$, and it could be written heuristically like this: \n",
    "\n",
    "\n",
    "$$\n",
    "\\begin{aligned} \n",
    "    f(\\mathbf{x}) &= \\mathbb{1}[\\mathbf{x} \\text{ is above the line}] \\\\ \n",
    "                  &= \\mathbb{1}[x_1 + x_2 \\geq 1] \\\\ \n",
    "                  &= \\mathbb{1}[x_1 + x_2 - 1\\geq 0]\\;.\n",
    "\\end{aligned}\n",
    "$$\n",
    "\n",
    "This last expression looks a little clunky, but we will soon find out that it is the easiest one to generalize to an advanced setting. \n",
    "\n",
    "::: {.column-margin}\n",
    "\n",
    "Here, $\\mathbb{1}$ is the indicator function which is equal to 1 if its argument is true and 0 otherwise. Formally, \n",
    "\n",
    "$$\n",
    "\\begin{aligned}\n",
    "    \\mathbb{1}[P] = \\begin{cases} \n",
    "        1 &\\quad P \\text{ is true} \\\\ \n",
    "        0 &\\quad P \\text{ is false.}\n",
    "        \\end{cases}\n",
    "\\end{aligned}\n",
    "$$\n",
    "\n",
    ":::\n"
   ]
  }
 ],
 "metadata": {
  "kernelspec": {
   "display_name": "Python 3 (ipykernel)",
   "language": "python",
   "name": "python3"
  }
 },
 "nbformat": 4,
 "nbformat_minor": 4
}
