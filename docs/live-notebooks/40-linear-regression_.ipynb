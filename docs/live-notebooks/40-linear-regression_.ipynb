{
 "cells": [
  {
   "cell_type": "markdown",
   "execution_count": null,
   "metadata": {},
   "outputs": [],
   "source": [
    "# Linear Regression\n",
    "\n",
    "So far in these notes, we have almost exclusively considered the *classification problem*: given some data with categorical labels, we aim to learn patterns in the data that will allow us to predict new labels for new unseen data. In the *regression  problem*, we instead aim to learn patterns in the data that will allow us to predict a *quantitative* variable. If you want to predict the future price of a stock, the GPA of a Middlebury College student, or the number of wildfires in Vermont per year, you need to solve a regression problem. \n",
    "\n",
    "In these lecture notes we'll focus on the *linear* regression problem and some of its extensions. Linear regression is an easy object of focus for us because it can be formulated in the framework of empirical risk minimization that we have recently been developing. In its most fundamental form, linear regression is the task of fitting a line to a cloud of points that display some kind of trend. Here's the simple picture: "
   ]
  },
  {
   "cell_type": "code",
   "execution_count": null,
   "metadata": {},
   "outputs": [],
   "source": [
    "#| code-fold: true\n",
    "\n",
    "import torch\n",
    "from matplotlib import pyplot as plt\n",
    "plt.style.use('seaborn-v0_8-whitegrid')\n",
    "\n",
    "def regression_data(n = 100, w = torch.Tensor([-0.7, 0.5]), phi = lambda x: x, x_max = 1):\n",
    "\n",
    "    X = torch.zeros(n, 2)\n",
    "    x = torch.rand(n)*x_max\n",
    "    x, ix = torch.sort(x)\n",
    "    X[:, 1] = x\n",
    "    X[:, 0] = torch.ones(n)\n",
    "\n",
    "    X = X - X.mean(dim = 0,keepdims = True)\n",
    "\n",
    "\n",
    "    y = phi(X)@w + 0.05*torch.randn(n)\n",
    "    y = y - y.mean()\n",
    "    return X, y\n",
    "\n",
    "\n",
    "def plot_regression_data(X, y, w = None, phi = lambda x: x, pattern_label = \"pattern\", ax = None, legend = True, xlabel = True, ylabel = True, title = None):\n",
    "    \n",
    "    if ax is None: \n",
    "        fig, ax = plt.subplots(1, 1, figsize = (6, 4))\n",
    "\n",
    "    if xlabel: \n",
    "        labels = ax.set(xlabel = \"Feature (x)\")\n",
    "    if ylabel: \n",
    "        labels = ax.set(ylabel = \"Target (y)\")\n",
    "    if title: \n",
    "        t = ax.set(title = title)\n",
    "\n",
    "\n",
    "    ax.scatter(X[:,1], y, facecolors = \"none\", edgecolors = \"steelblue\", label = \"data\")\n",
    "    if w is not None: \n",
    "        m_points = 1001\n",
    "        X_ = torch.zeros(m_points, 2)\n",
    "        x = torch.linspace(X[:,1].min().item()-0.01, X[:,1].max().item()+0.01, m_points)\n",
    "        X_[:,1] = x\n",
    "        X_[:, 0] = torch.ones(m_points)\n",
    "        X_ = X_ - X_.mean(dim = 0,keepdims = True)\n",
    "\n",
    "        y_ = phi(X_)@w \n",
    "        ax.plot(X_[:,1], y_, linestyle = \"dashed\", color = \"black\", label = pattern_label)\n",
    "        if legend:\n",
    "            ax.legend()\n",
    "\n",
    "\n",
    "\n",
    "w = torch.Tensor([0.4, 0.5])\n",
    "\n",
    "X, y = regression_data(w = w)\n",
    "plot_regression_data(X, y, w = w)"
   ]
  },
  {
   "cell_type": "markdown",
   "execution_count": null,
   "metadata": {},
   "outputs": [],
   "source": [
    "Our aim is to approximately learn the pattern when we are allowed only to observe the points. \n",
    "\n",
    "Theoretically, linear regression is *just another kind of empirical risk minimization*. In practice, it has a few extra tricks. \n",
    "\n",
    "## Linear Regression as Empirical Risk Minimization\n",
    "\n",
    "[Last time](30-features-regularization.qmd), we studied the most general form of the empirical risk minimization problem: \n",
    "\n",
    "$$\n",
    "\\begin{aligned}\n",
    "    \\hat{\\vw} = \\argmin_{\\vw} L(\\mathbf{w}) = \\argmin_{\\vw} \\frac{1}{n} \\sum_{i = 1}^n \\ell (\\bracket{\\vw, \\phi(\\vx_i)}, y_i) + \\lambda R(\\vw)\\;. \n",
    "\\end{aligned}\n",
    "$${#eq-regularized-erm}\n",
    "\n",
    "Here, $\\ell$ is the *per-observation loss function*, $\\phi$ is a *feature map*, $R(\\vw)$ is a regularizing term. When studying convexity, we introduced several different choices of $\\ell$, including the 0-1 loss, logistic loss, and hinge loss. \n",
    "\n",
    "Doing linear regression is as simple as choosing a different loss function. The most common choice is the square loss: \n",
    "\n",
    "$$\n",
    "\\begin{aligned}\n",
    "    \\ell(s, y) = (s - y)^2\\;. \n",
    "\\end{aligned}\n",
    "$$\n",
    "\n",
    "::: {.callout-note}\n",
    "\n",
    "Check that this function is convex as a function of $s$! \n",
    "\n",
    ":::\n",
    "\n",
    "\n",
    "With this choice, empirical risk minimization becomes *least-squares linear regression*, with loss function \n",
    "\n",
    "$$\n",
    "\\begin{aligned}\n",
    "    L(\\vw) = \\underbrace{\\frac{1}{n} \\sum_{i = 1}^n (\\bracket{\\vw, \\phi(\\vx_i)} - y_i)^2}_{\\text{mean-squared error}} + \\lambda R(\\vw)\\;. \n",
    "\\end{aligned}\n",
    "$${#eq-least-squares}\n",
    "\n",
    "The first term in this expression is the mean-squared error (MSE). Motivation via the MSE is the most common way that least-squares linear regression is motivated in statistics courses. \n",
    "\n",
    "One can use the second-derivative test to check that the square loss is convex in $s$, which means that all our standard theory from convex risk minimization translates to this setting as well. Gradient descent is one good method to learn the model and find $\\hat{\\vw}$, although there are many other good ways as well. \n",
    "\n",
    "## Matrix-Vector Formulation\n",
    "\n",
    "It is possible to write @eq-least-squares much more simply using matrix-vector notation: [Here, $\\lVert \\mathbv{v} \\rVert_2^2 = \\sum_{i}v_i^2$ is the squared Euclidean norm.]{.aside}\n",
    "\n",
    "$$\n",
    "\\begin{aligned}\n",
    "    L(\\vw) = \\frac{1}{n} \\norm{\\phi(\\mX)\\vw - \\vy}_2^2 + \\lambda R(\\vw)\\;. \n",
    "\\end{aligned}\n",
    "$${#eq-least-squares-matrix}\n",
    "\n",
    "By rules of multivariable differentiation, the gradient of the empirical risk $L(\\vw)$ is [We looked at some gradients for the regularization term $R(\\vw)$ in [previous notes](30-features-regularization.qmd).]{.aside}\n",
    "\n",
    "$$\n",
    "\\nabla L(\\vw) = \\frac{2}{n}\\phi(\\mX)^T(\\phi(\\mX)\\vw - \\vy) + \\lambda \\nabla R(\\vw)\\;.\n",
    "$${#eq-gradient}\n",
    "\n",
    "Using this gradient for a gradient-descent scheme would be a perfectly reasonable way to go about solving a least-squares linear regression problem. \n",
    "\n",
    "### Ridge Regression\n",
    "\n",
    "Suppose for a moment that we choose $R(\\vw) = \\lVert \\vw \\rVert_2^2$, the $\\ell_2$ or *ridge* penalty. [When using this regularizing term, we usually need to assume that, for each feature $j$, $\\sum_{i = 1}^n\\phi_{ij}(\\mX) = 0$. This is called *column centering* and can be achieved simply by subtracting the column mean from each entry of $\\mX$. The reason we need to do this is that it guarantees that the weight of the constant feature is $0$, which ensures that it's not a problem for us to include it in the regularization term $R(\\vw)$. The function `regression_data` from above always produces column-centered data.] \n",
    "In order to make the math work out nicely, it's convenient to assume that $\\lambda = \\Lambda / n$ for some $\\Lambda$. \n",
    "\n",
    "In this case, the empirical risk objective function is \n",
    "\n",
    "$$\n",
    "\\begin{aligned}\n",
    "    L(\\vw) &= \\frac{1}{n}\\left[ \\lVert \\Phi(\\mX) \\vw - \\vy \\rVert_2^2 + \\Lambda \\lVert \\vw\\rVert_2^2 \\right] \\\\\n",
    "           &= \\underbrace{\\frac{1}{n} \\sum_{i = 1}^n (\\bracket{\\vw, \\phi(\\vx_i)} - y_i)^2} + \\frac{\\Lambda}{n} \\sum_{j = 1}^p w_{j}^2  \\;. \n",
    "\\end{aligned}\n",
    "$$\n",
    "\n",
    "The gradient of the loss function is \n",
    "$$\n",
    "\\nabla L(\\vw) = \\frac{2}{n}\\phi(\\mX)^T(\\phi(\\mX)\\vw - \\vy) + 2\\frac{\\Lambda}{n} \\vw\\;.\n",
    "$${#eq-gradient}\n",
    "\n",
    "Unusually in this class, we can actually find the minimum of $L(\\vw)$ using the first-derivative test: we set $\\nabla L(\\hat{\\vw}) = \\vzero$ and solve for $\\hat{\\vw}$. This equation is: \n",
    "\n",
    "$$\n",
    "\\vzero = \\frac{2}{n}\\phi(\\mX)^T(\\phi(\\mX)\\vw - \\vy) + 2\\frac{\\Lambda}{n}  \\vw\\;.\n",
    "$$\n",
    "\n",
    "We can cancel the $\\frac{2}{n}$s and move everything that depends on $\\vw$ to one side of the equation: \n",
    "\n",
    "$$\n",
    "- \\phi(\\mX)^T\\phi(\\mX)\\hat{\\vw} - \\Lambda \\hat{\\vw}  = -\\phi(\\mX)^T\\vy \\;.\n",
    "$$\n",
    "\n",
    "or \n",
    "\n",
    "$$\n",
    "\\left[\\phi(\\mX)^T\\phi(\\mX) + \\Lambda \\mathbf{I} \\right]\\hat{\\vw}  = \\phi(\\mX)^T\\vy \\;.\n",
    "$$\n",
    "\n",
    "This is a matrix-vector equation of the familiar form $\\mathbf{A}\\mathbf{x} = \\mathbf{b}$, where $\\mathbf{A} = \\phi(\\mX)^T\\phi(\\mX) + \\Lambda \\mathbf{I} \\in \\mathbb{R}^{p \\times p}$, $\\mathbf{x} = \\mathbf{w} \\in \\mathbb{R}^{p}$, and $\\mathbf{b} = \\phi(\\mX)^T\\vy \\in \\mathbb{R}^p$. \n",
    "\n",
    "You may remember from linear algebra that this equation has exactly one solution *provided that the matrix $\\mathbf{A} = \\phi(\\mX)^T\\phi(\\mX) + \\Lambda \\mathbf{I}$ has full rank ($p$ linearly independent rows/columns), which implies that it is invertible. This is guaranteed to be the case provided that $\\Lambda > 0$. So, we can invert the matrix and find that the optimal choice of $\\hat{vw}$ is \n",
    "\n",
    "$$\n",
    "\\begin{aligned}\n",
    "    \\hat{\\vw} = \\left[\\phi(\\mX)^T\\phi(\\mX) + \\Lambda \\mathbf{I} \\right]^{-1} \\phi(\\mX)^T\\vy\\;. \n",
    "\\end{aligned}\n",
    "$${#eq-ridge-regression-closed}\n",
    "\n",
    "Let's see this formula in action. We'll start by fitting a model to the linear trend that we saw in the beginning of these notes: "
   ]
  },
  {
   "cell_type": "code",
   "execution_count": null,
   "metadata": {},
   "outputs": [],
   "source": [
    "plot_regression_data(X, y)"
   ]
  },
  {
   "cell_type": "markdown",
   "execution_count": null,
   "metadata": {},
   "outputs": [],
   "source": [
    "Now we can implement @eq-ridge-regression-closed. "
   ]
  },
  {
   "cell_type": "code",
   "execution_count": null,
   "metadata": {},
   "outputs": [],
   "source": []
  },
  {
   "cell_type": "markdown",
   "execution_count": null,
   "metadata": {},
   "outputs": [],
   "source": [
    "To assess the quality of our fit, let's measure the MSE (the unregularized term of the empirical risk): "
   ]
  },
  {
   "cell_type": "code",
   "execution_count": null,
   "metadata": {},
   "outputs": [],
   "source": []
  },
  {
   "cell_type": "markdown",
   "execution_count": null,
   "metadata": {},
   "outputs": [],
   "source": [
    "Training our model is as simple as calling the function we implemented. "
   ]
  },
  {
   "cell_type": "code",
   "execution_count": null,
   "metadata": {},
   "outputs": [],
   "source": []
  },
  {
   "cell_type": "markdown",
   "execution_count": null,
   "metadata": {},
   "outputs": [],
   "source": [
    "How did we do on the test data? "
   ]
  },
  {
   "cell_type": "code",
   "execution_count": null,
   "metadata": {},
   "outputs": [],
   "source": []
  },
  {
   "cell_type": "markdown",
   "execution_count": null,
   "metadata": {},
   "outputs": [],
   "source": [
    "Not bad! The MSE is similar on the training and testing data, suggesting that we have not overfit. \n",
    "\n",
    "The effect of increasing $\\Lambda$ is to reduce the values of the entries $\\hat{\\vw}$. Choosing $\\Lambda$ to be too large can lead to undesirable fits: "
   ]
  },
  {
   "cell_type": "code",
   "execution_count": null,
   "metadata": {},
   "outputs": [],
   "source": []
  },
  {
   "cell_type": "markdown",
   "execution_count": null,
   "metadata": {},
   "outputs": [],
   "source": [
    "## Nonlinear Feature Maps\n",
    "\n",
    "Suppose now that we want to model data with a nonlinear trend: "
   ]
  },
  {
   "cell_type": "code",
   "execution_count": null,
   "metadata": {},
   "outputs": [],
   "source": []
  },
  {
   "cell_type": "markdown",
   "execution_count": null,
   "metadata": {},
   "outputs": [],
   "source": [
    "As usual, we can apply a nonlinear feature map in order to be able to model this nonlinear pattern using techniques from convex linear models. First we'll implement a feature map for our data: "
   ]
  },
  {
   "cell_type": "code",
   "execution_count": null,
   "metadata": {},
   "outputs": [],
   "source": []
  },
  {
   "cell_type": "markdown",
   "execution_count": null,
   "metadata": {},
   "outputs": [],
   "source": [
    "After computing the matrix of features, we can use our some ridge-regression solver from before: "
   ]
  },
  {
   "cell_type": "code",
   "execution_count": null,
   "metadata": {},
   "outputs": [],
   "source": [
    "\n",
    "plot_regression_data(X, y, w = w_hat, phi = phi, title = f\"MSE = {mse(phi(X), y, w_hat):.4f}\")"
   ]
  },
  {
   "cell_type": "markdown",
   "execution_count": null,
   "metadata": {},
   "outputs": [],
   "source": [
    "This looks like it works fine! Choosing polynomial features of too high a degree leads to problems at the boundaries, though: "
   ]
  },
  {
   "cell_type": "code",
   "execution_count": null,
   "metadata": {},
   "outputs": [],
   "source": [
    "pf = PolynomialFeatures(degree = 15)\n",
    "phi = lambda X: torch.Tensor(pf.fit_transform(X))\n",
    "PHI = phi(X)\n",
    "w_hat = ridge_regression(PHI, y, lam = 1)\n",
    "plot_regression_data(X, y, w = w_hat, phi = phi, title = f\"MSE = {mse(phi(X), y, w_hat):.4f}\")"
   ]
  },
  {
   "cell_type": "markdown",
   "execution_count": null,
   "metadata": {},
   "outputs": [],
   "source": [
    "Although we can try to address this problem with further regularization, the results can be hard to predict: "
   ]
  },
  {
   "cell_type": "code",
   "execution_count": null,
   "metadata": {},
   "outputs": [],
   "source": [
    "\n",
    "plot_regression_data(X, y, w = w_hat, phi = phi, title = f\"MSE = {mse(phi(X), y, w_hat):.4f}\")"
   ]
  },
  {
   "cell_type": "markdown",
   "execution_count": null,
   "metadata": {},
   "outputs": [],
   "source": [
    "Hmmm, is that better? \n",
    "\n",
    "\n",
    "\n",
    "Here's a more systematic sweep in which we vary the both the regularization strength $\\lambda$ and the degree of the polynomial features $d$. We fit the model using our ridge regression function above, and then evaluate the MSE on a test set. "
   ]
  },
  {
   "cell_type": "code",
   "execution_count": null,
   "metadata": {},
   "outputs": [],
   "source": [
    "#| code-fold: true\n",
    "\n",
    "# test set\n",
    "X_test, y_test = regression_data(100, w, x_max=2*torch.pi, phi = torch.sin)\n",
    "\n",
    "degrees = [1, 2, 5, 10]\n",
    "LAM     = [0.01, 0.1, 1, 10, 100]\n",
    "\n",
    "fig, ax = plt.subplots(4, 4, figsize = (10, 8))\n",
    "\n",
    "# main loop\n",
    "for i in range(4):\n",
    "    for j in range(4): \n",
    "        pf = PolynomialFeatures(degree = degrees[i])\n",
    "        phi = lambda X: torch.Tensor(pf.fit_transform(X))\n",
    "        PHI = phi(X)\n",
    "        w_hat = ridge_regression(PHI, y, lam = LAM[j])\n",
    "        plot_regression_data(X_test, y_test, w = w_hat, phi = phi, ax = ax[i, j], legend = False, xlabel = i == 3, ylabel = j == 0)\n",
    "        ax[i,j].set(title = fr\"$d = ${degrees[i]}, $\\Lambda = ${LAM[j]}, MSE = {mse(phi(X_test), y_test, w_hat):.4f}\")\n",
    "\n",
    "plt.tight_layout()"
   ]
  },
  {
   "cell_type": "markdown",
   "execution_count": null,
   "metadata": {},
   "outputs": [],
   "source": [
    "We observe that there is a \"happy medium\" for the choice of polynomial degree and regularization strength: degree-5 polynomial features with light regularization seem to perform best on unseen data. In most applications, these hyperparameters are selected using cross-validation. \n",
    "\n",
    "[Regression with polynomial features is not usually advised due to the strange behavior of the predictors at the boundary of the domain, which is on display in several of the plots above. We'll soon study kernel methods, which offer a preferable alternative to polynomial regression.]{.aside} \n",
    "\n",
    "## Computational Complexity\n",
    "\n",
    "Is that all there is to least-squares linear regression? Of course not! \n",
    "\n",
    "### Other Regularizers\n",
    "\n",
    "Not if we use different regularization terms! An especially popular regularizer is the $\\ell_1$ regularizer that we [discussed previous](30-features-regularization.qmd). If we use this regularizer in addition to or instead of the $\\ell_2$ regularization term, then we can't use the closed-form matrix formula above. \n",
    "\n",
    "### Gradient Methods\n",
    "\n",
    "More fundamentally, suppose that we have a *very* large number $p$ of features. The matrix $\\Phi(\\mX)^T\\Phi(\\mX) + \\lambda \\mathbf{I}$ is a $p\\times p$ matrix. The computational cost of *inverting* this matrix is $\\Theta(n^\\gamma)$ for some $\\gamma$ between $2$ and $3$. For sufficiently large $p$, this may simply be infeasible. There are several approaches. \n",
    "\n",
    "To perform **gradient descent** with least-squares linear regression, all we need is a formula for the gradient. @eq-gradient gives this formula -- we just plug in the gradient of the regularizing term and iterate to convergence. \n",
    "\n",
    "Sometimes *even this* is too hard: for sufficiently large $p$, even computing the matrix multiplication $\\Phi(\\mX)^T\\Phi(\\mX)$ required for gradient descent is too computationally intensive. In this case, *stochastic* gradient methods can be used; we'll study these in a coming lecture. \n"
   ]
  }
 ],
 "metadata": {
  "kernelspec": {
   "display_name": "Python 3 (ipykernel)",
   "language": "python",
   "name": "python3"
  }
 },
 "nbformat": 4,
 "nbformat_minor": 4
}
