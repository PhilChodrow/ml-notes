{
 "cells": [
  {
   "cell_type": "markdown",
   "execution_count": null,
   "metadata": {
    "id": "z7s_hnQ2l325"
   },
   "outputs": [],
   "source": [
    "# Deep Image Classification\n",
    "\n",
    "In this set of lecture notes, we'll work through an applied case study of deep learning for image classification. Like [our last adventure with an image classification task](51-vectorization.ipynb), we'll focus on sign-language classification using convolutional kernels. This time, however, we won't take the kernels as given. Instead, we'll attempt to optimize the kernels as part of the learning process.\n",
    "\n",
    "Along the way, we'll also study some of the practicalities of working with larger models in torch, including model inspection, GPU acceleration, and data set management."
   ]
  },
  {
   "cell_type": "code",
   "execution_count": null,
   "metadata": {
    "id": "wBq0PcrEl326"
   },
   "outputs": [],
   "source": [
    "!pip install torchviz\n",
    "import torch\n",
    "import pandas as pd\n",
    "from matplotlib import pyplot as plt\n",
    "import matplotlib.ticker as mtick\n",
    "from torch.nn import Conv2d, MaxPool2d, Parameter\n",
    "from torch.nn.functional import relu\n",
    "from torchviz import make_dot, make_dot_from_trace\n",
    "from torchvision import models\n",
    "from sklearn.metrics import confusion_matrix"
   ]
  },
  {
   "cell_type": "markdown",
   "execution_count": null,
   "metadata": {
    "id": "Zv9my41sVgr5"
   },
   "outputs": [],
   "source": [
    "## A Note On Chips\n",
    "\n",
    "As we've seen from the last several lectures, deep learning models involve a **lot** of linear algebra in order to compute predictions and gradients. This means that deep models, even more than many other machine learning models, strongly benefit from hardware that is good at doing linear algebra *fast*. As it happens, graphics processing units (GPUs) are very, very good at fast linear algebra. [The reason that GPUs are so good at this is that they were originally optimized for rendering complex graphics in e.g. animation and video games, and this involves lots of linear algebra.]{.aside} So, it's very helpful when running our models to have access to GPUs; using a GPU can often result in up to 10x speedups. While some folks can use GPUs on their personal laptops, another common option for learning purposes is to use a cloud-hosted GPU. My personal recommendation is Google Colab, and I'll supply links that allow you to open lecture notes in Colab and use their GPU runtimes.\n",
    "\n",
    "The following torch code checks whether there is a GPU available to Python, and if so, sets a variable called `device` to log this fact. We'll make sure that both our data and our models fully live on the same device when doing model training."
   ]
  },
  {
   "cell_type": "code",
   "execution_count": null,
   "metadata": {
    "colab": {
     "base_uri": "https://localhost:8080/"
    },
    "id": "chk-n7PeVgr5",
    "outputId": "3bed028b-b231-4983-ef62-c1cc793a8c39"
   },
   "outputs": [],
   "source": [
    "\n",
    "device = \"cuda\" if torch.cuda.is_available() else \"cpu\"\n",
    "print(f\"Running on {device}.\")\n"
   ]
  },
  {
   "cell_type": "markdown",
   "execution_count": null,
   "metadata": {
    "id": "0eCvJiMmVgr5"
   },
   "outputs": [],
   "source": [
    "Now let's acquire our data and convert it into a tensor format. We'll continue to work on the [Sign Language MNIST](https://www.kaggle.com/datasets/datamunge/sign-language-mnist) data set, which I retrieved from Kaggle. Our aim is still to train a model that can predict the letter represented by an image of a hand gesture."
   ]
  },
  {
   "cell_type": "code",
   "execution_count": null,
   "metadata": {
    "id": "k4VUxE3RmWK-"
   },
   "outputs": [],
   "source": [
    "train_url = \"https://raw.githubusercontent.com/PhilChodrow/ml-notes/main/data/sign-language-mnist/sign_mnist_train.csv\"\n",
    "test_url = \"https://raw.githubusercontent.com/PhilChodrow/ml-notes/main/data/sign-language-mnist/sign_mnist_test.csv\"\n",
    "\n",
    "df_train = pd.read_csv(train_url)\n",
    "df_val   = pd.read_csv(test_url)\n",
    "\n",
    "def prep_data(df):\n",
    "    n, p = df.shape[0], df.shape[1] - 1\n",
    "    y = torch.tensor(df[\"label\"].values)\n",
    "    X = df.drop([\"label\"], axis = 1)\n",
    "    X = torch.tensor(X.values)\n",
    "    X = torch.reshape(X, (n, 1, 28, 28))\n",
    "    X = X / 255\n",
    "\n",
    "    # important: move the data to GPU if available\n",
    "    X, y = X.to(device), y.to(device)\n",
    "\n",
    "    return X, y\n",
    "\n",
    "X_train, y_train = prep_data(df_train)\n",
    "X_val, y_val     = prep_data(df_val)"
   ]
  },
  {
   "cell_type": "markdown",
   "execution_count": null,
   "metadata": {
    "id": "sqZiTg7GVgr5"
   },
   "outputs": [],
   "source": [
    "Like last time, our data is essentially a big stack of images:"
   ]
  },
  {
   "cell_type": "code",
   "execution_count": null,
   "metadata": {
    "colab": {
     "base_uri": "https://localhost:8080/"
    },
    "id": "yNSzFLzmVgr5",
    "outputId": "6c3978d6-74ae-4c56-fb8e-60fcf38fb0cc"
   },
   "outputs": [],
   "source": [
    "X_train.size() # (num_images, num_color_channels, num_vertical_pixels, num_horizontal_pixels)"
   ]
  },
  {
   "cell_type": "markdown",
   "execution_count": null,
   "metadata": {
    "id": "IofFHQsxVgr5"
   },
   "outputs": [],
   "source": [
    "Here are a few excerpts from the data."
   ]
  },
  {
   "cell_type": "code",
   "execution_count": null,
   "metadata": {
    "colab": {
     "base_uri": "https://localhost:8080/",
     "height": 1000
    },
    "id": "XYMpmt6Ql327",
    "outputId": "4f1952c8-85b7-4e71-c81c-4483d82f759b"
   },
   "outputs": [],
   "source": [
    "ALPHABET = \"ABCDEFGHIJKLMNOPQRSTUVWXYZ\"\n",
    "\n",
    "def show_images(X, y, rows, cols, channel = 0):\n",
    "\n",
    "    fig, axarr = plt.subplots(rows, cols, figsize = (2*cols, 2*rows))\n",
    "    for i, ax in enumerate(axarr.ravel()):\n",
    "        ax.imshow(X[i, channel].detach().cpu(), cmap = \"Greys_r\")\n",
    "        ax.set(title = f\"{ALPHABET[y[i]]}\")\n",
    "        ax.axis(\"off\")\n",
    "    plt.tight_layout()\n",
    "\n",
    "show_images(X_train, y_train, 5, 5)"
   ]
  },
  {
   "cell_type": "markdown",
   "execution_count": null,
   "metadata": {
    "id": "n_XN06nDVgr5"
   },
   "outputs": [],
   "source": [
    "## Data Loaders\n",
    "\n",
    "A *data loader* is an iterator that allows us to retrieve small pieces (\"batches\") of the data set. This is very convenient for stochastic gradient descent -- we get the piece of the data that we want, compute the loss, compute the gradients, take an optimization step, and then get the next piece of data. Let's put both our training and validation sets into data loaders."
   ]
  },
  {
   "cell_type": "code",
   "execution_count": null,
   "metadata": {
    "id": "_h7FmTtbl327"
   },
   "outputs": [],
   "source": [
    "data_loader_train = torch.utils.data.DataLoader(\n",
    "    torch.utils.data.TensorDataset(X_train, y_train),\n",
    "    batch_size = 32,\n",
    "    shuffle = True\n",
    ")\n",
    "\n",
    "data_loader_val = torch.utils.data.DataLoader(\n",
    "    torch.utils.data.TensorDataset(X_val, y_val),\n",
    "    batch_size = 32,\n",
    "    shuffle = True\n",
    ")"
   ]
  },
  {
   "cell_type": "markdown",
   "execution_count": null,
   "metadata": {
    "id": "2e35sqBiVgr6"
   },
   "outputs": [],
   "source": [
    "Here's an example of retrieving a batch of training data from the training data loader:"
   ]
  },
  {
   "cell_type": "code",
   "execution_count": null,
   "metadata": {
    "colab": {
     "base_uri": "https://localhost:8080/"
    },
    "id": "RFxuJrsPVgr6",
    "outputId": "1b9b70ff-bd72-40e9-ab63-87cfea1991b6"
   },
   "outputs": [],
   "source": [
    "X, y = next(iter(data_loader_train))\n",
    "print(X.size(), y.size())"
   ]
  },
  {
   "cell_type": "markdown",
   "execution_count": null,
   "metadata": {
    "id": "X3oNCwFiVgr6"
   },
   "outputs": [],
   "source": [
    "We most frequently work with data loaders via loops:\n",
    "\n",
    "```python\n",
    "for X, y in data_loader_train:\n",
    "    #...\n",
    "```\n",
    "\n",
    "An additional benefit of data loaders is that they can perform arbitrary operations in order to return data batches, including reading files from disk. So, if your overall data set is too large to hold in memory, you can write a custom data loader that reads in a batch of files, operates on them in some way, and returns the result to you as a tensor."
   ]
  },
  {
   "cell_type": "markdown",
   "execution_count": null,
   "metadata": {
    "id": "YzTbZ-5il327"
   },
   "outputs": [],
   "source": [
    "### Interlude: Multiclass Classification\n",
    "\n",
    "We're actually now making our first formal study of a multiclass classification problem, in which we are trying to distinguish data observations into more than two possible categories. Whereas before we didn't really comment on the specific structure of this problem, here we need to build up a model from scratch and therefore need to understand how it works!\n",
    "\n",
    "Typically, classification models return a score *for each class*. Then, the class with the highest score is usually considered to be the model's prediction. This means that the score function should actually return a *vector* of scores for each data observation.\n",
    "\n",
    "In order to make this happen for a single-layer model, we move from a matrix-vector multiplication $\\mathbf{X}\\mathbf{w}$ to a matrix-matrix multiplication $\\mathbf{X}\\mathbf{W}$, where $\\mathbf{W} \\in \\mathbb{R}^{p \\times r}$ has number of rows equal to the number of features and number of columns equal to the number of classes.\n",
    "\n",
    "More generally, we can define our model in any way we like, as long as it returns a vector of scores for each data observation.\n",
    "\n",
    "It is also necessary to modify the loss function for classification models. Instead of the binary cross entropy, we need to define a multiclass generalization. The most common choice of per-observation loss function between a vector of class scores $\\mathbf{s} \\in \\mathbb{R}^r$ and the true label $y_i$ is\n",
    "\n",
    "$$\n",
    "\\ell(\\mathbf{s}_i, y_i) = \\sum_{j = 1}^r \\mathbb{1}[y_i = j]\\log\\left(\\frac{e^{s_{ij}}}{\\sum_{k = 1}^r e^{s_{ik}}}\\right)\n",
    "$$\n",
    "\n",
    "The function\n",
    "\n",
    "$$\n",
    "\\mathrm{softmax}(\\mathbf{s}) = \\left(\\begin{matrix}\n",
    "    \\frac{e^{s_1}}{\\sum_{j = 1}^r e^{s_j}} \\\\\n",
    "    \\frac{e^{s_2}}{\\sum_{j = 1}^r e^{s_j}} \\\\\n",
    "    \\vdots \\\\\n",
    "    \\frac{e^{s_r}}{\\sum_{j = 1}^r e^{s_j}}\n",
    "    \\end{matrix}\\right)\n",
    "$$\n",
    "\n",
    "is a generalization of the logistic sigmoid function to the multiclass setting. It is called the softmax function because it has a tendency to accentuate the largest value in the vector $\\mathbf{s}$. With this notation, we can write the cross-entropy loss as\n",
    "\n",
    "$$\n",
    "\\ell(\\mathbf{s}_i, y_i) = \\sum_{j = 1}^r \\mathbb{1}[y_i = j]\\log \\mathrm{softmax}(\\mathbf{s}_i)_j\\;.\n",
    "$$\n",
    "\n",
    "Summing the per-observation loss over all data points gives the empirical risk to be minimized.\n",
    "\n",
    "## A First Linear Model\n",
    "\n",
    "Let's implement a linear model with the multiclass cross entropy. This first model is equivalent to multiclass logistic regression.\n"
   ]
  },
  {
   "cell_type": "code",
   "execution_count": null,
   "metadata": {
    "id": "cWns5Co4l327"
   },
   "outputs": [],
   "source": [
    "import torch.nn as nn\n",
    "import torch.nn.functional as F\n",
    "\n",
    "class LinearModel(nn.Module):\n",
    "    def __init__(self):\n",
    "        super().__init__()\n",
    "\n",
    "        self.pipeline = nn.Sequential(\n",
    "            nn.Flatten(),\n",
    "            nn.Linear(28*28, 26)\n",
    "        )\n",
    "\n",
    "    # this is the customary name for the method that computes the scores\n",
    "    # the loss is usually computed outside the model class during the training loop\n",
    "    def forward(self, x):\n",
    "        return self.pipeline(x)\n",
    "\n",
    "    def predict(self, x):\n",
    "\n",
    "        scores = self.forward(x)\n",
    "        return torch.argmax(scores, dim = 1)\n",
    "\n",
    "model = LinearModel().to(device)"
   ]
  },
  {
   "cell_type": "markdown",
   "execution_count": null,
   "metadata": {
    "id": "6oH7DdVal328"
   },
   "outputs": [],
   "source": [
    "The `forward` method computes a matrix of scores. Each row of this matrix gives the scores for a single observation:"
   ]
  },
  {
   "cell_type": "code",
   "execution_count": null,
   "metadata": {
    "colab": {
     "base_uri": "https://localhost:8080/"
    },
    "id": "Mekmhbnnl328",
    "outputId": "e4157fe5-b848-4e91-b258-69ade2f58ed1"
   },
   "outputs": [],
   "source": [
    "scores = model(X_train)\n",
    "scores"
   ]
  },
  {
   "cell_type": "markdown",
   "execution_count": null,
   "metadata": {
    "id": "Ayk8nwPnl328"
   },
   "outputs": [],
   "source": [
    "The `predict` method just computes these scores and returns the column index of the largest score in each column."
   ]
  },
  {
   "cell_type": "code",
   "execution_count": null,
   "metadata": {
    "colab": {
     "base_uri": "https://localhost:8080/"
    },
    "id": "dZA2oI7Qmj4O",
    "outputId": "c8b2855e-c7db-4245-818a-59092fda9f8f"
   },
   "outputs": [],
   "source": [
    "torch.argmax(scores, dim = 1) # indices of predicted letters"
   ]
  },
  {
   "cell_type": "markdown",
   "execution_count": null,
   "metadata": {
    "id": "eqZzdF39l328"
   },
   "outputs": [],
   "source": [
    "It's very useful to get in the habit of *inspecting* your models in order to understand how they are organized and how many parameters need to be trained. One convenient way to do this is with the `summary` function provided by the `torchsummary` package. This function requires that we input the dimensions of a single observation:"
   ]
  },
  {
   "cell_type": "code",
   "execution_count": null,
   "metadata": {
    "colab": {
     "base_uri": "https://localhost:8080/"
    },
    "id": "i8e6340Pl328",
    "outputId": "159eb1be-5876-46f2-c648-2394a74b6147"
   },
   "outputs": [],
   "source": [
    "from torchsummary import summary\n",
    "summary(model, input_size=(1, 28, 28))"
   ]
  },
  {
   "cell_type": "markdown",
   "execution_count": null,
   "metadata": {
    "id": "vclUnL6sWHRE"
   },
   "outputs": [],
   "source": [
    "Even this simple multiclass logistic model has over 20,000 parameters to train! Note that the output shape matches the number of possible class labels in the data.\n",
    "\n",
    "\n",
    "It can also be useful to visualize the computational graph that torch constructs from the computation. Doing this requires computing the loss once in order to assemble the computational graph."
   ]
  },
  {
   "cell_type": "code",
   "execution_count": null,
   "metadata": {
    "colab": {
     "base_uri": "https://localhost:8080/",
     "height": 542
    },
    "id": "PZdrdZCcVgr6",
    "outputId": "0df858c0-726b-4e4f-a766-1b69463fea93"
   },
   "outputs": [],
   "source": [
    "loss_fn = nn.CrossEntropyLoss()\n",
    "loss = loss_fn(scores, y_train)\n",
    "make_dot(loss, params=dict(model.named_parameters()))"
   ]
  },
  {
   "cell_type": "markdown",
   "execution_count": null,
   "metadata": {
    "id": "as-o5lrhl328"
   },
   "outputs": [],
   "source": [
    "Before we start training, let's implement a function to evaluate the model on validation data."
   ]
  },
  {
   "cell_type": "code",
   "execution_count": null,
   "metadata": {
    "id": "L-gH-qBLl328"
   },
   "outputs": [],
   "source": [
    "def evaluate(model, multichannel = True):\n",
    "\n",
    "    # count the number of total observations and correct predictions\n",
    "    total = 0\n",
    "    total_correct = 0\n",
    "\n",
    "    # loop through the data loader\n",
    "    for X, y in data_loader_val:\n",
    "\n",
    "        # used for evaluating ImageNet later\n",
    "        if multichannel:\n",
    "            X = torch.tile(X, dims = (1, 3, 1, 1))\n",
    "\n",
    "        # move the data to the device (ideally, to gpu)\n",
    "        X, y = X.to(device), y.to(device)\n",
    "\n",
    "        # compute the predictions\n",
    "        scores = model.forward(X)\n",
    "        y_pred =  torch.argmax(scores, dim = 1)\n",
    "\n",
    "        # update the total and the number of correct predictions\n",
    "        total += X.size(0)\n",
    "        total_correct += (y_pred == y).sum().item()\n",
    "\n",
    "    print(f\"validation accuracy = {total_correct / total:.3f}\")"
   ]
  },
  {
   "cell_type": "code",
   "execution_count": null,
   "metadata": {
    "colab": {
     "base_uri": "https://localhost:8080/"
    },
    "id": "aEFysILBVgr6",
    "outputId": "1ed10e84-801a-41de-a3e3-9b05fefcd50a"
   },
   "outputs": [],
   "source": [
    "evaluate(model)"
   ]
  },
  {
   "cell_type": "markdown",
   "execution_count": null,
   "metadata": {
    "id": "aCikIwO8Vgr6"
   },
   "outputs": [],
   "source": [
    "\n",
    "Obviously our model does not do very well on the validation data, since it's not trained yet.\n",
    "\n",
    "Let's therefore implement a simple training loop. This loop will include provisions to train the model while also calling the previous function to update us on the  accuracy on the validation set."
   ]
  },
  {
   "cell_type": "code",
   "execution_count": null,
   "metadata": {
    "id": "Vk6yn33eVgr6"
   },
   "outputs": [],
   "source": [
    "import torch.optim as optim\n",
    "def train(model, k_epochs = 1, print_every = 2000, evaluate_after_epoch = True, multichannel = False, **opt_kwargs):\n",
    "\n",
    "    # loss function is cross-entropy (multiclass logistic)\n",
    "    loss_fn = nn.CrossEntropyLoss()\n",
    "\n",
    "    # optimizer is SGD with momentum\n",
    "    optimizer = optim.SGD(model.parameters(), **opt_kwargs)\n",
    "\n",
    "    for epoch in range(k_epochs):\n",
    "        for i, data in enumerate(data_loader_train):\n",
    "            X, y = data\n",
    "            if multichannel:\n",
    "                X = torch.tile(X, dims = (1, 3, 1, 1))\n",
    "            X, y = X.to(device), y.to(device)\n",
    "\n",
    "            # clear any accumulated gradients\n",
    "            optimizer.zero_grad()\n",
    "\n",
    "            # compute the loss\n",
    "            y_pred = model(X)\n",
    "            loss   = loss_fn(y_pred, y)\n",
    "\n",
    "            # compute gradients and carry out an optimization step\n",
    "            loss.backward()\n",
    "            optimizer.step()\n",
    "\n",
    "            if (i + 1) % print_every == 0:\n",
    "                print(f\"Epoch {epoch}, batch {i:>3}, loss on batch: {loss.item():.3f}\")\n",
    "\n",
    "        if evaluate_after_epoch:\n",
    "            print(f\"Epoch {epoch}: \", end = \"\")\n",
    "            evaluate(model)"
   ]
  },
  {
   "cell_type": "markdown",
   "execution_count": null,
   "metadata": {
    "id": "DjR048OY53Ms"
   },
   "outputs": [],
   "source": [
    "Now we can go ahead and train our model."
   ]
  },
  {
   "cell_type": "code",
   "execution_count": null,
   "metadata": {
    "colab": {
     "base_uri": "https://localhost:8080/"
    },
    "id": "xoDFkdg1l328",
    "outputId": "4c01cdc9-7876-4825-b36e-52c6cd8ca835"
   },
   "outputs": [],
   "source": [
    "train(model, k_epochs = 30, lr = 0.001, evaluate_after_epoch = True)"
   ]
  },
  {
   "cell_type": "markdown",
   "execution_count": null,
   "metadata": {
    "id": "HeXMrLglWvNb"
   },
   "outputs": [],
   "source": [
    "This model is able to achieve accuracy much better than random chance, and would likely improve even more if we allowed it more training epochs."
   ]
  },
  {
   "cell_type": "markdown",
   "execution_count": null,
   "metadata": {
    "id": "RK5rfVCll328"
   },
   "outputs": [],
   "source": [
    "## Convolutional Models\n",
    "\n",
    "Our favorite logistic regression is a great algorithm, but there is lots of room to improve! Last time we studied this data set, we used convolutional kernels extract more helpful features from the data before finally plugging those features into a logistic regression model. Convolutional kernels offer structured transformations that can accentuate certain features of images:\n",
    "\n",
    "![](https://d2l.ai/_images/correlation.svg)\n",
    "\n",
    "*Image from [Dive Into Deep Learning](https://d2l.ai/chapter_convolutional-neural-networks/conv-layer.html)*\n",
    "\n",
    "We sandwiched those convolutional layers between pooling and ReLU activation layers. This time, instead of treating these kernels as given, we are going to learn them as part of the optimization routine.\n",
    "\n",
    "*Starting from this point in the notes, it is strongly recommended to run this code with a GPU available, such as in Google Colab*."
   ]
  },
  {
   "cell_type": "code",
   "execution_count": null,
   "metadata": {
    "id": "mbhGa_MfVgr7"
   },
   "outputs": [],
   "source": [
    "import torch.nn as nn\n",
    "from  torch.nn import ReLU\n",
    "\n"
   ]
  },
  {
   "cell_type": "markdown",
   "execution_count": null,
   "metadata": {
    "id": "vNR75TQHl329"
   },
   "outputs": [],
   "source": [
    "What does this model look like?"
   ]
  },
  {
   "cell_type": "code",
   "execution_count": null,
   "metadata": {
    "colab": {
     "base_uri": "https://localhost:8080/"
    },
    "id": "AZDWl0gXl329",
    "outputId": "413f5e5e-8394-425c-970e-0013770958fb"
   },
   "outputs": [],
   "source": []
  },
  {
   "cell_type": "markdown",
   "execution_count": null,
   "metadata": {
    "id": "4yrIpzEJX3Zc"
   },
   "outputs": [],
   "source": [
    "The computational graph for this model is much more complex."
   ]
  },
  {
   "cell_type": "code",
   "execution_count": null,
   "metadata": {
    "colab": {
     "base_uri": "https://localhost:8080/",
     "height": 1000
    },
    "id": "IXpnc_rnXV-U",
    "outputId": "6a2e8a36-9c4e-4643-cdb8-c86d715aecc0"
   },
   "outputs": [],
   "source": []
  },
  {
   "cell_type": "markdown",
   "execution_count": null,
   "metadata": {
    "id": "iCHyn5VUl329"
   },
   "outputs": [],
   "source": [
    "This model has (many) more parameters than the logistic regression model. The increased depth, as well as the use of convolutional layers, give it *potential* to usefully leverage the spatial structure of the predictor data.\n",
    "\n",
    "Let's see how it does! Note that the following experiment may not be reproducible; nonconvexity of the empirical risk means that the results we achieve may depend strongly on the initial guess for the parameters used by the optimizer."
   ]
  },
  {
   "cell_type": "code",
   "execution_count": null,
   "metadata": {
    "colab": {
     "base_uri": "https://localhost:8080/"
    },
    "id": "mv4Jzpcol329",
    "outputId": "90e58bde-c544-4d5d-c9cc-365d8259fc3a"
   },
   "outputs": [],
   "source": []
  },
  {
   "cell_type": "markdown",
   "execution_count": null,
   "metadata": {
    "id": "3HThXP6cVgr7"
   },
   "outputs": [],
   "source": [
    "Although this model takes *much* longer to complete a single epoch, it is also able to achieve much higher validation accuracy than the pure logistic regression model (which, as you'll recall from our previous work on this data set, leveled out around 67%)."
   ]
  },
  {
   "cell_type": "markdown",
   "execution_count": null,
   "metadata": {
    "id": "X8Aa-tWUY1h6"
   },
   "outputs": [],
   "source": [
    "## Transfer Learning\n",
    "\n",
    "*Transfer learning* is a fancy phrase describing the simple technique of using a pre-existing model and tweaking it slightly to be suitable for your task. This is most frequently done with largescale models that couldn't practically be fully trained on the available computing power. The theory is that a large, powerful model for e.g. image classification on some general image classification data set may have learned a useful set of hidden features that may have generic utility for other image classification tasks.\n",
    "\n",
    "Let's use `ImageNet`, a well-known class of models trained for image classification tasks. `torch.models` allows you to easily create an instance of an ImageNet model:\n"
   ]
  },
  {
   "cell_type": "code",
   "execution_count": null,
   "metadata": {
    "id": "OYMsmeeRbxvU"
   },
   "outputs": [],
   "source": []
  },
  {
   "cell_type": "markdown",
   "execution_count": null,
   "metadata": {
    "id": "Ua1wmQ86gZdP"
   },
   "outputs": [],
   "source": [
    "Let's take a look at the structure of this model. Note that the input shape is `(3, 28, 28)` because `ImageNet` is trained on color images with three RGB color channels."
   ]
  },
  {
   "cell_type": "code",
   "execution_count": null,
   "metadata": {
    "colab": {
     "base_uri": "https://localhost:8080/"
    },
    "id": "XSfmmpqtgbU7",
    "outputId": "75a55380-92f7-45ef-e396-71aec1f5423f"
   },
   "outputs": [],
   "source": []
  },
  {
   "cell_type": "markdown",
   "execution_count": null,
   "metadata": {
    "id": "MT6Hbro92qDs"
   },
   "outputs": [],
   "source": [
    "You may notice a problem: this model is trained to classify images into one of 1000 categories, but we only have 26! This means that we need to modify the output layer. Fortunately, this is not hard to do. The output layer in `ImageNet` has name `fc`, and we can simply swap it out for a different output layer with the correct number of outputs."
   ]
  },
  {
   "cell_type": "code",
   "execution_count": null,
   "metadata": {
    "id": "DIXiOQn92mDu"
   },
   "outputs": [],
   "source": []
  },
  {
   "cell_type": "markdown",
   "execution_count": null,
   "metadata": {
    "id": "VhLpmDM028Wx"
   },
   "outputs": [],
   "source": [
    "If we check our model again, we'll see that we now have the right number of outputs:"
   ]
  },
  {
   "cell_type": "code",
   "execution_count": null,
   "metadata": {
    "colab": {
     "base_uri": "https://localhost:8080/"
    },
    "id": "2k00jitB2_Mb",
    "outputId": "c08d031f-ef5f-4606-d86c-00914ddc2c4b"
   },
   "outputs": [],
   "source": []
  },
  {
   "cell_type": "markdown",
   "execution_count": null,
   "metadata": {
    "id": "bg6DzEMs3Gy2"
   },
   "outputs": [],
   "source": [
    "Now we are ready to train our adapted `ImageNet` model for our task. Let's see how we do in just two epochs:  "
   ]
  },
  {
   "cell_type": "code",
   "execution_count": null,
   "metadata": {
    "colab": {
     "base_uri": "https://localhost:8080/"
    },
    "id": "6phWrXOfzkt_",
    "outputId": "82dfe46d-cc9b-4259-eb9e-9aedb9a3a58f"
   },
   "outputs": [],
   "source": []
  },
  {
   "cell_type": "markdown",
   "execution_count": null,
   "metadata": {
    "id": "Rl1DW4tI3VDE"
   },
   "outputs": [],
   "source": [
    "After just two epochs, we have achieved much higher accuracy on our sign-language classification task than we achieved using any of our previous methods. This is because `ImageNet` is a much more expressive model with a complex architecture and a higher parameter count. Fortunately, however, we didn't have to fully train the model from scratch; we were able to just tweak the model a little bit to customize it for our specific task.\n",
    "\n",
    "There is another variant of transfer learning in which we fix the parameters at the base layers and then only train the parameters in the output layer. This approach can be effective and can be quick to train, but also may perform worse than approaches that modify all the model parameters. We can implement this approach by first downloading a \"clean\" version of `ImageNet`. Then, we'll set the `requires_grad` attribute of each parameter tensor to `False`; this will cause these layers not to be updated during optimization. This approach is often called *fine-tuning*."
   ]
  },
  {
   "cell_type": "code",
   "execution_count": null,
   "metadata": {
    "id": "z8pPeYZe0umr"
   },
   "outputs": [],
   "source": []
  },
  {
   "cell_type": "code",
   "execution_count": null,
   "metadata": {
    "colab": {
     "base_uri": "https://localhost:8080/"
    },
    "id": "7K4MNXeo1Dux",
    "outputId": "ecdcd5da-c0a1-4d91-9ce0-149fada07248"
   },
   "outputs": [],
   "source": []
  },
  {
   "cell_type": "markdown",
   "execution_count": null,
   "metadata": {
    "id": "66nUjhdC4Jn8"
   },
   "outputs": [],
   "source": [
    "Note that, although we have the same number of parameters as before, the number of *trainable* parameters is much smaller. This leads to somewhat faster training, albeit with much less impressive results in the validation set. Fine-tuning the final several layers, rather than just the single output layer, may lead to improved performance."
   ]
  },
  {
   "cell_type": "code",
   "execution_count": null,
   "metadata": {
    "colab": {
     "base_uri": "https://localhost:8080/"
    },
    "id": "G1WNETgw1FtH",
    "outputId": "224764ad-43bf-4b18-adb7-4d12a03b80b4"
   },
   "outputs": [],
   "source": []
  },
  {
   "cell_type": "markdown",
   "execution_count": null,
   "metadata": {
    "id": "qxQxEYurVgr7"
   },
   "outputs": [],
   "source": [
    "## Other Considerations\n",
    "\n",
    "We'll highlight two practical considerations that frequently come up when working with image classification models.\n",
    "\n",
    "### Data Augmentation\n",
    "\n",
    "One very standard technique for improving the ability of image classification models to generalize is to perform *data augmentation*. Data augmentation creates \"new\" data by applying simple transformations to the input images. For example, one kind of data augmentation is to *rotate* the image by a small amount.\n",
    "\n",
    "[You can learn more about Torch's data augmentation capabilities in [the documentation](https://pytorch.org/vision/stable/transforms.html)]{.aside}.\n",
    "\n",
    "Here is an example of applying a data augmentation pipeline to an image. The result is a sequence of new images, which would be reasonably expected to have the same true class label as the original."
   ]
  },
  {
   "cell_type": "code",
   "execution_count": null,
   "metadata": {
    "colab": {
     "base_uri": "https://localhost:8080/",
     "height": 407
    },
    "id": "vkn_JDflVgr7",
    "outputId": "aa6d1423-96c2-47b0-9aa4-f820133f01f3"
   },
   "outputs": [],
   "source": [
    "from torchvision.transforms import v2\n",
    "transforms = v2.Compose([\n",
    "    v2.RandomResizedCrop(size=(24, 24), antialias=True),\n",
    "    v2.RandomHorizontalFlip(p=0.5)\n",
    "    ])\n",
    "\n",
    "cols = 5\n",
    "rows = 2\n",
    "ix = 0\n",
    "\n",
    "fig, axarr = plt.subplots(rows, cols, figsize = (2*cols, 2*rows))\n",
    "for i, ax in enumerate(axarr.ravel()):\n",
    "    transformed = transforms(X_train[ix])\n",
    "    ax.imshow(transformed.detach().cpu()[0], cmap = \"Greys_r\")\n",
    "    ax.axis(\"off\")\n",
    "plt.tight_layout()"
   ]
  },
  {
   "cell_type": "markdown",
   "execution_count": null,
   "metadata": {
    "id": "KmKEa0Kq4sZN"
   },
   "outputs": [],
   "source": [
    "Incorporating these \"new\" images as part of the training set could potentially allow models to learn more complex patterns, including the idea that an image which has been flipped or rotated is still representative of the same concept."
   ]
  },
  {
   "cell_type": "markdown",
   "execution_count": null,
   "metadata": {
    "id": "bXznTglFVgr8"
   },
   "outputs": [],
   "source": [
    "### Data Loaders from Directories\n",
    "\n",
    "As mentioned above, it can be very helpful to use data loaders to manage the process of reading in data and passing it to your model. This is especially helpful in the case that your data set is too large to fit in RAM; the data loader can read the data from disk and pass it to the model, without ever needing to fit the entirety of data in RAM. You can learn much more about how Torch manages data sets and data loaders in [the docs](https://pytorch.org/docs/stable/data.html#loading-batched-and-non-batched-data)."
   ]
  }
 ],
 "metadata": {
  "accelerator": "GPU",
  "colab": {
   "gpuType": "T4",
   "provenance": []
  },
  "kernelspec": {
   "display_name": "Python 3",
   "name": "python3"
  },
  "language_info": {
   "codemirror_mode": {
    "name": "ipython",
    "version": 3
   },
   "file_extension": ".py",
   "mimetype": "text/x-python",
   "name": "python",
   "nbconvert_exporter": "python",
   "pygments_lexer": "ipython3",
   "version": "3.9.undefined"
  }
 },
 "nbformat": 4,
 "nbformat_minor": 0
}
