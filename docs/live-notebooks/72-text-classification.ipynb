{
 "cells": [
  {
   "cell_type": "raw",
   "execution_count": null,
   "metadata": {},
   "outputs": [],
   "source": [
    "---\n",
    "title: |\n",
    "  Text Classification and Word Embedding\n",
    "author: Phil Chodrow\n",
    "bibliography: ../refs.bib\n",
    "format: \n",
    "  html: \n",
    "    code-fold: false\n",
    "    cache: true\n",
    "    callout-appearance: minimal\n",
    "    cap-location: margin\n",
    "---"
   ]
  },
  {
   "cell_type": "markdown",
   "execution_count": null,
   "metadata": {
    "id": "qiYn6e_yQkcs"
   },
   "outputs": [],
   "source": [
    "\n",
    "*Major components of this set of lecture notes are based on the [Text Classification](https://pytorch.org/tutorials/beginner/text_sentiment_ngrams_tutorial.html) tutorial from the PyTorch documentation*. \n",
    "\n",
    "## Deep Text Classification and Word Embedding\n",
    "\n",
    "In this set of notes, we'll discuss the problem of *text classification*. Text classification is a common problem in which we aim to classify pieces of text into different categories. These categories might be about:\n",
    "\n",
    "- **Subject matter**: is this news article about news, fashion, finance?\n",
    "- **Emotional valence**: is this tweet happy or sad? Excited or calm? This particular class of questions is so important that it has its own name: sentiment analysis.\n",
    "- **Automated content moderation**: is this Facebook comment a possible instance of abuse or harassment? Is this Reddit thread promoting violence? Is this email spam?\n",
    "\n",
    "We saw text classification previously when we first considered the problem of vectorizing pieces of text. We are now going to look at a somewhat more contemporary approach to text using *word embeddings*. \n"
   ]
  },
  {
   "cell_type": "code",
   "execution_count": null,
   "metadata": {
    "id": "6ehlyVuF5k9Z"
   },
   "outputs": [],
   "source": [
    "import torch\n",
    "import pandas as pd\n",
    "from torchinfo import summary\n",
    "\n",
    "import numpy as np\n",
    "\n",
    "# for embedding visualization later\n",
    "import plotly.express as px \n",
    "import plotly.io as pio\n",
    "\n",
    "# import plotly.io as pio\n",
    "# pio.renderers.default = \"notebook\"\n",
    "\n",
    "# for VSCode plotly rendering\n",
    "pio.renderers.default = \"notebook\"\n",
    "\n",
    "# for appearance\n",
    "pio.templates.default = \"plotly_white\"\n",
    "\n",
    "# for train-test split\n",
    "from sklearn.model_selection import train_test_split\n",
    "\n",
    "# for suppressing bugged warnings from torchinfo\n",
    "import warnings \n",
    "warnings.filterwarnings(\"ignore\", category = UserWarning)\n",
    "\n",
    "device = torch.device(\"cuda\" if torch.cuda.is_available() else \"cpu\")"
   ]
  },
  {
   "cell_type": "markdown",
   "execution_count": null,
   "metadata": {
    "id": "v4-XX3OeRqDy"
   },
   "outputs": [],
   "source": [
    "For this example, we are going to use a data set containing headlines from a large number of different news articles on the website [HuffPost](https://www.huffpost.com/). I retrieved this data [from Kaggle](https://www.kaggle.com/rmisra/news-category-dataset). "
   ]
  },
  {
   "cell_type": "code",
   "execution_count": null,
   "metadata": {
    "id": "WBL5qxsfRjNU"
   },
   "outputs": [],
   "source": [
    "# access the data\n",
    "url = \"https://raw.githubusercontent.com/PhilChodrow/PIC16B/master/datasets/news/News_Category_Dataset_v2.json\"\n",
    "df  = pd.read_json(url, lines=True)\n",
    "df  = df[[\"category\", \"headline\"]]"
   ]
  },
  {
   "cell_type": "markdown",
   "execution_count": null,
   "metadata": {
    "id": "z9HZozyjRtJS"
   },
   "outputs": [],
   "source": [
    "There are over 200,000 headlines listed here, along with the category in which they appeared on the website.\n"
   ]
  },
  {
   "cell_type": "code",
   "execution_count": null,
   "metadata": {
    "colab": {
     "base_uri": "https://localhost:8080/",
     "height": 206
    },
    "id": "oPXnkwyg6Isx",
    "outputId": "c8fa6b07-8747-4891-b540-2fc6b05282ab"
   },
   "outputs": [],
   "source": []
  },
  {
   "cell_type": "markdown",
   "execution_count": null,
   "metadata": {
    "id": "u2ra_NceRvjX"
   },
   "outputs": [],
   "source": [
    "Our task will be to teach an algorithm to classify headlines by predicting the category based on the text of the headline. \n",
    "\n",
    "Training a model on this much text data can require a lot of time, so we are going to simplify the problem a little bit, by reducing the number of categories. Let's take a look at which categories we have: "
   ]
  },
  {
   "cell_type": "code",
   "execution_count": null,
   "metadata": {
    "colab": {
     "base_uri": "https://localhost:8080/"
    },
    "id": "YNYPjmAt6URy",
    "outputId": "d7ec91ee-32e5-4e2c-f792-89c29f9a1689"
   },
   "outputs": [],
   "source": []
  },
  {
   "cell_type": "markdown",
   "execution_count": null,
   "metadata": {
    "id": "s6Q7aVwoR0Mj"
   },
   "outputs": [],
   "source": [
    "Some of these categories are a little odd:\n",
    "\n",
    "- \"Women\"? \n",
    "- \"Weird News\"? \n",
    "- What's the difference between \"Style,\" \"Style & Beauty,\" and \"Taste\"? ). \n",
    "- \"Parenting\" vs. \"Parents\"? \n",
    "- Etc?...\n",
    "\n",
    "Well, there are definitely some questions here! Let's just choose a few categories, and discard the rest. We're going to give each of the categories an integer that we'll use to encode the category in the target variable. "
   ]
  },
  {
   "cell_type": "code",
   "execution_count": null,
   "metadata": {
    "colab": {
     "base_uri": "https://localhost:8080/",
     "height": 206
    },
    "id": "fDALcby56ZTm",
    "outputId": "e8ce4efc-1c46-4c9f-a282-1293f662bc99"
   },
   "outputs": [],
   "source": [
    "categories = {\n",
    "    \"STYLE\"   : 0,\n",
    "    \"SCIENCE\" : 1, \n",
    "    \"TECH\" : 2\n",
    "}\n",
    "\n",
    "df = df[df[\"category\"].apply(lambda x: x in categories.keys())]\n",
    "df.head()"
   ]
  },
  {
   "cell_type": "code",
   "execution_count": null,
   "metadata": {
    "colab": {
     "base_uri": "https://localhost:8080/",
     "height": 550
    },
    "id": "DPzCb-2F6cgo",
    "outputId": "cfd748f8-aeb6-4cfc-ec8f-864ee5c0643d"
   },
   "outputs": [],
   "source": [
    "df[\"category\"] = df[\"category\"].apply(categories.get)\n",
    "df"
   ]
  },
  {
   "cell_type": "markdown",
   "execution_count": null,
   "metadata": {},
   "outputs": [],
   "source": [
    "The base rate on this problem is the proportion of the data set occupied by the largest label class: "
   ]
  },
  {
   "cell_type": "code",
   "execution_count": null,
   "metadata": {},
   "outputs": [],
   "source": [
    "df.groupby(\"category\").size() / len(df)"
   ]
  },
  {
   "cell_type": "markdown",
   "execution_count": null,
   "metadata": {},
   "outputs": [],
   "source": [
    "If we always guessed category 1, then we would expect an accuracy of roughly 35%. So, our task is to see whether we can train a model to beat this. "
   ]
  },
  {
   "cell_type": "markdown",
   "execution_count": null,
   "metadata": {
    "id": "cw7SoCFfSPFS"
   },
   "outputs": [],
   "source": [
    "Next we need to wrap this Pandas dataframe as a Torch data set. While we've been using pre-implemented Torch classes for things like directories of images, in this case it's not so hard to just implement our own Dataset. We just need to implement `__getitem__()` to return the appropriate row of the dataframe. "
   ]
  },
  {
   "cell_type": "code",
   "execution_count": null,
   "metadata": {
    "id": "RVBnABQj-JK8"
   },
   "outputs": [],
   "source": [
    "from torch.utils.data import Dataset, DataLoader\n",
    "\n",
    "class TextDataFromDF(Dataset):\n",
    "    def __init__(self, df):\n",
    "        self.df = df\n",
    "    \n",
    "    def __getitem__(self, index):\n",
    "        return self.df.iloc[index, 1], self.df.iloc[index, 0]\n",
    "\n",
    "    def __len__(self):\n",
    "        return len(self.df)                "
   ]
  },
  {
   "cell_type": "markdown",
   "execution_count": null,
   "metadata": {
    "id": "hB1dLvKTSt5_"
   },
   "outputs": [],
   "source": [
    "Now let's perform a train-validation split and make Datasets from each one. "
   ]
  },
  {
   "cell_type": "code",
   "execution_count": null,
   "metadata": {
    "id": "_n2sL27cTGmH"
   },
   "outputs": [],
   "source": [
    "df_train, df_val = train_test_split(df,shuffle = True, test_size = 0.2)\n",
    "train_data = TextDataFromDF(df_train)\n",
    "val_data   = TextDataFromDF(df_val)"
   ]
  },
  {
   "cell_type": "markdown",
   "execution_count": null,
   "metadata": {
    "id": "DrvMizMKT7xB"
   },
   "outputs": [],
   "source": [
    "Each element of our data sets is a tuple of text and label: "
   ]
  },
  {
   "cell_type": "code",
   "execution_count": null,
   "metadata": {
    "colab": {
     "base_uri": "https://localhost:8080/"
    },
    "id": "Y6PuAee5UMDh",
    "outputId": "3a6af575-8fa6-4fa5-f63f-0ed3b1755559"
   },
   "outputs": [],
   "source": [
    "train_data[194]"
   ]
  },
  {
   "cell_type": "markdown",
   "execution_count": null,
   "metadata": {
    "id": "1EPyRjXrURyi"
   },
   "outputs": [],
   "source": [
    "## Text Vectorization\n",
    "\n",
    "Now we need to vectorize our text. The most classical way to do this is via one-hot encodings. We're not going to do this; instead we are going to treat each sentence as a sequence of words, and identify each word via an integer index. First we'll use a *tokenizer* to split each sentence into individual words: "
   ]
  },
  {
   "cell_type": "code",
   "execution_count": null,
   "metadata": {
    "colab": {
     "base_uri": "https://localhost:8080/"
    },
    "id": "HzscJseA7EoZ",
    "outputId": "f6e3274d-7d15-45f9-f9e4-728aa9c5327d"
   },
   "outputs": [],
   "source": [
    "from torchtext.data.utils import get_tokenizer\n",
    "from torchtext.vocab import build_vocab_from_iterator\n",
    "\n",
    "tokenizer = get_tokenizer('basic_english')\n",
    "\n",
    "tokenized = tokenizer(train_data[194][0])\n",
    "tokenized"
   ]
  },
  {
   "cell_type": "markdown",
   "execution_count": null,
   "metadata": {
    "id": "IScciv9fVPCh"
   },
   "outputs": [],
   "source": [
    "You might reasonably disagree about whether this is a good tokenization: should punctuation marks be included? Should \"you're\" really have become \"you\", \"'\", and \"re\"? These are excellent questions that we won't discuss too much further right now. \n",
    "\n",
    "We're now ready to build a *vocabulary*. A vocabulary is a mapping from words to integers. The code below loops through the training data and uses it to build such a mapping. "
   ]
  },
  {
   "cell_type": "code",
   "execution_count": null,
   "metadata": {
    "id": "V7NlpLEYTYvE"
   },
   "outputs": [],
   "source": [
    "def yield_tokens(data_iter):\n",
    "    for text, _ in data_iter:\n",
    "        yield tokenizer(text)\n",
    "\n",
    "vocab = build_vocab_from_iterator(yield_tokens(train_data), specials=[\"<unk>\"])\n",
    "vocab.set_default_index(vocab[\"<unk>\"])"
   ]
  },
  {
   "cell_type": "markdown",
   "execution_count": null,
   "metadata": {
    "id": "586ITAVzV8AT"
   },
   "outputs": [],
   "source": [
    "Here are the first couple elements of the vocabulary: "
   ]
  },
  {
   "cell_type": "code",
   "execution_count": null,
   "metadata": {
    "colab": {
     "base_uri": "https://localhost:8080/"
    },
    "id": "T0EG4V74V-Hg",
    "outputId": "447390e1-83f2-4f13-96b7-bc99b3a6b610"
   },
   "outputs": [],
   "source": [
    "vocab.get_itos()[0:10]"
   ]
  },
  {
   "cell_type": "markdown",
   "execution_count": null,
   "metadata": {
    "id": "OKD0tFt8V4Mg"
   },
   "outputs": [],
   "source": [
    "This vocabulary can be applied on a list of tokens like this: "
   ]
  },
  {
   "cell_type": "code",
   "execution_count": null,
   "metadata": {
    "colab": {
     "base_uri": "https://localhost:8080/"
    },
    "id": "6GyZGy0DTtCR",
    "outputId": "7b2ace4d-34a3-457c-a3d5-d0ff4a6aa75c"
   },
   "outputs": [],
   "source": []
  },
  {
   "attachments": {},
   "cell_type": "markdown",
   "execution_count": null,
   "metadata": {
    "id": "naVpI_owWY1O"
   },
   "outputs": [],
   "source": [
    "# Batch Collation\n",
    "\n",
    "Now we're ready to construct the function that is going to actually pass a batch of data to our training loop. Here are the main steps: \n",
    "\n",
    "1. We pull some feature data (i.e. a batch of headlines). \n",
    "2. We represent each headline as a sequence of integers using the `vocab`. \n",
    "3. We pad the headlines with an unused integer index if necessary so that all headlines have the same length. This index corresponds to \"blank\" or \"no words in this slot.\" \n",
    "4. We return the batch of headlines as a consolidated tensor. "
   ]
  },
  {
   "cell_type": "code",
   "execution_count": null,
   "metadata": {},
   "outputs": [],
   "source": [
    "max_len = 30\n",
    "num_tokens = len(vocab.get_itos())\n",
    "def text_pipeline(x):\n",
    "    tokens = vocab(tokenizer(x))\n",
    "    y = torch.zeros(max_len, dtype=torch.int64) + num_tokens\n",
    "    if len(tokens) > max_len:\n",
    "        tokens = tokens[0:max_len]\n",
    "    y[0:len(tokens)] = torch.tensor(tokens,dtype=torch.int64)\n",
    "    return y\n",
    "\n",
    "label_pipeline = lambda x: int(x)"
   ]
  },
  {
   "cell_type": "code",
   "execution_count": null,
   "metadata": {},
   "outputs": [],
   "source": []
  },
  {
   "cell_type": "code",
   "execution_count": null,
   "metadata": {
    "id": "7stGe3YaUVw0"
   },
   "outputs": [],
   "source": [
    "def collate_batch(batch):\n",
    "    label_list, text_list = [], []\n",
    "    for (_text, _label) in batch:\n",
    "\n",
    "        # add label to list\n",
    "         label_list.append(label_pipeline(_label))\n",
    "\n",
    "         # add text (as sequence of integers) to list\n",
    "         processed_text = text_pipeline(_text)\n",
    "         text_list.append(processed_text)\n",
    "\n",
    "    label_list = torch.tensor(label_list, dtype=torch.int64)\n",
    "    text_list = torch.stack(text_list)\n",
    "    return text_list.to(device), label_list.to(device)"
   ]
  },
  {
   "cell_type": "code",
   "execution_count": null,
   "metadata": {
    "id": "d3g5vnO7UZ0p"
   },
   "outputs": [],
   "source": [
    "train_loader = DataLoader(train_data, batch_size=8, shuffle=True, collate_fn=collate_batch)\n",
    "val_loader = DataLoader(val_data, batch_size=8, shuffle=True, collate_fn=collate_batch)"
   ]
  },
  {
   "cell_type": "markdown",
   "execution_count": null,
   "metadata": {
    "id": "X3KCgLc6YU3f"
   },
   "outputs": [],
   "source": [
    "Let's take a look at a batch of data now: "
   ]
  },
  {
   "cell_type": "code",
   "execution_count": null,
   "metadata": {
    "colab": {
     "base_uri": "https://localhost:8080/"
    },
    "id": "e1-w7y8oFOgc",
    "outputId": "98e6a698-98d2-45f9-aeba-7b91c12f9619"
   },
   "outputs": [],
   "source": []
  },
  {
   "attachments": {},
   "cell_type": "markdown",
   "execution_count": null,
   "metadata": {
    "id": "LjJtEx-yYdAz"
   },
   "outputs": [],
   "source": [
    "The first element is the list of labels. The second is the concatenated sequence of integers representing 8 headlines worth of text. The final one is the list of offsets that tells us where each of the 8 headlines begins. \n",
    "\n",
    "## Modeling\n",
    "\n",
    "### Word Embedding\n",
    "\n",
    "A *word embedding* refers to a representation of a word in a vector space. Each word is assigned an individual vector. The general aim of a word embedding is to create a representation such that words with related meanings are close to each other in a vector space, while words with different meanings are farther apart. One usually hopes for the *directions* connecting words to be meaningful as well. Here's a nice diagram illustrating some of the general concepts: \n",
    "\n",
    "![](https://miro.medium.com/max/1838/1*OEmWDt4eztOcm5pr2QbxfA.png)\n",
    "\n",
    "*Image credit: [Towards Data Science](https://towardsdatascience.com/creating-word-embeddings-coding-the-word2vec-algorithm-in-python-using-deep-learning-b337d0ba17a8)*\n",
    "\n",
    "Word embeddings are often produced as intermediate stages in many machine learning algorithms. In our case, we're going to add an embedding layer at the very base of our model. We'll allow the user to flexibly specify the number of dimensions. \n",
    "\n",
    "We'll typically expect pretty low-dimensional embeddings for this lecture, but state-of-the-art embeddings will typically have a much higher number of dimensions. For example, the [Embedding Projector demo](http://projector.tensorflow.org/) supplied by TensorFlow uses a default dimension of 200. "
   ]
  },
  {
   "cell_type": "code",
   "execution_count": null,
   "metadata": {},
   "outputs": [],
   "source": [
    "from torch import nn\n",
    "\n",
    "class TextClassificationModel(nn.Module):\n",
    "    \n",
    "    def __init__(self,vocab_size, embedding_dim, max_len, num_class):\n",
    "        super().__init__()\n",
    "        self.embedding = nn.Embedding(vocab_size+1, embedding_dim)\n",
    "        self.fc   = nn.Linear(max_len*embedding_dim, num_class)\n",
    "        \n",
    "    def forward(self, x):\n",
    "        x = self.embedding(x)\n",
    "        x = torch.flatten(x, 1)\n",
    "        x = self.fc(x)\n",
    "        return(x)"
   ]
  },
  {
   "cell_type": "markdown",
   "execution_count": null,
   "metadata": {
    "id": "nzqYh85bbcV6"
   },
   "outputs": [],
   "source": [
    "Let's learn and train a model! "
   ]
  },
  {
   "cell_type": "code",
   "execution_count": null,
   "metadata": {
    "id": "HC4S2B1lVCJE"
   },
   "outputs": [],
   "source": [
    "vocab_size = len(vocab)\n",
    "embedding_dim = 3\n",
    "model = TextClassificationModel(vocab_size, embedding_dim, max_len, 3).to(device)"
   ]
  },
  {
   "cell_type": "code",
   "execution_count": null,
   "metadata": {},
   "outputs": [],
   "source": [
    "INPUT_SHAPE = (1,max_len)\n",
    "summary(model, INPUT_SHAPE, dtypes=[torch.long])"
   ]
  },
  {
   "cell_type": "code",
   "execution_count": null,
   "metadata": {
    "id": "rIyrmwb-VJvb"
   },
   "outputs": [],
   "source": [
    "import time\n",
    "\n",
    "optimizer = torch.optim.Adam(model.parameters(), lr=.1)\n",
    "loss_fn = torch.nn.CrossEntropyLoss()\n",
    "\n",
    "def train(dataloader):\n",
    "    epoch_start_time = time.time()\n",
    "    # keep track of some counts for measuring accuracy\n",
    "    total_acc, total_count = 0, 0\n",
    "    log_interval = 300\n",
    "    start_time = time.time()\n",
    "\n",
    "    for idx, (text, label) in enumerate(dataloader):\n",
    "        # zero gradients\n",
    "        optimizer.zero_grad()\n",
    "        # form prediction on batch\n",
    "        predicted_label = model(text)\n",
    "        # evaluate loss on prediction\n",
    "        loss = loss_fn(predicted_label, label)\n",
    "        # compute gradient\n",
    "        loss.backward()\n",
    "        # take an optimization step\n",
    "        optimizer.step()\n",
    "\n",
    "        # for printing accuracy\n",
    "        total_acc   += (predicted_label.argmax(1) == label).sum().item()\n",
    "        total_count += label.size(0)\n",
    "        \n",
    "    print(f'| epoch {epoch:3d} | train accuracy {total_acc/total_count:8.3f} | time: {time.time() - epoch_start_time:5.2f}s')\n",
    "    # print('| end of epoch {:3d} | time: {:5.2f}s | '.format(epoch,\n",
    "    #                                        time.time() - epoch_start_time))\n",
    "    \n",
    "def evaluate(dataloader):\n",
    "\n",
    "    total_acc, total_count = 0, 0\n",
    "\n",
    "    with torch.no_grad():\n",
    "        for idx, (text, label) in enumerate(dataloader):\n",
    "            predicted_label = model(text)\n",
    "            total_acc += (predicted_label.argmax(1) == label).sum().item()\n",
    "            total_count += label.size(0)\n",
    "    return total_acc/total_count"
   ]
  },
  {
   "cell_type": "code",
   "execution_count": null,
   "metadata": {
    "colab": {
     "base_uri": "https://localhost:8080/"
    },
    "id": "VZ9VNwzFVKmv",
    "outputId": "c7efbe25-d0a2-4225-d814-e1af7bd4ffaf"
   },
   "outputs": [],
   "source": []
  },
  {
   "cell_type": "code",
   "execution_count": null,
   "metadata": {
    "colab": {
     "base_uri": "https://localhost:8080/"
    },
    "id": "Mt44xzYvbwmG",
    "outputId": "9be492a0-41ab-4d49-ceff-34ebb268b3ba"
   },
   "outputs": [],
   "source": []
  },
  {
   "cell_type": "markdown",
   "execution_count": null,
   "metadata": {
    "id": "hRPsk1JJeskR"
   },
   "outputs": [],
   "source": [
    "Our accuracy on validation data is much lower than what we achieved on the training data. This is a possible sign of overfitting. Regardless, this predictive performance is much better than the roughly 34% that we would have achieved by guesswork: "
   ]
  },
  {
   "cell_type": "markdown",
   "execution_count": null,
   "metadata": {
    "id": "eRmd06Ffe-4J"
   },
   "outputs": [],
   "source": [
    "## Inspecting Word Embeddings\n",
    "\n",
    "Recall from our discussion of image classification that the intermediate layers learned by the model can help us understand the representations that the model uses to construct its final outputs. In the case of word embeddings, we can simply extract this matrix from the corresponding layer of the model: "
   ]
  },
  {
   "cell_type": "code",
   "execution_count": null,
   "metadata": {
    "id": "jW32MQ1PFtk3"
   },
   "outputs": [],
   "source": []
  },
  {
   "cell_type": "markdown",
   "execution_count": null,
   "metadata": {
    "id": "kBLDZVqyhpei"
   },
   "outputs": [],
   "source": [
    "Let's also extract the words from our vocabular: "
   ]
  },
  {
   "cell_type": "code",
   "execution_count": null,
   "metadata": {
    "id": "I4xqf15nGlSW"
   },
   "outputs": [],
   "source": [
    "tokens = vocab.get_itos()"
   ]
  },
  {
   "cell_type": "markdown",
   "execution_count": null,
   "metadata": {
    "id": "vtGHSZoBhtkX"
   },
   "outputs": [],
   "source": [
    "The embedding matrix itself has 3 columns, which is too many for us to conveniently visualize. So, instead we are going to use our friend PCA to extract a 2-dimensional representation that we can plot. "
   ]
  },
  {
   "cell_type": "code",
   "execution_count": null,
   "metadata": {
    "id": "LdG3cJF1HNIl"
   },
   "outputs": [],
   "source": [
    "from sklearn.decomposition import PCA\n",
    "pca = PCA(n_components=2)\n",
    "weights = pca.fit_transform(embedding_matrix)"
   ]
  },
  {
   "cell_type": "markdown",
   "execution_count": null,
   "metadata": {
    "id": "pj_EJzYZh2eo"
   },
   "outputs": [],
   "source": [
    "We'll use the Plotly package to do the plotting. Plotly works best with dataframes: "
   ]
  },
  {
   "cell_type": "code",
   "execution_count": null,
   "metadata": {
    "colab": {
     "base_uri": "https://localhost:8080/",
     "height": 423
    },
    "id": "-LAMah-AHcbt",
    "outputId": "eaed0eb6-cbaa-4877-ff06-fc1b60721359"
   },
   "outputs": [],
   "source": [
    "tokens = vocab.get_itos()\n",
    "tokens.append(\" \")\n",
    "embedding_df = pd.DataFrame({\n",
    "    'word' : tokens, \n",
    "    'x0'   : weights[:,0],\n",
    "    'x1'   : weights[:,1]\n",
    "})\n",
    "\n",
    "embedding_df"
   ]
  },
  {
   "cell_type": "markdown",
   "execution_count": null,
   "metadata": {
    "id": "la_zN3B0h7Ry"
   },
   "outputs": [],
   "source": [
    "And, let's plot! We've used Plotly for the interactivity: hover over a dot to see the word it corresponds to. "
   ]
  },
  {
   "cell_type": "code",
   "execution_count": null,
   "metadata": {
    "colab": {
     "base_uri": "https://localhost:8080/",
     "height": 542
    },
    "id": "b0yeW65qHkFY",
    "outputId": "4ea01cb9-bd75-4065-f79f-89d095fa4537"
   },
   "outputs": [],
   "source": [
    "fig = px.scatter(embedding_df, \n",
    "                 x = \"x0\", \n",
    "                 y = \"x1\", \n",
    "                 size = list(np.ones(len(embedding_df))),\n",
    "                 size_max = 10,\n",
    "                 hover_name = \"word\")\n",
    "\n",
    "fig.show()"
   ]
  },
  {
   "cell_type": "markdown",
   "execution_count": null,
   "metadata": {
    "id": "guz5RCNEiOsO"
   },
   "outputs": [],
   "source": [
    "We've made an embedding! We might notice that this embedding appears to be a little bit \"stretched out\" in three main directions. Each one corresponds to one of the three classes in our training data. \n",
    "\n",
    "## Bias in Text Embeddings\n",
    "\n",
    "Whenever we create a machine learning model that might conceivably have impact on the thoughts or actions of human beings, we have a responsibility to understand the limitations and biases of that model. Biases can enter into machine learning models through several routes, including the data used as well as choices made by the modeler along the way. For example, in our case: \n",
    "\n",
    "1. **Data**: we used data from a popular news source. \n",
    "2. **Modeler choice**: we only used data corresponding to a certain subset of labels. \n",
    "\n",
    "With these considerations in mind, let's see what kinds of words our model associates with female and male genders. "
   ]
  },
  {
   "cell_type": "code",
   "execution_count": null,
   "metadata": {
    "id": "t4iRk0XcI3aZ"
   },
   "outputs": [],
   "source": [
    "feminine = [\"she\", \"her\", \"woman\"]\n",
    "masculine = [\"he\", \"him\", \"man\"]\n",
    "\n",
    "highlight_1 = [\"strong\", \"powerful\", \"smart\",     \"thinking\", \"brave\", \"muscle\"]\n",
    "highlight_2 = [\"hot\",    \"sexy\",     \"beautiful\", \"shopping\", \"children\", \"thin\"]\n",
    "\n",
    "def gender_mapper(x):\n",
    "    if x in feminine:\n",
    "        return 1\n",
    "    elif x in masculine:\n",
    "        return 4\n",
    "    elif x in highlight_1:\n",
    "        return 3\n",
    "    elif x in highlight_2:\n",
    "        return 2\n",
    "    else:\n",
    "        return 0\n",
    "\n",
    "embedding_df[\"highlight\"] = embedding_df[\"word\"].apply(gender_mapper)\n",
    "embedding_df[\"size\"]      = np.array(1.0 + 50*(embedding_df[\"highlight\"] > 0))\n",
    "\n",
    "# \n",
    "sub_df = embedding_df[embedding_df[\"highlight\"] > 0]"
   ]
  },
  {
   "cell_type": "code",
   "execution_count": null,
   "metadata": {
    "colab": {
     "base_uri": "https://localhost:8080/",
     "height": 542
    },
    "id": "nCn5ohur83eY",
    "outputId": "f92609a5-b848-4067-bc4b-2d815b5d037e"
   },
   "outputs": [],
   "source": [
    "import plotly.express as px \n",
    "\n",
    "fig = px.scatter(sub_df, \n",
    "                 x = \"x0\", \n",
    "                 y = \"x1\", \n",
    "                 color = \"highlight\",\n",
    "                 size = list(sub_df[\"size\"]),\n",
    "                 size_max = 10,\n",
    "                 hover_name = \"word\", \n",
    "                 text = \"word\")\n",
    "\n",
    "fig.update_traces(textposition='top center')\n",
    "\n",
    "\n",
    "fig.show()"
   ]
  },
  {
   "attachments": {},
   "cell_type": "markdown",
   "execution_count": null,
   "metadata": {
    "id": "eQ--iXLFiwaJ"
   },
   "outputs": [],
   "source": [
    "What do you notice about some of the similarities represented in these embeddings? What do you wonder? \n",
    "\n",
    "## Representational Harm and Representational Bias\n",
    "\n",
    "Earlier in this course, we discussed *allocative bias*. Allocative bias occurs when different groups have inequitable opportunities to access important resources or opportunities on the basis of their identity. We discussed examples that raised questions about equitable access to personal liberty, employment, and insurance. \n",
    "\n",
    "*Representational bias* refers to the systematic cultural representation of marginalized groups in harmful ways, or of denying them cultural representation at all. The perpetuation of *harmful stereotypes* is perhaps the most well-known form of representational harm. *Erasure* is another form of representational harm in which representations or topics of interest to marginalized groups are suppressed. \n",
    "\n",
    "Here's a very recent example (from Margaret Mitchell) illustrating how representational gender bias shows up in ChatGPT: \n",
    "\n",
    "<blockquote class=\"twitter-tweet\"><p lang=\"en\" dir=\"ltr\">I replicated this (my screenshot below).<br>Really great example of gender bias, for those of you who need a canonical example to make the point. <a href=\"https://t.co/O1A8Tk7oI1\">https://t.co/O1A8Tk7oI1</a> <a href=\"https://t.co/hKt4HSBzh3\">pic.twitter.com/hKt4HSBzh3</a></p>&mdash; MMitchell (@mmitchell_ai) <a href=\"https://twitter.com/mmitchell_ai/status/1650110045781393410?ref_src=twsrc%5Etfw\">April 23, 2023</a></blockquote> <script async src=\"https://platform.twitter.com/widgets.js\" charset=\"utf-8\"></script>\n",
    "\n",
    "Another form of representational harm in ML systems is the famous historical tendency of Google Search to surface demeaning and offensive search results related to people of color. This tendency was studied by Dr. Safiya Noble in her book *Algorithms of Oppression*. In one of Dr. Nobel's most famous examples, top results for the phrase \"black girls\" in 2011 consisted of links to porn sites, which did not hold true of searches for \"white girls\" or \"black men.\" As late as 2016, an image search for \"gorillas\" would surface pictures of Black individuals. You can find a brief synopsis of some of Dr. Noble's findings [here](https://time.com/5209144/google-search-engine-algorithm-bias-racism/) (content warning: highly sexually explicit language).  Google has since taken steps to improve these specific examples. \n",
    "\n",
    "### Bias in Google Translate \n",
    "\n",
    "It is well-documented that machine learning algorithms trained on natural text can inherit biases present in those texts. One of the most direct ways in which we can observe such bias is in Google Translate. Some languages, such as Hungarian, do not possess gendered pronouns. When Google Translate attempts to render these pronouns into a gendered language like English, assumptions are made, as pointed out in [this Tweet by Dora Vargha](https://twitter.com/DoraVargha/status/1373211762108076034?ref_src=twsrc%5Etfw%7Ctwcamp%5Etweetembed%7Ctwterm%5E1373211762108076034%7Ctwgr%5E%7Ctwcon%5Es1_&ref_url=https%3A%2F%2Fd-7356743851859968838.ampproject.net%2F2103240330002%2Fframe.html).  Let's demonstrate with the following English sentences. \n",
    "\n",
    "> **he** cooks.\n",
    "> **she** is a political leader.\n",
    "> **she** is an engineer.\n",
    "> **he** is a cleaner.\n",
    "> **he** is beautiful. \n",
    "> **she** is strong. \n",
    "\n",
    "Translate these into Hungarian and back via Google Translate, and here's what you'll get: \n",
    "\n",
    "> **she** cooks.\n",
    "> **he** is a political leader.\n",
    "> **he** is an engineer.\n",
    "> **she** is cleaning.\n",
    "> **she** is beautiful.\n",
    "> **he** is strong.\n",
    "\n",
    "Considering that English *has* a gender neutral pronoun (*they*), this would be an easy item to fix, which Google has thus far declined to do. \n",
    "\n",
    "## Intersections of Representational and Allocative Harms \n",
    "\n",
    "In some cases, representational and allocative harms can intersect and reinforce each other. For example, modern translation systems perform impressively in certain languages but much less well in others. Some of these languages, such as Pashto and Dari, are spoken by many refugees and asylum-seekers to the US. The use of automated translation software when processing these asylum cases has drawn considerable scrutiny and [appears to have resulted in the denial of at least one case](https://restofworld.org/2023/ai-translation-errors-afghan-refugees-asylum/) due to a machine translation error.  \n",
    "\n",
    "## More on Bias in Language Models\n",
    "\n",
    "For more on the topic of bias in language models, you may wish to read the now-infamous paper by Emily Bender, Angelina McMillan-Major, Timnit Gebru, and \"Shmargret Shmitchell\" (Margaret Mitchell), \"[On the Dangers of Stochastic Parrots](https://faculty.washington.edu/ebender/papers/Stochastic_Parrots.pdf).\" This is the paper that ultimately led to the firing of the final two authors by Google in late 2020 and early 2021. "
   ]
  }
 ],
 "metadata": {
  "accelerator": "GPU",
  "colab": {
   "authorship_tag": "ABX9TyNqg/CAncHESRiKP7ztpmQi",
   "include_colab_link": true,
   "provenance": []
  },
  "gpuClass": "standard",
  "kernelspec": {
   "display_name": "Python 3",
   "name": "python3"
  },
  "language_info": {
   "codemirror_mode": {
    "name": "ipython",
    "version": 3
   },
   "file_extension": ".py",
   "mimetype": "text/x-python",
   "name": "python",
   "nbconvert_exporter": "python",
   "pygments_lexer": "ipython3",
   "version": "3.9.15"
  }
 },
 "nbformat": 4,
 "nbformat_minor": 0
}
